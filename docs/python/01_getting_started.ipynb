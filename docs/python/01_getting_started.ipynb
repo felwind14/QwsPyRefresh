{
 "cells": [
  {
   "cell_type": "markdown",
   "id": "4ed343f8",
   "metadata": {},
   "source": [
    "# Getting Started\n",
    "\n",
    "## Jupyter Notebook Keyboard Shortcuts\n",
    "\n",
    "-   **Shift-Enter**: run cell, select below\n",
    "-   **Ctrl-Enter**: : run selected cells\n",
    "-   **Alt-Enter**: run cell and insert below\n",
    "-   **Tab**: code completion or indent\n",
    "-   **Shift-Tab**: tooltip\n",
    "-   **Matplotlib plotting**: %matplotlib inline\n",
    "\n",
    "## References\n",
    "\n",
    "-   Matthes, Eric (2019). _Python Crash Course, 2nd Edition: A Hands-On, Project-Based Introduction to Programming_. No Starch Press. ISBN: 978-1593279288. ([Publisher website](https://nostarch.com/python-crash-course-3rd-edition))"
   ]
  }
 ],
 "metadata": {
  "kernelspec": {
   "display_name": "Python 3",
   "language": "python",
   "name": "python3"
  }
 },
 "nbformat": 4,
 "nbformat_minor": 5
}
