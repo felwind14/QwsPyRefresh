{
 "cells": [
  {
   "cell_type": "code",
   "execution_count": null,
   "metadata": {},
   "outputs": [],
   "source": [
    "# !pip install leafmap"
   ]
  },
  {
   "cell_type": "code",
   "execution_count": 1,
   "metadata": {},
   "outputs": [],
   "source": [
    "import leafmap\n",
    "import ipyleaflet"
   ]
  },
  {
   "cell_type": "code",
   "execution_count": 2,
   "metadata": {},
   "outputs": [
    {
     "data": {
      "application/vnd.jupyter.widget-view+json": {
       "model_id": "5e70441087d741c0a3bbe1048bf9b669",
       "version_major": 2,
       "version_minor": 0
      },
      "text/plain": [
       "Map(center=[52.204793, 360.121558], controls=(ZoomControl(options=['position', 'zoom_in_text', 'zoom_in_title'…"
      ]
     },
     "metadata": {},
     "output_type": "display_data"
    }
   ],
   "source": [
    "from ipyleaflet import Map, basemaps, basemap_to_tiles\n",
    "\n",
    "m = Map(\n",
    "    basemap=basemap_to_tiles(basemaps.NASAGIBS.ModisTerraTrueColorCR, \"2017-04-08\"),\n",
    "    center=(52.204793, 360.121558),\n",
    "    zoom=4\n",
    ")\n",
    "\n",
    "m"
   ]
  },
  {
   "cell_type": "code",
   "execution_count": null,
   "metadata": {},
   "outputs": [],
   "source": [
    "#m.clear_layers()  #clears layers above"
   ]
  },
  {
   "cell_type": "code",
   "execution_count": 3,
   "metadata": {},
   "outputs": [
    {
     "data": {
      "application/vnd.jupyter.widget-view+json": {
       "model_id": "f296555025b8428ab7cc01c9ce6532fa",
       "version_major": 2,
       "version_minor": 0
      },
      "text/plain": [
       "Map(center=[52.204793, 360.121558], controls=(ZoomControl(options=['position', 'zoom_in_text', 'zoom_in_title'…"
      ]
     },
     "metadata": {},
     "output_type": "display_data"
    }
   ],
   "source": [
    "from ipyleaflet import Map, basemaps, basemap_to_tiles\n",
    "\n",
    "m = Map(\n",
    "    basemap=basemap_to_tiles(basemaps.OpenTopoMap),\n",
    "    center=(52.204793, 360.121558),\n",
    "    zoom=4\n",
    ")\n",
    "\n",
    "m"
   ]
  },
  {
   "cell_type": "code",
   "execution_count": 4,
   "metadata": {},
   "outputs": [],
   "source": [
    "import leafmap"
   ]
  },
  {
   "cell_type": "code",
   "execution_count": 5,
   "metadata": {},
   "outputs": [
    {
     "data": {
      "application/vnd.jupyter.widget-view+json": {
       "model_id": "31396f8d7e7b4a1b927ca00cb856e26d",
       "version_major": 2,
       "version_minor": 0
      },
      "text/plain": [
       "Map(center=[20, 0], controls=(ZoomControl(options=['position', 'zoom_in_text', 'zoom_in_title', 'zoom_out_text…"
      ]
     },
     "metadata": {},
     "output_type": "display_data"
    }
   ],
   "source": [
    "m = leafmap.Map()\n",
    "m"
   ]
  },
  {
   "cell_type": "code",
   "execution_count": 6,
   "metadata": {},
   "outputs": [
    {
     "data": {
      "application/vnd.jupyter.widget-view+json": {
       "model_id": "4d818f3517c24c00a9b1df12029b31a4",
       "version_major": 2,
       "version_minor": 0
      },
      "text/plain": [
       "Map(center=[20, 0], controls=(ZoomControl(options=['position', 'zoom_in_text', 'zoom_in_title', 'zoom_out_text…"
      ]
     },
     "metadata": {},
     "output_type": "display_data"
    }
   ],
   "source": [
    "m = leafmap.Map()\n",
    "m.add_basemap()\n",
    "m"
   ]
  },
  {
   "cell_type": "code",
   "execution_count": 1,
   "metadata": {},
   "outputs": [],
   "source": [
    "##11_a: Adding the layers control to the map using the newly created function on geosdemo.py\n",
    "\n",
    "import geosdemo\n"
   ]
  },
  {
   "cell_type": "code",
   "execution_count": 2,
   "metadata": {},
   "outputs": [
    {
     "name": "stdout",
     "output_type": "stream",
     "text": [
      "this is what the user is providing:{'scroll_wheel_zoom': True}\n",
      "{'scroll_wheel_zoom': True}\n",
      "{'scroll_wheel_zoom': True, 'layers_control': True}\n",
      "{'scroll_wheel_zoom': True, 'layers_control': True, 'fullscreen_control': True}\n"
     ]
    },
    {
     "data": {
      "application/vnd.jupyter.widget-view+json": {
       "model_id": "2c240e65fc1f4d9dbc02b3cfc7214cd8",
       "version_major": 2,
       "version_minor": 0
      },
      "text/plain": [
       "Map(center=[20, 0], controls=(ZoomControl(options=['position', 'zoom_in_text', 'zoom_in_title', 'zoom_out_text…"
      ]
     },
     "metadata": {},
     "output_type": "display_data"
    }
   ],
   "source": [
    "m = geosdemo.Map()\n",
    "m"
   ]
  },
  {
   "cell_type": "code",
   "execution_count": 3,
   "metadata": {},
   "outputs": [
    {
     "ename": "TypeError",
     "evalue": "add_layers_control() got an unexpected keyword argument 'layers_control'",
     "output_type": "error",
     "traceback": [
      "\u001b[0;31m---------------------------------------------------------------------------\u001b[0m",
      "\u001b[0;31mTypeError\u001b[0m                                 Traceback (most recent call last)",
      "Cell \u001b[0;32mIn[3], line 3\u001b[0m\n\u001b[1;32m      1\u001b[0m \u001b[39m#Add layers control coomes inherited from ipyleaflet and created on geos demo\u001b[39;00m\n\u001b[0;32m----> 3\u001b[0m m\u001b[39m.\u001b[39;49madd_layers_control(layers_control \u001b[39m=\u001b[39;49m \u001b[39mFalse\u001b[39;49;00m)  \u001b[39m#tHGIS PRODUCES AN ERROR\u001b[39;00m\n",
      "\u001b[0;31mTypeError\u001b[0m: add_layers_control() got an unexpected keyword argument 'layers_control'"
     ]
    }
   ],
   "source": [
    "#Add layers control coomes inherited from ipyleaflet and created on geos demo\n",
    "\n",
    "m.add_layers_control(layers_control = False)  #tHGIS PRODUCES AN ERROR"
   ]
  },
  {
   "cell_type": "code",
   "execution_count": 4,
   "metadata": {},
   "outputs": [
    {
     "name": "stdout",
     "output_type": "stream",
     "text": [
      "this is what the user is providing:{'layers_control': False, 'scroll_wheel_zoom': True}\n",
      "{'layers_control': False, 'scroll_wheel_zoom': True}\n",
      "{'layers_control': False, 'scroll_wheel_zoom': True}\n",
      "{'layers_control': False, 'scroll_wheel_zoom': True, 'fullscreen_control': True}\n"
     ]
    },
    {
     "data": {
      "application/vnd.jupyter.widget-view+json": {
       "model_id": "03e2c344d47a421e8da634d357c9dbc2",
       "version_major": 2,
       "version_minor": 0
      },
      "text/plain": [
       "Map(center=[20, 0], controls=(ZoomControl(options=['position', 'zoom_in_text', 'zoom_in_title', 'zoom_out_text…"
      ]
     },
     "metadata": {},
     "output_type": "display_data"
    }
   ],
   "source": [
    "m= geosdemo.Map(layers_control= False)\n",
    "m"
   ]
  },
  {
   "cell_type": "code",
   "execution_count": 5,
   "metadata": {},
   "outputs": [
    {
     "name": "stdout",
     "output_type": "stream",
     "text": [
      "this is what the user is providing:{'scroll_wheel_zoom': True}\n",
      "{'scroll_wheel_zoom': True}\n",
      "{'scroll_wheel_zoom': True, 'layers_control': True}\n",
      "{'scroll_wheel_zoom': True, 'layers_control': True, 'fullscreen_control': True}\n"
     ]
    }
   ],
   "source": [
    "import geosdemo\n",
    "\n",
    "m = geosdemo.Map()  #full_Screen just works outside "
   ]
  },
  {
   "cell_type": "code",
   "execution_count": 6,
   "metadata": {},
   "outputs": [
    {
     "data": {
      "application/vnd.jupyter.widget-view+json": {
       "model_id": "738fd24e77714785aa86912ef0dbb7ac",
       "version_major": 2,
       "version_minor": 0
      },
      "text/plain": [
       "Map(center=[20, 0], controls=(ZoomControl(options=['position', 'zoom_in_text', 'zoom_in_title', 'zoom_out_text…"
      ]
     },
     "metadata": {},
     "output_type": "display_data"
    }
   ],
   "source": [
    "m"
   ]
  },
  {
   "cell_type": "code",
   "execution_count": 7,
   "metadata": {},
   "outputs": [
    {
     "name": "stdout",
     "output_type": "stream",
     "text": [
      "this is what the user is providing:{'layers_control': True, 'scroll_wheel_zoom': True}\n",
      "{'layers_control': True, 'scroll_wheel_zoom': True}\n",
      "{'layers_control': True, 'scroll_wheel_zoom': True}\n",
      "{'layers_control': True, 'scroll_wheel_zoom': True, 'fullscreen_control': True}\n"
     ]
    },
    {
     "data": {
      "application/vnd.jupyter.widget-view+json": {
       "model_id": "1dc7f5ac44bf4bcd89a4ccc0861952f7",
       "version_major": 2,
       "version_minor": 0
      },
      "text/plain": [
       "Map(center=[20, 0], controls=(ZoomControl(options=['position', 'zoom_in_text', 'zoom_in_title', 'zoom_out_text…"
      ]
     },
     "metadata": {},
     "output_type": "display_data"
    }
   ],
   "source": [
    "#Putting basemap\n",
    "import geosdemo\n",
    "\n",
    "m = geosdemo.Map(layers_control= True)\n",
    "m  "
   ]
  },
  {
   "cell_type": "code",
   "execution_count": 8,
   "metadata": {},
   "outputs": [],
   "source": [
    "#base map addition results cells above\n",
    "url = 'http://mt0.google.com/vt/lyrs=y&hl=en&x={x}&y={y}&z={z}'\n",
    "\n",
    "import ipyleaflet\n",
    "\n",
    "layer = ipyleaflet.TileLayer(url=url, name = \"google satellite\", attribution = \"Google\")\n",
    "m.add_layer(layer)"
   ]
  },
  {
   "cell_type": "code",
   "execution_count": 9,
   "metadata": {},
   "outputs": [],
   "source": [
    "\n",
    "#using geos demo with added function \n",
    "import geosdemo"
   ]
  },
  {
   "cell_type": "code",
   "execution_count": 10,
   "metadata": {},
   "outputs": [
    {
     "name": "stdout",
     "output_type": "stream",
     "text": [
      "this is what the user is providing:{'scroll_wheel_zoom': True}\n",
      "{'scroll_wheel_zoom': True}\n",
      "{'scroll_wheel_zoom': True, 'layers_control': True}\n",
      "{'scroll_wheel_zoom': True, 'layers_control': True, 'fullscreen_control': True}\n"
     ]
    },
    {
     "data": {
      "application/vnd.jupyter.widget-view+json": {
       "model_id": "98cf4e665bb34c0a879626b8c7eed804",
       "version_major": 2,
       "version_minor": 0
      },
      "text/plain": [
       "Map(center=[20, 0], controls=(ZoomControl(options=['position', 'zoom_in_text', 'zoom_in_title', 'zoom_out_text…"
      ]
     },
     "metadata": {},
     "output_type": "display_data"
    }
   ],
   "source": [
    "m =geosdemo.Map()  #this gives you the flat map\n",
    "m"
   ]
  },
  {
   "cell_type": "code",
   "execution_count": 11,
   "metadata": {},
   "outputs": [],
   "source": [
    "url = 'http://mt0.google.com/vt/lyrs=y&hl=en&x={x}&y={y}&z={z}'\n",
    "m.add_tile_layer(url=url, name='Google maps', attribution='xxxx')"
   ]
  },
  {
   "cell_type": "code",
   "execution_count": 12,
   "metadata": {},
   "outputs": [
    {
     "name": "stdout",
     "output_type": "stream",
     "text": [
      "this is what the user is providing:{'scroll_wheel_zoom': True}\n",
      "{'scroll_wheel_zoom': True}\n",
      "{'scroll_wheel_zoom': True, 'layers_control': True}\n",
      "{'scroll_wheel_zoom': True, 'layers_control': True, 'fullscreen_control': True}\n"
     ]
    },
    {
     "data": {
      "application/vnd.jupyter.widget-view+json": {
       "model_id": "db60ef688a624049b6c85abb93ba28f7",
       "version_major": 2,
       "version_minor": 0
      },
      "text/plain": [
       "Map(center=[20, 0], controls=(ZoomControl(options=['position', 'zoom_in_text', 'zoom_in_title', 'zoom_out_text…"
      ]
     },
     "metadata": {},
     "output_type": "display_data"
    }
   ],
   "source": [
    "#road map\n",
    "\n",
    "import geosdemo\n",
    "m =geosdemo.Map()  \n",
    "m"
   ]
  },
  {
   "cell_type": "code",
   "execution_count": 13,
   "metadata": {},
   "outputs": [],
   "source": [
    "m.add_basemap(\"roadmap\")"
   ]
  },
  {
   "cell_type": "code",
   "execution_count": 14,
   "metadata": {},
   "outputs": [],
   "source": [
    "m.add_basemap(\"satellite\")"
   ]
  },
  {
   "cell_type": "code",
   "execution_count": 15,
   "metadata": {},
   "outputs": [],
   "source": [
    "#using xyz\n",
    "\n",
    "import xyzservices.providers as xyz"
   ]
  },
  {
   "cell_type": "code",
   "execution_count": 16,
   "metadata": {},
   "outputs": [
    {
     "data": {
      "text/html": [
       "\n",
       "        <div>\n",
       "        <style>\n",
       "/* CSS stylesheet for displaying xyzservices objects in Jupyter.*/\n",
       ".xyz-wrap {\n",
       "    --xyz-border-color: var(--jp-border-color2, #ddd);\n",
       "    --xyz-font-color2: var(--jp-content-font-color2, rgba(128, 128, 128, 1));\n",
       "    --xyz-background-color-white: var(--jp-layout-color1, white);\n",
       "    --xyz-background-color: var(--jp-layout-color2, rgba(128, 128, 128, 0.1));\n",
       "}\n",
       "\n",
       "html[theme=dark] .xyz-wrap,\n",
       "body.vscode-dark .xyz-wrap,\n",
       "body.vscode-high-contrast .xyz-wrap {\n",
       "    --xyz-border-color: #222;\n",
       "    --xyz-font-color2: rgba(255, 255, 255, 0.54);\n",
       "    --xyz-background-color-white: rgba(255, 255, 255, 1);\n",
       "    --xyz-background-color: rgba(255, 255, 255, 0.05);\n",
       "\n",
       "}\n",
       "\n",
       ".xyz-header {\n",
       "    padding-top: 6px;\n",
       "    padding-bottom: 6px;\n",
       "    margin-bottom: 4px;\n",
       "    border-bottom: solid 1px var(--xyz-border-color);\n",
       "}\n",
       "\n",
       ".xyz-header>div {\n",
       "    display: inline;\n",
       "    margin-top: 0;\n",
       "    margin-bottom: 0;\n",
       "}\n",
       "\n",
       ".xyz-obj,\n",
       ".xyz-name {\n",
       "    margin-left: 2px;\n",
       "    margin-right: 10px;\n",
       "}\n",
       "\n",
       ".xyz-obj {\n",
       "    color: var(--xyz-font-color2);\n",
       "}\n",
       "\n",
       ".xyz-attrs {\n",
       "    grid-column: 1 / -1;\n",
       "}\n",
       "\n",
       "dl.xyz-attrs {\n",
       "    padding: 0 5px 0 5px;\n",
       "    margin: 0;\n",
       "    display: grid;\n",
       "    grid-template-columns: 135px auto;\n",
       "    background-color: var(--xyz-background-color);\n",
       "}\n",
       "\n",
       ".xyz-attrs dt,\n",
       "dd {\n",
       "    padding: 0;\n",
       "    margin: 0;\n",
       "    float: left;\n",
       "    padding-right: 10px;\n",
       "    width: auto;\n",
       "}\n",
       "\n",
       ".xyz-attrs dt {\n",
       "    font-weight: normal;\n",
       "    grid-column: 1;\n",
       "}\n",
       "\n",
       ".xyz-attrs dd {\n",
       "    grid-column: 2;\n",
       "    white-space: pre-wrap;\n",
       "    word-break: break-all;\n",
       "}\n",
       "\n",
       ".xyz-details ul>li>label>span {\n",
       "    color: var(--xyz-font-color2);\n",
       "    padding-left: 10px;\n",
       "}\n",
       "\n",
       ".xyz-inside {\n",
       "    display: none;\n",
       "}\n",
       "\n",
       ".xyz-checkbox:checked~.xyz-inside {\n",
       "    display: contents;\n",
       "}\n",
       "\n",
       ".xyz-collapsible li>input {\n",
       "    display: none;\n",
       "}\n",
       "\n",
       ".xyz-collapsible>li>label {\n",
       "    cursor: pointer;\n",
       "}\n",
       "\n",
       ".xyz-collapsible>li>label:hover {\n",
       "    color: var(--xyz-font-color2);\n",
       "}\n",
       "\n",
       "ul.xyz-collapsible {\n",
       "    list-style: none!important;\n",
       "    padding-left: 20px!important;\n",
       "}\n",
       "\n",
       ".xyz-checkbox+label:before {\n",
       "    content: '►';\n",
       "    font-size: 11px;\n",
       "}\n",
       "\n",
       ".xyz-checkbox:checked+label:before {\n",
       "    content: '▼';\n",
       "}\n",
       "\n",
       ".xyz-wrap {\n",
       "    margin-bottom: 10px;\n",
       "}\n",
       "</style>\n",
       "            <div class=\"xyz-wrap\">\n",
       "                <div class=\"xyz-header\">\n",
       "                    <div class=\"xyz-obj\">xyzservices.Bunch</div>\n",
       "                    <div class=\"xyz-name\">15 items</div>\n",
       "                </div>\n",
       "                <div class=\"xyz-details\">\n",
       "                    <ul class=\"xyz-collapsible\">\n",
       "                        \n",
       "            <li class=\"xyz-child\">\n",
       "                <input type=\"checkbox\" id=\"e9562ab1-24d0-4418-b798-bd6c734452c0\" class=\"xyz-checkbox\"/>\n",
       "                <label for=\"e9562ab1-24d0-4418-b798-bd6c734452c0\">WorldStreetMap <span>xyzservices.TileProvider</span></label>\n",
       "                <div class=\"xyz-inside\">\n",
       "                    \n",
       "        <div>\n",
       "        \n",
       "            <div class=\"xyz-wrap\">\n",
       "                <div class=\"xyz-header\">\n",
       "                    <div class=\"xyz-obj\">xyzservices.TileProvider</div>\n",
       "                    <div class=\"xyz-name\">Esri.WorldStreetMap</div>\n",
       "                </div>\n",
       "                <div class=\"xyz-details\">\n",
       "                    <dl class=\"xyz-attrs\">\n",
       "                        <dt><span>url</span></dt><dd>https://server.arcgisonline.com/ArcGIS/rest/services/{variant}/MapServer/tile/{z}/{y}/{x}</dd><dt><span>variant</span></dt><dd>World_Street_Map</dd><dt><span>html_attribution</span></dt><dd>Tiles &copy; Esri &mdash; Source: Esri, DeLorme, NAVTEQ, USGS, Intermap, iPC, NRCAN, Esri Japan, METI, Esri China (Hong Kong), Esri (Thailand), TomTom, 2012</dd><dt><span>attribution</span></dt><dd>Tiles (C) Esri -- Source: Esri, DeLorme, NAVTEQ, USGS, Intermap, iPC, NRCAN, Esri Japan, METI, Esri China (Hong Kong), Esri (Thailand), TomTom, 2012</dd>\n",
       "                    </dl>\n",
       "                </div>\n",
       "            </div>\n",
       "        </div>\n",
       "        \n",
       "                </div>\n",
       "            </li>\n",
       "            \n",
       "            <li class=\"xyz-child\">\n",
       "                <input type=\"checkbox\" id=\"014f699e-eec2-4e61-80d9-33b94b33ba37\" class=\"xyz-checkbox\"/>\n",
       "                <label for=\"014f699e-eec2-4e61-80d9-33b94b33ba37\">DeLorme <span>xyzservices.TileProvider</span></label>\n",
       "                <div class=\"xyz-inside\">\n",
       "                    \n",
       "        <div>\n",
       "        \n",
       "            <div class=\"xyz-wrap\">\n",
       "                <div class=\"xyz-header\">\n",
       "                    <div class=\"xyz-obj\">xyzservices.TileProvider</div>\n",
       "                    <div class=\"xyz-name\">Esri.DeLorme</div>\n",
       "                </div>\n",
       "                <div class=\"xyz-details\">\n",
       "                    <dl class=\"xyz-attrs\">\n",
       "                        <dt><span>url</span></dt><dd>https://server.arcgisonline.com/ArcGIS/rest/services/{variant}/MapServer/tile/{z}/{y}/{x}</dd><dt><span>variant</span></dt><dd>Specialty/DeLorme_World_Base_Map</dd><dt><span>html_attribution</span></dt><dd>Tiles &copy; Esri &mdash; Copyright: &copy;2012 DeLorme</dd><dt><span>attribution</span></dt><dd>Tiles (C) Esri -- Copyright: (C)2012 DeLorme</dd><dt><span>min_zoom</span></dt><dd>1</dd><dt><span>max_zoom</span></dt><dd>11</dd>\n",
       "                    </dl>\n",
       "                </div>\n",
       "            </div>\n",
       "        </div>\n",
       "        \n",
       "                </div>\n",
       "            </li>\n",
       "            \n",
       "            <li class=\"xyz-child\">\n",
       "                <input type=\"checkbox\" id=\"02180714-40f9-4d2d-b6f9-8495d6a64cd7\" class=\"xyz-checkbox\"/>\n",
       "                <label for=\"02180714-40f9-4d2d-b6f9-8495d6a64cd7\">WorldTopoMap <span>xyzservices.TileProvider</span></label>\n",
       "                <div class=\"xyz-inside\">\n",
       "                    \n",
       "        <div>\n",
       "        \n",
       "            <div class=\"xyz-wrap\">\n",
       "                <div class=\"xyz-header\">\n",
       "                    <div class=\"xyz-obj\">xyzservices.TileProvider</div>\n",
       "                    <div class=\"xyz-name\">Esri.WorldTopoMap</div>\n",
       "                </div>\n",
       "                <div class=\"xyz-details\">\n",
       "                    <dl class=\"xyz-attrs\">\n",
       "                        <dt><span>url</span></dt><dd>https://server.arcgisonline.com/ArcGIS/rest/services/{variant}/MapServer/tile/{z}/{y}/{x}</dd><dt><span>variant</span></dt><dd>World_Topo_Map</dd><dt><span>html_attribution</span></dt><dd>Tiles &copy; Esri &mdash; Esri, DeLorme, NAVTEQ, TomTom, Intermap, iPC, USGS, FAO, NPS, NRCAN, GeoBase, Kadaster NL, Ordnance Survey, Esri Japan, METI, Esri China (Hong Kong), and the GIS User Community</dd><dt><span>attribution</span></dt><dd>Tiles (C) Esri -- Esri, DeLorme, NAVTEQ, TomTom, Intermap, iPC, USGS, FAO, NPS, NRCAN, GeoBase, Kadaster NL, Ordnance Survey, Esri Japan, METI, Esri China (Hong Kong), and the GIS User Community</dd>\n",
       "                    </dl>\n",
       "                </div>\n",
       "            </div>\n",
       "        </div>\n",
       "        \n",
       "                </div>\n",
       "            </li>\n",
       "            \n",
       "            <li class=\"xyz-child\">\n",
       "                <input type=\"checkbox\" id=\"93198c03-6aeb-4aff-b5b3-e8c300db293f\" class=\"xyz-checkbox\"/>\n",
       "                <label for=\"93198c03-6aeb-4aff-b5b3-e8c300db293f\">WorldImagery <span>xyzservices.TileProvider</span></label>\n",
       "                <div class=\"xyz-inside\">\n",
       "                    \n",
       "        <div>\n",
       "        \n",
       "            <div class=\"xyz-wrap\">\n",
       "                <div class=\"xyz-header\">\n",
       "                    <div class=\"xyz-obj\">xyzservices.TileProvider</div>\n",
       "                    <div class=\"xyz-name\">Esri.WorldImagery</div>\n",
       "                </div>\n",
       "                <div class=\"xyz-details\">\n",
       "                    <dl class=\"xyz-attrs\">\n",
       "                        <dt><span>url</span></dt><dd>https://server.arcgisonline.com/ArcGIS/rest/services/{variant}/MapServer/tile/{z}/{y}/{x}</dd><dt><span>variant</span></dt><dd>World_Imagery</dd><dt><span>html_attribution</span></dt><dd>Tiles &copy; Esri &mdash; Source: Esri, i-cubed, USDA, USGS, AEX, GeoEye, Getmapping, Aerogrid, IGN, IGP, UPR-EGP, and the GIS User Community</dd><dt><span>attribution</span></dt><dd>Tiles (C) Esri -- Source: Esri, i-cubed, USDA, USGS, AEX, GeoEye, Getmapping, Aerogrid, IGN, IGP, UPR-EGP, and the GIS User Community</dd>\n",
       "                    </dl>\n",
       "                </div>\n",
       "            </div>\n",
       "        </div>\n",
       "        \n",
       "                </div>\n",
       "            </li>\n",
       "            \n",
       "            <li class=\"xyz-child\">\n",
       "                <input type=\"checkbox\" id=\"7b50c739-757b-4183-bf66-8360e6f82f3f\" class=\"xyz-checkbox\"/>\n",
       "                <label for=\"7b50c739-757b-4183-bf66-8360e6f82f3f\">WorldTerrain <span>xyzservices.TileProvider</span></label>\n",
       "                <div class=\"xyz-inside\">\n",
       "                    \n",
       "        <div>\n",
       "        \n",
       "            <div class=\"xyz-wrap\">\n",
       "                <div class=\"xyz-header\">\n",
       "                    <div class=\"xyz-obj\">xyzservices.TileProvider</div>\n",
       "                    <div class=\"xyz-name\">Esri.WorldTerrain</div>\n",
       "                </div>\n",
       "                <div class=\"xyz-details\">\n",
       "                    <dl class=\"xyz-attrs\">\n",
       "                        <dt><span>url</span></dt><dd>https://server.arcgisonline.com/ArcGIS/rest/services/{variant}/MapServer/tile/{z}/{y}/{x}</dd><dt><span>variant</span></dt><dd>World_Terrain_Base</dd><dt><span>html_attribution</span></dt><dd>Tiles &copy; Esri &mdash; Source: USGS, Esri, TANA, DeLorme, and NPS</dd><dt><span>attribution</span></dt><dd>Tiles (C) Esri -- Source: USGS, Esri, TANA, DeLorme, and NPS</dd><dt><span>max_zoom</span></dt><dd>13</dd>\n",
       "                    </dl>\n",
       "                </div>\n",
       "            </div>\n",
       "        </div>\n",
       "        \n",
       "                </div>\n",
       "            </li>\n",
       "            \n",
       "            <li class=\"xyz-child\">\n",
       "                <input type=\"checkbox\" id=\"ca4c9982-ef0e-4e2b-b29e-fb2b2639c637\" class=\"xyz-checkbox\"/>\n",
       "                <label for=\"ca4c9982-ef0e-4e2b-b29e-fb2b2639c637\">WorldShadedRelief <span>xyzservices.TileProvider</span></label>\n",
       "                <div class=\"xyz-inside\">\n",
       "                    \n",
       "        <div>\n",
       "        \n",
       "            <div class=\"xyz-wrap\">\n",
       "                <div class=\"xyz-header\">\n",
       "                    <div class=\"xyz-obj\">xyzservices.TileProvider</div>\n",
       "                    <div class=\"xyz-name\">Esri.WorldShadedRelief</div>\n",
       "                </div>\n",
       "                <div class=\"xyz-details\">\n",
       "                    <dl class=\"xyz-attrs\">\n",
       "                        <dt><span>url</span></dt><dd>https://server.arcgisonline.com/ArcGIS/rest/services/{variant}/MapServer/tile/{z}/{y}/{x}</dd><dt><span>variant</span></dt><dd>World_Shaded_Relief</dd><dt><span>html_attribution</span></dt><dd>Tiles &copy; Esri &mdash; Source: Esri</dd><dt><span>attribution</span></dt><dd>Tiles (C) Esri -- Source: Esri</dd><dt><span>max_zoom</span></dt><dd>13</dd>\n",
       "                    </dl>\n",
       "                </div>\n",
       "            </div>\n",
       "        </div>\n",
       "        \n",
       "                </div>\n",
       "            </li>\n",
       "            \n",
       "            <li class=\"xyz-child\">\n",
       "                <input type=\"checkbox\" id=\"c07dd165-4e3e-419c-a145-8637bb8fc24d\" class=\"xyz-checkbox\"/>\n",
       "                <label for=\"c07dd165-4e3e-419c-a145-8637bb8fc24d\">WorldPhysical <span>xyzservices.TileProvider</span></label>\n",
       "                <div class=\"xyz-inside\">\n",
       "                    \n",
       "        <div>\n",
       "        \n",
       "            <div class=\"xyz-wrap\">\n",
       "                <div class=\"xyz-header\">\n",
       "                    <div class=\"xyz-obj\">xyzservices.TileProvider</div>\n",
       "                    <div class=\"xyz-name\">Esri.WorldPhysical</div>\n",
       "                </div>\n",
       "                <div class=\"xyz-details\">\n",
       "                    <dl class=\"xyz-attrs\">\n",
       "                        <dt><span>url</span></dt><dd>https://server.arcgisonline.com/ArcGIS/rest/services/{variant}/MapServer/tile/{z}/{y}/{x}</dd><dt><span>variant</span></dt><dd>World_Physical_Map</dd><dt><span>html_attribution</span></dt><dd>Tiles &copy; Esri &mdash; Source: US National Park Service</dd><dt><span>attribution</span></dt><dd>Tiles (C) Esri -- Source: US National Park Service</dd><dt><span>max_zoom</span></dt><dd>8</dd>\n",
       "                    </dl>\n",
       "                </div>\n",
       "            </div>\n",
       "        </div>\n",
       "        \n",
       "                </div>\n",
       "            </li>\n",
       "            \n",
       "            <li class=\"xyz-child\">\n",
       "                <input type=\"checkbox\" id=\"f23608a8-b219-4a6a-9e9a-037b46be0efa\" class=\"xyz-checkbox\"/>\n",
       "                <label for=\"f23608a8-b219-4a6a-9e9a-037b46be0efa\">OceanBasemap <span>xyzservices.TileProvider</span></label>\n",
       "                <div class=\"xyz-inside\">\n",
       "                    \n",
       "        <div>\n",
       "        \n",
       "            <div class=\"xyz-wrap\">\n",
       "                <div class=\"xyz-header\">\n",
       "                    <div class=\"xyz-obj\">xyzservices.TileProvider</div>\n",
       "                    <div class=\"xyz-name\">Esri.OceanBasemap</div>\n",
       "                </div>\n",
       "                <div class=\"xyz-details\">\n",
       "                    <dl class=\"xyz-attrs\">\n",
       "                        <dt><span>url</span></dt><dd>https://server.arcgisonline.com/ArcGIS/rest/services/{variant}/MapServer/tile/{z}/{y}/{x}</dd><dt><span>variant</span></dt><dd>Ocean/World_Ocean_Base</dd><dt><span>html_attribution</span></dt><dd>Tiles &copy; Esri &mdash; Sources: GEBCO, NOAA, CHS, OSU, UNH, CSUMB, National Geographic, DeLorme, NAVTEQ, and Esri</dd><dt><span>attribution</span></dt><dd>Tiles (C) Esri -- Sources: GEBCO, NOAA, CHS, OSU, UNH, CSUMB, National Geographic, DeLorme, NAVTEQ, and Esri</dd><dt><span>max_zoom</span></dt><dd>13</dd>\n",
       "                    </dl>\n",
       "                </div>\n",
       "            </div>\n",
       "        </div>\n",
       "        \n",
       "                </div>\n",
       "            </li>\n",
       "            \n",
       "            <li class=\"xyz-child\">\n",
       "                <input type=\"checkbox\" id=\"e0b27e67-4339-41d0-9bdc-1adfb9019b55\" class=\"xyz-checkbox\"/>\n",
       "                <label for=\"e0b27e67-4339-41d0-9bdc-1adfb9019b55\">NatGeoWorldMap <span>xyzservices.TileProvider</span></label>\n",
       "                <div class=\"xyz-inside\">\n",
       "                    \n",
       "        <div>\n",
       "        \n",
       "            <div class=\"xyz-wrap\">\n",
       "                <div class=\"xyz-header\">\n",
       "                    <div class=\"xyz-obj\">xyzservices.TileProvider</div>\n",
       "                    <div class=\"xyz-name\">Esri.NatGeoWorldMap</div>\n",
       "                </div>\n",
       "                <div class=\"xyz-details\">\n",
       "                    <dl class=\"xyz-attrs\">\n",
       "                        <dt><span>url</span></dt><dd>https://server.arcgisonline.com/ArcGIS/rest/services/{variant}/MapServer/tile/{z}/{y}/{x}</dd><dt><span>variant</span></dt><dd>NatGeo_World_Map</dd><dt><span>html_attribution</span></dt><dd>Tiles &copy; Esri &mdash; National Geographic, Esri, DeLorme, NAVTEQ, UNEP-WCMC, USGS, NASA, ESA, METI, NRCAN, GEBCO, NOAA, iPC</dd><dt><span>attribution</span></dt><dd>Tiles (C) Esri -- National Geographic, Esri, DeLorme, NAVTEQ, UNEP-WCMC, USGS, NASA, ESA, METI, NRCAN, GEBCO, NOAA, iPC</dd><dt><span>max_zoom</span></dt><dd>16</dd>\n",
       "                    </dl>\n",
       "                </div>\n",
       "            </div>\n",
       "        </div>\n",
       "        \n",
       "                </div>\n",
       "            </li>\n",
       "            \n",
       "            <li class=\"xyz-child\">\n",
       "                <input type=\"checkbox\" id=\"084b12f5-81a4-4f3d-946e-6570478539eb\" class=\"xyz-checkbox\"/>\n",
       "                <label for=\"084b12f5-81a4-4f3d-946e-6570478539eb\">WorldGrayCanvas <span>xyzservices.TileProvider</span></label>\n",
       "                <div class=\"xyz-inside\">\n",
       "                    \n",
       "        <div>\n",
       "        \n",
       "            <div class=\"xyz-wrap\">\n",
       "                <div class=\"xyz-header\">\n",
       "                    <div class=\"xyz-obj\">xyzservices.TileProvider</div>\n",
       "                    <div class=\"xyz-name\">Esri.WorldGrayCanvas</div>\n",
       "                </div>\n",
       "                <div class=\"xyz-details\">\n",
       "                    <dl class=\"xyz-attrs\">\n",
       "                        <dt><span>url</span></dt><dd>https://server.arcgisonline.com/ArcGIS/rest/services/{variant}/MapServer/tile/{z}/{y}/{x}</dd><dt><span>variant</span></dt><dd>Canvas/World_Light_Gray_Base</dd><dt><span>html_attribution</span></dt><dd>Tiles &copy; Esri &mdash; Esri, DeLorme, NAVTEQ</dd><dt><span>attribution</span></dt><dd>Tiles (C) Esri -- Esri, DeLorme, NAVTEQ</dd><dt><span>max_zoom</span></dt><dd>16</dd>\n",
       "                    </dl>\n",
       "                </div>\n",
       "            </div>\n",
       "        </div>\n",
       "        \n",
       "                </div>\n",
       "            </li>\n",
       "            \n",
       "            <li class=\"xyz-child\">\n",
       "                <input type=\"checkbox\" id=\"a29e79bb-b943-408b-bb5d-27b76416bb89\" class=\"xyz-checkbox\"/>\n",
       "                <label for=\"a29e79bb-b943-408b-bb5d-27b76416bb89\">ArcticImagery <span>xyzservices.TileProvider</span></label>\n",
       "                <div class=\"xyz-inside\">\n",
       "                    \n",
       "        <div>\n",
       "        \n",
       "            <div class=\"xyz-wrap\">\n",
       "                <div class=\"xyz-header\">\n",
       "                    <div class=\"xyz-obj\">xyzservices.TileProvider</div>\n",
       "                    <div class=\"xyz-name\">Esri.ArcticImagery</div>\n",
       "                </div>\n",
       "                <div class=\"xyz-details\">\n",
       "                    <dl class=\"xyz-attrs\">\n",
       "                        <dt><span>url</span></dt><dd>http://server.arcgisonline.com/ArcGIS/rest/services/Polar/Arctic_Imagery/MapServer/tile/{z}/{y}/{x}</dd><dt><span>variant</span></dt><dd>Arctic_Imagery</dd><dt><span>html_attribution</span></dt><dd>Earthstar Geographics</dd><dt><span>attribution</span></dt><dd>Earthstar Geographics</dd><dt><span>max_zoom</span></dt><dd>24</dd><dt><span>crs</span></dt><dd>EPSG:5936</dd><dt><span>bounds</span></dt><dd>[[-2623285.8808999993, -2623285.8808999993], [6623285.8803, 6623285.8803]]</dd>\n",
       "                    </dl>\n",
       "                </div>\n",
       "            </div>\n",
       "        </div>\n",
       "        \n",
       "                </div>\n",
       "            </li>\n",
       "            \n",
       "            <li class=\"xyz-child\">\n",
       "                <input type=\"checkbox\" id=\"3d210b17-f50c-4501-8b3d-3333d4651389\" class=\"xyz-checkbox\"/>\n",
       "                <label for=\"3d210b17-f50c-4501-8b3d-3333d4651389\">ArcticOceanBase <span>xyzservices.TileProvider</span></label>\n",
       "                <div class=\"xyz-inside\">\n",
       "                    \n",
       "        <div>\n",
       "        \n",
       "            <div class=\"xyz-wrap\">\n",
       "                <div class=\"xyz-header\">\n",
       "                    <div class=\"xyz-obj\">xyzservices.TileProvider</div>\n",
       "                    <div class=\"xyz-name\">Esri.ArcticOceanBase</div>\n",
       "                </div>\n",
       "                <div class=\"xyz-details\">\n",
       "                    <dl class=\"xyz-attrs\">\n",
       "                        <dt><span>url</span></dt><dd>http://server.arcgisonline.com/ArcGIS/rest/services/Polar/Arctic_Ocean_Base/MapServer/tile/{z}/{y}/{x}</dd><dt><span>variant</span></dt><dd>Arctic_Ocean_Base</dd><dt><span>html_attribution</span></dt><dd>Tiles &copy; Esri &mdash; Esri, DeLorme, NAVTEQ, TomTom, Intermap, iPC, USGS, FAO, NPS, NRCAN, GeoBase, Kadaster NL, Ordnance Survey, Esri Japan, METI, Esri China (Hong Kong), and the GIS User Community</dd><dt><span>attribution</span></dt><dd>Tiles &copy; Esri &mdash; Esri, DeLorme, NAVTEQ, TomTom, Intermap, iPC, USGS, FAO, NPS, NRCAN, GeoBase, Kadaster NL, Ordnance Survey, Esri Japan, METI, Esri China (Hong Kong), and the GIS User Community</dd><dt><span>max_zoom</span></dt><dd>24</dd><dt><span>crs</span></dt><dd>EPSG:5936</dd><dt><span>bounds</span></dt><dd>[[-2623285.8808999993, -2623285.8808999993], [6623285.8803, 6623285.8803]]</dd>\n",
       "                    </dl>\n",
       "                </div>\n",
       "            </div>\n",
       "        </div>\n",
       "        \n",
       "                </div>\n",
       "            </li>\n",
       "            \n",
       "            <li class=\"xyz-child\">\n",
       "                <input type=\"checkbox\" id=\"7dfbfd26-5f0e-4eea-812b-1e49f48fdb9d\" class=\"xyz-checkbox\"/>\n",
       "                <label for=\"7dfbfd26-5f0e-4eea-812b-1e49f48fdb9d\">ArcticOceanReference <span>xyzservices.TileProvider</span></label>\n",
       "                <div class=\"xyz-inside\">\n",
       "                    \n",
       "        <div>\n",
       "        \n",
       "            <div class=\"xyz-wrap\">\n",
       "                <div class=\"xyz-header\">\n",
       "                    <div class=\"xyz-obj\">xyzservices.TileProvider</div>\n",
       "                    <div class=\"xyz-name\">Esri.ArcticOceanReference</div>\n",
       "                </div>\n",
       "                <div class=\"xyz-details\">\n",
       "                    <dl class=\"xyz-attrs\">\n",
       "                        <dt><span>url</span></dt><dd>http://server.arcgisonline.com/ArcGIS/rest/services/Polar/Arctic_Ocean_Reference/MapServer/tile/{z}/{y}/{x}</dd><dt><span>variant</span></dt><dd>Arctic_Ocean_Reference</dd><dt><span>html_attribution</span></dt><dd>Tiles &copy; Esri &mdash; Esri, DeLorme, NAVTEQ, TomTom, Intermap, iPC, USGS, FAO, NPS, NRCAN, GeoBase, Kadaster NL, Ordnance Survey, Esri Japan, METI, Esri China (Hong Kong), and the GIS User Community</dd><dt><span>attribution</span></dt><dd>Tiles &copy; Esri &mdash; Esri, DeLorme, NAVTEQ, TomTom, Intermap, iPC, USGS, FAO, NPS, NRCAN, GeoBase, Kadaster NL, Ordnance Survey, Esri Japan, METI, Esri China (Hong Kong), and the GIS User Community</dd><dt><span>max_zoom</span></dt><dd>24</dd><dt><span>crs</span></dt><dd>EPSG:5936</dd><dt><span>bounds</span></dt><dd>[[-2623285.8808999993, -2623285.8808999993], [6623285.8803, 6623285.8803]]</dd>\n",
       "                    </dl>\n",
       "                </div>\n",
       "            </div>\n",
       "        </div>\n",
       "        \n",
       "                </div>\n",
       "            </li>\n",
       "            \n",
       "            <li class=\"xyz-child\">\n",
       "                <input type=\"checkbox\" id=\"b537aa53-0ae2-4cf7-94f4-63e6b588ec58\" class=\"xyz-checkbox\"/>\n",
       "                <label for=\"b537aa53-0ae2-4cf7-94f4-63e6b588ec58\">AntarcticImagery <span>xyzservices.TileProvider</span></label>\n",
       "                <div class=\"xyz-inside\">\n",
       "                    \n",
       "        <div>\n",
       "        \n",
       "            <div class=\"xyz-wrap\">\n",
       "                <div class=\"xyz-header\">\n",
       "                    <div class=\"xyz-obj\">xyzservices.TileProvider</div>\n",
       "                    <div class=\"xyz-name\">Esri.AntarcticImagery</div>\n",
       "                </div>\n",
       "                <div class=\"xyz-details\">\n",
       "                    <dl class=\"xyz-attrs\">\n",
       "                        <dt><span>url</span></dt><dd>http://server.arcgisonline.com/ArcGIS/rest/services/Polar/Antarctic_Imagery/MapServer/tile/{z}/{y}/{x}</dd><dt><span>variant</span></dt><dd>Antarctic_Imagery</dd><dt><span>html_attribution</span></dt><dd>Earthstar Geographics</dd><dt><span>attribution</span></dt><dd>Earthstar Geographics</dd><dt><span>max_zoom</span></dt><dd>24</dd><dt><span>crs</span></dt><dd>EPSG:3031</dd><dt><span>bounds</span></dt><dd>[[-9913957.327914657, -5730886.461772691], [9913957.327914657, 5730886.461773157]]</dd>\n",
       "                    </dl>\n",
       "                </div>\n",
       "            </div>\n",
       "        </div>\n",
       "        \n",
       "                </div>\n",
       "            </li>\n",
       "            \n",
       "            <li class=\"xyz-child\">\n",
       "                <input type=\"checkbox\" id=\"e729e204-9445-435a-8b6a-3d257415f3b9\" class=\"xyz-checkbox\"/>\n",
       "                <label for=\"e729e204-9445-435a-8b6a-3d257415f3b9\">AntarcticBasemap <span>xyzservices.TileProvider</span></label>\n",
       "                <div class=\"xyz-inside\">\n",
       "                    \n",
       "        <div>\n",
       "        \n",
       "            <div class=\"xyz-wrap\">\n",
       "                <div class=\"xyz-header\">\n",
       "                    <div class=\"xyz-obj\">xyzservices.TileProvider</div>\n",
       "                    <div class=\"xyz-name\">Esri.AntarcticBasemap</div>\n",
       "                </div>\n",
       "                <div class=\"xyz-details\">\n",
       "                    <dl class=\"xyz-attrs\">\n",
       "                        <dt><span>url</span></dt><dd>https://tiles.arcgis.com/tiles/C8EMgrsFcRFL6LrL/arcgis/rest/services/Antarctic_Basemap/MapServer/tile/{z}/{y}/{x}</dd><dt><span>variant</span></dt><dd>Antarctic_Basemap</dd><dt><span>html_attribution</span></dt><dd>Imagery provided by NOAA National Centers for Environmental Information (NCEI); International Bathymetric Chart of the Southern Ocean (IBCSO); General Bathymetric Chart of the Oceans (GEBCO).</dd><dt><span>attribution</span></dt><dd>Imagery provided by NOAA National Centers for Environmental Information (NCEI); International Bathymetric Chart of the Southern Ocean (IBCSO); General Bathymetric Chart of the Oceans (GEBCO).</dd><dt><span>max_zoom</span></dt><dd>9</dd><dt><span>crs</span></dt><dd>EPSG:3031</dd><dt><span>bounds</span></dt><dd>[[-4524583.19363305, -4524449.487765655], [4524449.4877656475, 4524583.193633042]]</dd>\n",
       "                    </dl>\n",
       "                </div>\n",
       "            </div>\n",
       "        </div>\n",
       "        \n",
       "                </div>\n",
       "            </li>\n",
       "            \n",
       "                    </ul>\n",
       "                </div>\n",
       "            </div>\n",
       "        </div>\n",
       "        "
      ],
      "text/plain": [
       "{'WorldStreetMap': {'url': 'https://server.arcgisonline.com/ArcGIS/rest/services/{variant}/MapServer/tile/{z}/{y}/{x}',\n",
       "  'variant': 'World_Street_Map',\n",
       "  'html_attribution': 'Tiles &copy; Esri &mdash; Source: Esri, DeLorme, NAVTEQ, USGS, Intermap, iPC, NRCAN, Esri Japan, METI, Esri China (Hong Kong), Esri (Thailand), TomTom, 2012',\n",
       "  'attribution': 'Tiles (C) Esri -- Source: Esri, DeLorme, NAVTEQ, USGS, Intermap, iPC, NRCAN, Esri Japan, METI, Esri China (Hong Kong), Esri (Thailand), TomTom, 2012',\n",
       "  'name': 'Esri.WorldStreetMap'},\n",
       " 'DeLorme': {'url': 'https://server.arcgisonline.com/ArcGIS/rest/services/{variant}/MapServer/tile/{z}/{y}/{x}',\n",
       "  'variant': 'Specialty/DeLorme_World_Base_Map',\n",
       "  'html_attribution': 'Tiles &copy; Esri &mdash; Copyright: &copy;2012 DeLorme',\n",
       "  'attribution': 'Tiles (C) Esri -- Copyright: (C)2012 DeLorme',\n",
       "  'min_zoom': 1,\n",
       "  'max_zoom': 11,\n",
       "  'name': 'Esri.DeLorme'},\n",
       " 'WorldTopoMap': {'url': 'https://server.arcgisonline.com/ArcGIS/rest/services/{variant}/MapServer/tile/{z}/{y}/{x}',\n",
       "  'variant': 'World_Topo_Map',\n",
       "  'html_attribution': 'Tiles &copy; Esri &mdash; Esri, DeLorme, NAVTEQ, TomTom, Intermap, iPC, USGS, FAO, NPS, NRCAN, GeoBase, Kadaster NL, Ordnance Survey, Esri Japan, METI, Esri China (Hong Kong), and the GIS User Community',\n",
       "  'attribution': 'Tiles (C) Esri -- Esri, DeLorme, NAVTEQ, TomTom, Intermap, iPC, USGS, FAO, NPS, NRCAN, GeoBase, Kadaster NL, Ordnance Survey, Esri Japan, METI, Esri China (Hong Kong), and the GIS User Community',\n",
       "  'name': 'Esri.WorldTopoMap'},\n",
       " 'WorldImagery': {'url': 'https://server.arcgisonline.com/ArcGIS/rest/services/{variant}/MapServer/tile/{z}/{y}/{x}',\n",
       "  'variant': 'World_Imagery',\n",
       "  'html_attribution': 'Tiles &copy; Esri &mdash; Source: Esri, i-cubed, USDA, USGS, AEX, GeoEye, Getmapping, Aerogrid, IGN, IGP, UPR-EGP, and the GIS User Community',\n",
       "  'attribution': 'Tiles (C) Esri -- Source: Esri, i-cubed, USDA, USGS, AEX, GeoEye, Getmapping, Aerogrid, IGN, IGP, UPR-EGP, and the GIS User Community',\n",
       "  'name': 'Esri.WorldImagery'},\n",
       " 'WorldTerrain': {'url': 'https://server.arcgisonline.com/ArcGIS/rest/services/{variant}/MapServer/tile/{z}/{y}/{x}',\n",
       "  'variant': 'World_Terrain_Base',\n",
       "  'html_attribution': 'Tiles &copy; Esri &mdash; Source: USGS, Esri, TANA, DeLorme, and NPS',\n",
       "  'attribution': 'Tiles (C) Esri -- Source: USGS, Esri, TANA, DeLorme, and NPS',\n",
       "  'max_zoom': 13,\n",
       "  'name': 'Esri.WorldTerrain'},\n",
       " 'WorldShadedRelief': {'url': 'https://server.arcgisonline.com/ArcGIS/rest/services/{variant}/MapServer/tile/{z}/{y}/{x}',\n",
       "  'variant': 'World_Shaded_Relief',\n",
       "  'html_attribution': 'Tiles &copy; Esri &mdash; Source: Esri',\n",
       "  'attribution': 'Tiles (C) Esri -- Source: Esri',\n",
       "  'max_zoom': 13,\n",
       "  'name': 'Esri.WorldShadedRelief'},\n",
       " 'WorldPhysical': {'url': 'https://server.arcgisonline.com/ArcGIS/rest/services/{variant}/MapServer/tile/{z}/{y}/{x}',\n",
       "  'variant': 'World_Physical_Map',\n",
       "  'html_attribution': 'Tiles &copy; Esri &mdash; Source: US National Park Service',\n",
       "  'attribution': 'Tiles (C) Esri -- Source: US National Park Service',\n",
       "  'max_zoom': 8,\n",
       "  'name': 'Esri.WorldPhysical'},\n",
       " 'OceanBasemap': {'url': 'https://server.arcgisonline.com/ArcGIS/rest/services/{variant}/MapServer/tile/{z}/{y}/{x}',\n",
       "  'variant': 'Ocean/World_Ocean_Base',\n",
       "  'html_attribution': 'Tiles &copy; Esri &mdash; Sources: GEBCO, NOAA, CHS, OSU, UNH, CSUMB, National Geographic, DeLorme, NAVTEQ, and Esri',\n",
       "  'attribution': 'Tiles (C) Esri -- Sources: GEBCO, NOAA, CHS, OSU, UNH, CSUMB, National Geographic, DeLorme, NAVTEQ, and Esri',\n",
       "  'max_zoom': 13,\n",
       "  'name': 'Esri.OceanBasemap'},\n",
       " 'NatGeoWorldMap': {'url': 'https://server.arcgisonline.com/ArcGIS/rest/services/{variant}/MapServer/tile/{z}/{y}/{x}',\n",
       "  'variant': 'NatGeo_World_Map',\n",
       "  'html_attribution': 'Tiles &copy; Esri &mdash; National Geographic, Esri, DeLorme, NAVTEQ, UNEP-WCMC, USGS, NASA, ESA, METI, NRCAN, GEBCO, NOAA, iPC',\n",
       "  'attribution': 'Tiles (C) Esri -- National Geographic, Esri, DeLorme, NAVTEQ, UNEP-WCMC, USGS, NASA, ESA, METI, NRCAN, GEBCO, NOAA, iPC',\n",
       "  'max_zoom': 16,\n",
       "  'name': 'Esri.NatGeoWorldMap'},\n",
       " 'WorldGrayCanvas': {'url': 'https://server.arcgisonline.com/ArcGIS/rest/services/{variant}/MapServer/tile/{z}/{y}/{x}',\n",
       "  'variant': 'Canvas/World_Light_Gray_Base',\n",
       "  'html_attribution': 'Tiles &copy; Esri &mdash; Esri, DeLorme, NAVTEQ',\n",
       "  'attribution': 'Tiles (C) Esri -- Esri, DeLorme, NAVTEQ',\n",
       "  'max_zoom': 16,\n",
       "  'name': 'Esri.WorldGrayCanvas'},\n",
       " 'ArcticImagery': {'url': 'http://server.arcgisonline.com/ArcGIS/rest/services/Polar/Arctic_Imagery/MapServer/tile/{z}/{y}/{x}',\n",
       "  'variant': 'Arctic_Imagery',\n",
       "  'html_attribution': 'Earthstar Geographics',\n",
       "  'attribution': 'Earthstar Geographics',\n",
       "  'max_zoom': 24,\n",
       "  'name': 'Esri.ArcticImagery',\n",
       "  'crs': 'EPSG:5936',\n",
       "  'bounds': [[-2623285.8808999993, -2623285.8808999993],\n",
       "   [6623285.8803, 6623285.8803]]},\n",
       " 'ArcticOceanBase': {'url': 'http://server.arcgisonline.com/ArcGIS/rest/services/Polar/Arctic_Ocean_Base/MapServer/tile/{z}/{y}/{x}',\n",
       "  'variant': 'Arctic_Ocean_Base',\n",
       "  'html_attribution': 'Tiles &copy; Esri &mdash; Esri, DeLorme, NAVTEQ, TomTom, Intermap, iPC, USGS, FAO, NPS, NRCAN, GeoBase, Kadaster NL, Ordnance Survey, Esri Japan, METI, Esri China (Hong Kong), and the GIS User Community',\n",
       "  'attribution': 'Tiles &copy; Esri &mdash; Esri, DeLorme, NAVTEQ, TomTom, Intermap, iPC, USGS, FAO, NPS, NRCAN, GeoBase, Kadaster NL, Ordnance Survey, Esri Japan, METI, Esri China (Hong Kong), and the GIS User Community',\n",
       "  'max_zoom': 24,\n",
       "  'name': 'Esri.ArcticOceanBase',\n",
       "  'crs': 'EPSG:5936',\n",
       "  'bounds': [[-2623285.8808999993, -2623285.8808999993],\n",
       "   [6623285.8803, 6623285.8803]]},\n",
       " 'ArcticOceanReference': {'url': 'http://server.arcgisonline.com/ArcGIS/rest/services/Polar/Arctic_Ocean_Reference/MapServer/tile/{z}/{y}/{x}',\n",
       "  'variant': 'Arctic_Ocean_Reference',\n",
       "  'html_attribution': 'Tiles &copy; Esri &mdash; Esri, DeLorme, NAVTEQ, TomTom, Intermap, iPC, USGS, FAO, NPS, NRCAN, GeoBase, Kadaster NL, Ordnance Survey, Esri Japan, METI, Esri China (Hong Kong), and the GIS User Community',\n",
       "  'attribution': 'Tiles &copy; Esri &mdash; Esri, DeLorme, NAVTEQ, TomTom, Intermap, iPC, USGS, FAO, NPS, NRCAN, GeoBase, Kadaster NL, Ordnance Survey, Esri Japan, METI, Esri China (Hong Kong), and the GIS User Community',\n",
       "  'max_zoom': 24,\n",
       "  'name': 'Esri.ArcticOceanReference',\n",
       "  'crs': 'EPSG:5936',\n",
       "  'bounds': [[-2623285.8808999993, -2623285.8808999993],\n",
       "   [6623285.8803, 6623285.8803]]},\n",
       " 'AntarcticImagery': {'url': 'http://server.arcgisonline.com/ArcGIS/rest/services/Polar/Antarctic_Imagery/MapServer/tile/{z}/{y}/{x}',\n",
       "  'variant': 'Antarctic_Imagery',\n",
       "  'html_attribution': 'Earthstar Geographics',\n",
       "  'attribution': 'Earthstar Geographics',\n",
       "  'max_zoom': 24,\n",
       "  'name': 'Esri.AntarcticImagery',\n",
       "  'crs': 'EPSG:3031',\n",
       "  'bounds': [[-9913957.327914657, -5730886.461772691],\n",
       "   [9913957.327914657, 5730886.461773157]]},\n",
       " 'AntarcticBasemap': {'url': 'https://tiles.arcgis.com/tiles/C8EMgrsFcRFL6LrL/arcgis/rest/services/Antarctic_Basemap/MapServer/tile/{z}/{y}/{x}',\n",
       "  'variant': 'Antarctic_Basemap',\n",
       "  'html_attribution': 'Imagery provided by NOAA National Centers for Environmental Information (NCEI); International Bathymetric Chart of the Southern Ocean (IBCSO); General Bathymetric Chart of the Oceans (GEBCO).',\n",
       "  'attribution': 'Imagery provided by NOAA National Centers for Environmental Information (NCEI); International Bathymetric Chart of the Southern Ocean (IBCSO); General Bathymetric Chart of the Oceans (GEBCO).',\n",
       "  'max_zoom': 9,\n",
       "  'name': 'Esri.AntarcticBasemap',\n",
       "  'crs': 'EPSG:3031',\n",
       "  'bounds': [[-4524583.19363305, -4524449.487765655],\n",
       "   [4524449.4877656475, 4524583.193633042]]}}"
      ]
     },
     "execution_count": 16,
     "metadata": {},
     "output_type": "execute_result"
    }
   ],
   "source": [
    "xyz.Esri"
   ]
  },
  {
   "cell_type": "code",
   "execution_count": 17,
   "metadata": {},
   "outputs": [
    {
     "data": {
      "text/html": [
       "\n",
       "        <div>\n",
       "        <style>\n",
       "/* CSS stylesheet for displaying xyzservices objects in Jupyter.*/\n",
       ".xyz-wrap {\n",
       "    --xyz-border-color: var(--jp-border-color2, #ddd);\n",
       "    --xyz-font-color2: var(--jp-content-font-color2, rgba(128, 128, 128, 1));\n",
       "    --xyz-background-color-white: var(--jp-layout-color1, white);\n",
       "    --xyz-background-color: var(--jp-layout-color2, rgba(128, 128, 128, 0.1));\n",
       "}\n",
       "\n",
       "html[theme=dark] .xyz-wrap,\n",
       "body.vscode-dark .xyz-wrap,\n",
       "body.vscode-high-contrast .xyz-wrap {\n",
       "    --xyz-border-color: #222;\n",
       "    --xyz-font-color2: rgba(255, 255, 255, 0.54);\n",
       "    --xyz-background-color-white: rgba(255, 255, 255, 1);\n",
       "    --xyz-background-color: rgba(255, 255, 255, 0.05);\n",
       "\n",
       "}\n",
       "\n",
       ".xyz-header {\n",
       "    padding-top: 6px;\n",
       "    padding-bottom: 6px;\n",
       "    margin-bottom: 4px;\n",
       "    border-bottom: solid 1px var(--xyz-border-color);\n",
       "}\n",
       "\n",
       ".xyz-header>div {\n",
       "    display: inline;\n",
       "    margin-top: 0;\n",
       "    margin-bottom: 0;\n",
       "}\n",
       "\n",
       ".xyz-obj,\n",
       ".xyz-name {\n",
       "    margin-left: 2px;\n",
       "    margin-right: 10px;\n",
       "}\n",
       "\n",
       ".xyz-obj {\n",
       "    color: var(--xyz-font-color2);\n",
       "}\n",
       "\n",
       ".xyz-attrs {\n",
       "    grid-column: 1 / -1;\n",
       "}\n",
       "\n",
       "dl.xyz-attrs {\n",
       "    padding: 0 5px 0 5px;\n",
       "    margin: 0;\n",
       "    display: grid;\n",
       "    grid-template-columns: 135px auto;\n",
       "    background-color: var(--xyz-background-color);\n",
       "}\n",
       "\n",
       ".xyz-attrs dt,\n",
       "dd {\n",
       "    padding: 0;\n",
       "    margin: 0;\n",
       "    float: left;\n",
       "    padding-right: 10px;\n",
       "    width: auto;\n",
       "}\n",
       "\n",
       ".xyz-attrs dt {\n",
       "    font-weight: normal;\n",
       "    grid-column: 1;\n",
       "}\n",
       "\n",
       ".xyz-attrs dd {\n",
       "    grid-column: 2;\n",
       "    white-space: pre-wrap;\n",
       "    word-break: break-all;\n",
       "}\n",
       "\n",
       ".xyz-details ul>li>label>span {\n",
       "    color: var(--xyz-font-color2);\n",
       "    padding-left: 10px;\n",
       "}\n",
       "\n",
       ".xyz-inside {\n",
       "    display: none;\n",
       "}\n",
       "\n",
       ".xyz-checkbox:checked~.xyz-inside {\n",
       "    display: contents;\n",
       "}\n",
       "\n",
       ".xyz-collapsible li>input {\n",
       "    display: none;\n",
       "}\n",
       "\n",
       ".xyz-collapsible>li>label {\n",
       "    cursor: pointer;\n",
       "}\n",
       "\n",
       ".xyz-collapsible>li>label:hover {\n",
       "    color: var(--xyz-font-color2);\n",
       "}\n",
       "\n",
       "ul.xyz-collapsible {\n",
       "    list-style: none!important;\n",
       "    padding-left: 20px!important;\n",
       "}\n",
       "\n",
       ".xyz-checkbox+label:before {\n",
       "    content: '►';\n",
       "    font-size: 11px;\n",
       "}\n",
       "\n",
       ".xyz-checkbox:checked+label:before {\n",
       "    content: '▼';\n",
       "}\n",
       "\n",
       ".xyz-wrap {\n",
       "    margin-bottom: 10px;\n",
       "}\n",
       "</style>\n",
       "            <div class=\"xyz-wrap\">\n",
       "                <div class=\"xyz-header\">\n",
       "                    <div class=\"xyz-obj\">xyzservices.TileProvider</div>\n",
       "                    <div class=\"xyz-name\">Esri.WorldImagery</div>\n",
       "                </div>\n",
       "                <div class=\"xyz-details\">\n",
       "                    <dl class=\"xyz-attrs\">\n",
       "                        <dt><span>url</span></dt><dd>https://server.arcgisonline.com/ArcGIS/rest/services/{variant}/MapServer/tile/{z}/{y}/{x}</dd><dt><span>variant</span></dt><dd>World_Imagery</dd><dt><span>html_attribution</span></dt><dd>Tiles &copy; Esri &mdash; Source: Esri, i-cubed, USDA, USGS, AEX, GeoEye, Getmapping, Aerogrid, IGN, IGP, UPR-EGP, and the GIS User Community</dd><dt><span>attribution</span></dt><dd>Tiles (C) Esri -- Source: Esri, i-cubed, USDA, USGS, AEX, GeoEye, Getmapping, Aerogrid, IGN, IGP, UPR-EGP, and the GIS User Community</dd>\n",
       "                    </dl>\n",
       "                </div>\n",
       "            </div>\n",
       "        </div>\n",
       "        "
      ],
      "text/plain": [
       "{'url': 'https://server.arcgisonline.com/ArcGIS/rest/services/{variant}/MapServer/tile/{z}/{y}/{x}',\n",
       " 'variant': 'World_Imagery',\n",
       " 'html_attribution': 'Tiles &copy; Esri &mdash; Source: Esri, i-cubed, USDA, USGS, AEX, GeoEye, Getmapping, Aerogrid, IGN, IGP, UPR-EGP, and the GIS User Community',\n",
       " 'attribution': 'Tiles (C) Esri -- Source: Esri, i-cubed, USDA, USGS, AEX, GeoEye, Getmapping, Aerogrid, IGN, IGP, UPR-EGP, and the GIS User Community',\n",
       " 'name': 'Esri.WorldImagery'}"
      ]
     },
     "execution_count": 17,
     "metadata": {},
     "output_type": "execute_result"
    }
   ],
   "source": [
    "xyz.Esri.WorldImagery"
   ]
  },
  {
   "cell_type": "code",
   "execution_count": 18,
   "metadata": {},
   "outputs": [
    {
     "data": {
      "text/plain": [
       "'https://server.arcgisonline.com/ArcGIS/rest/services/World_Imagery/MapServer/tile/{z}/{y}/{x}'"
      ]
     },
     "execution_count": 18,
     "metadata": {},
     "output_type": "execute_result"
    }
   ],
   "source": [
    "xyz.Esri.WorldImagery.build_url()"
   ]
  },
  {
   "cell_type": "code",
   "execution_count": 19,
   "metadata": {},
   "outputs": [
    {
     "data": {
      "application/vnd.jupyter.widget-view+json": {
       "model_id": "db60ef688a624049b6c85abb93ba28f7",
       "version_major": 2,
       "version_minor": 0
      },
      "text/plain": [
       "Map(bottom=425.0, center=[21.289374355860424, -137.48407178182327], controls=(ZoomControl(options=['position',…"
      ]
     },
     "metadata": {},
     "output_type": "display_data"
    }
   ],
   "source": [
    "url = xyz.Esri.WorldImagery.build_url()\n",
    "\n",
    "m.add_tile_layer(url=url, name='Esri', attribution='xxxx')\n",
    "\n",
    "m"
   ]
  },
  {
   "cell_type": "code",
   "execution_count": 20,
   "metadata": {},
   "outputs": [
    {
     "data": {
      "text/plain": [
       "'xyz.Esri.WorldImagery'"
      ]
     },
     "execution_count": 20,
     "metadata": {},
     "output_type": "execute_result"
    }
   ],
   "source": [
    "xyz.Esri.WorldImagery \n",
    "'xyz.Esri.WorldImagery'#string"
   ]
  },
  {
   "cell_type": "code",
   "execution_count": 21,
   "metadata": {},
   "outputs": [
    {
     "data": {
      "text/html": [
       "\n",
       "        <div>\n",
       "        <style>\n",
       "/* CSS stylesheet for displaying xyzservices objects in Jupyter.*/\n",
       ".xyz-wrap {\n",
       "    --xyz-border-color: var(--jp-border-color2, #ddd);\n",
       "    --xyz-font-color2: var(--jp-content-font-color2, rgba(128, 128, 128, 1));\n",
       "    --xyz-background-color-white: var(--jp-layout-color1, white);\n",
       "    --xyz-background-color: var(--jp-layout-color2, rgba(128, 128, 128, 0.1));\n",
       "}\n",
       "\n",
       "html[theme=dark] .xyz-wrap,\n",
       "body.vscode-dark .xyz-wrap,\n",
       "body.vscode-high-contrast .xyz-wrap {\n",
       "    --xyz-border-color: #222;\n",
       "    --xyz-font-color2: rgba(255, 255, 255, 0.54);\n",
       "    --xyz-background-color-white: rgba(255, 255, 255, 1);\n",
       "    --xyz-background-color: rgba(255, 255, 255, 0.05);\n",
       "\n",
       "}\n",
       "\n",
       ".xyz-header {\n",
       "    padding-top: 6px;\n",
       "    padding-bottom: 6px;\n",
       "    margin-bottom: 4px;\n",
       "    border-bottom: solid 1px var(--xyz-border-color);\n",
       "}\n",
       "\n",
       ".xyz-header>div {\n",
       "    display: inline;\n",
       "    margin-top: 0;\n",
       "    margin-bottom: 0;\n",
       "}\n",
       "\n",
       ".xyz-obj,\n",
       ".xyz-name {\n",
       "    margin-left: 2px;\n",
       "    margin-right: 10px;\n",
       "}\n",
       "\n",
       ".xyz-obj {\n",
       "    color: var(--xyz-font-color2);\n",
       "}\n",
       "\n",
       ".xyz-attrs {\n",
       "    grid-column: 1 / -1;\n",
       "}\n",
       "\n",
       "dl.xyz-attrs {\n",
       "    padding: 0 5px 0 5px;\n",
       "    margin: 0;\n",
       "    display: grid;\n",
       "    grid-template-columns: 135px auto;\n",
       "    background-color: var(--xyz-background-color);\n",
       "}\n",
       "\n",
       ".xyz-attrs dt,\n",
       "dd {\n",
       "    padding: 0;\n",
       "    margin: 0;\n",
       "    float: left;\n",
       "    padding-right: 10px;\n",
       "    width: auto;\n",
       "}\n",
       "\n",
       ".xyz-attrs dt {\n",
       "    font-weight: normal;\n",
       "    grid-column: 1;\n",
       "}\n",
       "\n",
       ".xyz-attrs dd {\n",
       "    grid-column: 2;\n",
       "    white-space: pre-wrap;\n",
       "    word-break: break-all;\n",
       "}\n",
       "\n",
       ".xyz-details ul>li>label>span {\n",
       "    color: var(--xyz-font-color2);\n",
       "    padding-left: 10px;\n",
       "}\n",
       "\n",
       ".xyz-inside {\n",
       "    display: none;\n",
       "}\n",
       "\n",
       ".xyz-checkbox:checked~.xyz-inside {\n",
       "    display: contents;\n",
       "}\n",
       "\n",
       ".xyz-collapsible li>input {\n",
       "    display: none;\n",
       "}\n",
       "\n",
       ".xyz-collapsible>li>label {\n",
       "    cursor: pointer;\n",
       "}\n",
       "\n",
       ".xyz-collapsible>li>label:hover {\n",
       "    color: var(--xyz-font-color2);\n",
       "}\n",
       "\n",
       "ul.xyz-collapsible {\n",
       "    list-style: none!important;\n",
       "    padding-left: 20px!important;\n",
       "}\n",
       "\n",
       ".xyz-checkbox+label:before {\n",
       "    content: '►';\n",
       "    font-size: 11px;\n",
       "}\n",
       "\n",
       ".xyz-checkbox:checked+label:before {\n",
       "    content: '▼';\n",
       "}\n",
       "\n",
       ".xyz-wrap {\n",
       "    margin-bottom: 10px;\n",
       "}\n",
       "</style>\n",
       "            <div class=\"xyz-wrap\">\n",
       "                <div class=\"xyz-header\">\n",
       "                    <div class=\"xyz-obj\">xyzservices.TileProvider</div>\n",
       "                    <div class=\"xyz-name\">Esri.WorldImagery</div>\n",
       "                </div>\n",
       "                <div class=\"xyz-details\">\n",
       "                    <dl class=\"xyz-attrs\">\n",
       "                        <dt><span>url</span></dt><dd>https://server.arcgisonline.com/ArcGIS/rest/services/{variant}/MapServer/tile/{z}/{y}/{x}</dd><dt><span>variant</span></dt><dd>World_Imagery</dd><dt><span>html_attribution</span></dt><dd>Tiles &copy; Esri &mdash; Source: Esri, i-cubed, USDA, USGS, AEX, GeoEye, Getmapping, Aerogrid, IGN, IGP, UPR-EGP, and the GIS User Community</dd><dt><span>attribution</span></dt><dd>Tiles (C) Esri -- Source: Esri, i-cubed, USDA, USGS, AEX, GeoEye, Getmapping, Aerogrid, IGN, IGP, UPR-EGP, and the GIS User Community</dd>\n",
       "                    </dl>\n",
       "                </div>\n",
       "            </div>\n",
       "        </div>\n",
       "        "
      ],
      "text/plain": [
       "{'url': 'https://server.arcgisonline.com/ArcGIS/rest/services/{variant}/MapServer/tile/{z}/{y}/{x}',\n",
       " 'variant': 'World_Imagery',\n",
       " 'html_attribution': 'Tiles &copy; Esri &mdash; Source: Esri, i-cubed, USDA, USGS, AEX, GeoEye, Getmapping, Aerogrid, IGN, IGP, UPR-EGP, and the GIS User Community',\n",
       " 'attribution': 'Tiles (C) Esri -- Source: Esri, i-cubed, USDA, USGS, AEX, GeoEye, Getmapping, Aerogrid, IGN, IGP, UPR-EGP, and the GIS User Community',\n",
       " 'name': 'Esri.WorldImagery'}"
      ]
     },
     "execution_count": 21,
     "metadata": {},
     "output_type": "execute_result"
    }
   ],
   "source": [
    "eval('xyz.Esri.WorldImagery')"
   ]
  },
  {
   "cell_type": "code",
   "execution_count": 22,
   "metadata": {},
   "outputs": [
    {
     "ename": "SyntaxError",
     "evalue": "unexpected EOF while parsing (<string>, line 1)",
     "output_type": "error",
     "traceback": [
      "Traceback \u001b[0;36m(most recent call last)\u001b[0m:\n",
      "\u001b[0m  File \u001b[1;32m~/miniconda3/envs/geospyl/lib/python3.9/site-packages/IPython/core/interactiveshell.py:3505\u001b[0m in \u001b[1;35mrun_code\u001b[0m\n    exec(code_obj, self.user_global_ns, self.user_ns)\u001b[0m\n",
      "\u001b[0;36m  Cell \u001b[0;32mIn[22], line 1\u001b[0;36m\n\u001b[0;31m    eval('xyz.Esri.WorldImagery jsjsj') #makes sense because jsjs is not part of the library\u001b[0;36m\n",
      "\u001b[0;36m  File \u001b[0;32m<string>:1\u001b[0;36m\u001b[0m\n\u001b[0;31m    xyz.Esri.WorldImagery jsjsj\u001b[0m\n\u001b[0m                          ^\u001b[0m\n\u001b[0;31mSyntaxError\u001b[0m\u001b[0;31m:\u001b[0m unexpected EOF while parsing\n"
     ]
    }
   ],
   "source": [
    "eval('xyz.Esri.WorldImagery jsjsj') #makes sense because jsjs is not part of the library"
   ]
  },
  {
   "cell_type": "code",
   "execution_count": 23,
   "metadata": {},
   "outputs": [
    {
     "name": "stdout",
     "output_type": "stream",
     "text": [
      "this is what the user is providing:{'scroll_wheel_zoom': True}\n",
      "{'scroll_wheel_zoom': True}\n",
      "{'scroll_wheel_zoom': True, 'layers_control': True}\n",
      "{'scroll_wheel_zoom': True, 'layers_control': True, 'fullscreen_control': True}\n"
     ]
    },
    {
     "data": {
      "application/vnd.jupyter.widget-view+json": {
       "model_id": "ff2d52a7a065440b86da80b0f8dd0ba3",
       "version_major": 2,
       "version_minor": 0
      },
      "text/plain": [
       "Map(center=[20, 0], controls=(ZoomControl(options=['position', 'zoom_in_text', 'zoom_in_title', 'zoom_out_text…"
      ]
     },
     "metadata": {},
     "output_type": "display_data"
    }
   ],
   "source": [
    "import geosdemo\n",
    "m = geosdemo.Map()\n",
    "m"
   ]
  },
  {
   "cell_type": "code",
   "execution_count": 14,
   "metadata": {},
   "outputs": [],
   "source": [
    "m.add_basemap('Esri.WorldImagery')"
   ]
  },
  {
   "cell_type": "code",
   "execution_count": 24,
   "metadata": {},
   "outputs": [
    {
     "data": {
      "text/plain": [
       "dict_keys(['OpenStreetMap', 'MapTilesAPI', 'OpenSeaMap', 'OPNVKarte', 'OpenTopoMap', 'OpenRailwayMap', 'OpenFireMap', 'SafeCast', 'Stadia', 'Thunderforest', 'CyclOSM', 'Jawg', 'MapBox', 'MapTiler', 'Stamen', 'TomTom', 'Esri', 'OpenWeatherMap', 'HERE', 'HEREv3', 'FreeMapSK', 'MtbMap', 'CartoDB', 'HikeBike', 'BasemapAT', 'nlmaps', 'NASAGIBS', 'NLS', 'JusticeMap', 'GeoportailFrance', 'OneMapSG', 'USGS', 'WaymarkedTrails', 'OpenAIP', 'OpenSnowMap', 'AzureMaps', 'SwissFederalGeoportal', 'Gaode', 'Strava'])"
      ]
     },
     "execution_count": 24,
     "metadata": {},
     "output_type": "execute_result"
    }
   ],
   "source": [
    "#what there is inside\n",
    "xyz.keys()"
   ]
  },
  {
   "cell_type": "code",
   "execution_count": 25,
   "metadata": {},
   "outputs": [
    {
     "data": {
      "text/plain": [
       "dict_keys(['WorldStreetMap', 'DeLorme', 'WorldTopoMap', 'WorldImagery', 'WorldTerrain', 'WorldShadedRelief', 'WorldPhysical', 'OceanBasemap', 'NatGeoWorldMap', 'WorldGrayCanvas', 'ArcticImagery', 'ArcticOceanBase', 'ArcticOceanReference', 'AntarcticImagery', 'AntarcticBasemap'])"
      ]
     },
     "execution_count": 25,
     "metadata": {},
     "output_type": "execute_result"
    }
   ],
   "source": [
    "xyz.Esri.keys()"
   ]
  },
  {
   "cell_type": "code",
   "execution_count": 26,
   "metadata": {},
   "outputs": [
    {
     "data": {
      "application/vnd.jupyter.widget-view+json": {
       "model_id": "ff2d52a7a065440b86da80b0f8dd0ba3",
       "version_major": 2,
       "version_minor": 0
      },
      "text/plain": [
       "Map(bottom=654.0, center=[20, 0], controls=(ZoomControl(options=['position', 'zoom_in_text', 'zoom_in_title', …"
      ]
     },
     "metadata": {},
     "output_type": "display_data"
    }
   ],
   "source": [
    "m.add_basemap('Esri.NatGeoWorldMap')\n",
    "m"
   ]
  },
  {
   "cell_type": "code",
   "execution_count": 27,
   "metadata": {},
   "outputs": [
    {
     "data": {
      "text/plain": [
       "dict_keys(['Positron', 'PositronNoLabels', 'PositronOnlyLabels', 'DarkMatter', 'DarkMatterNoLabels', 'DarkMatterOnlyLabels', 'Voyager', 'VoyagerNoLabels', 'VoyagerOnlyLabels', 'VoyagerLabelsUnder'])"
      ]
     },
     "execution_count": 27,
     "metadata": {},
     "output_type": "execute_result"
    }
   ],
   "source": [
    "import xyzservices.providers as xyz\n",
    "xyz.CartoDB.keys()"
   ]
  },
  {
   "cell_type": "code",
   "execution_count": 28,
   "metadata": {},
   "outputs": [
    {
     "data": {
      "application/vnd.jupyter.widget-view+json": {
       "model_id": "ff2d52a7a065440b86da80b0f8dd0ba3",
       "version_major": 2,
       "version_minor": 0
      },
      "text/plain": [
       "Map(bottom=654.0, center=[20, 0], controls=(ZoomControl(options=['position', 'zoom_in_text', 'zoom_in_title', …"
      ]
     },
     "metadata": {},
     "output_type": "display_data"
    }
   ],
   "source": [
    "\n",
    "m.add_basemap('CartoDB.DarkMatter')\n",
    "m"
   ]
  },
  {
   "cell_type": "code",
   "execution_count": 2,
   "metadata": {},
   "outputs": [
    {
     "name": "stdout",
     "output_type": "stream",
     "text": [
      "this is what the user is providing:{'scroll_wheel_zoom': True}\n",
      "{'scroll_wheel_zoom': True}\n",
      "{'scroll_wheel_zoom': True, 'layers_control': True}\n",
      "{'scroll_wheel_zoom': True, 'layers_control': True, 'fullscreen_control': True}\n"
     ]
    },
    {
     "data": {
      "application/vnd.jupyter.widget-view+json": {
       "model_id": "3335869d3df14272b9a4264525d4a1cf",
       "version_major": 2,
       "version_minor": 0
      },
      "text/plain": [
       "Map(center=[20, 0], controls=(ZoomControl(options=['position', 'zoom_in_text', 'zoom_in_title', 'zoom_out_text…"
      ]
     },
     "metadata": {},
     "output_type": "display_data"
    }
   ],
   "source": [
    "#geojson \n",
    "\n",
    "import geosdemo\n",
    "import leafmap\n",
    "m = geosdemo.Map()\n",
    "m"
   ]
  },
  {
   "cell_type": "code",
   "execution_count": 34,
   "metadata": {},
   "outputs": [
    {
     "name": "stderr",
     "output_type": "stream",
     "text": [
      "Downloading...\n",
      "From: https://raw.githubusercontent.com/giswqs/geosdemo/master/docs/examples/data/countries.cpg\n",
      "To: /mnt/c/Users/felip/OneDrive - Universidad Nacional de Colombia/2_Formation/DataSc/2_SpatialDS/1_QwGIS/1_GeoDesSoft/geosdemof/docs/examples/countries.cpg\n",
      " 20%|██        | 5.00/25.0 [00:00<00:00, 4.42kB/s]\n",
      "Downloading...\n",
      "From: https://raw.githubusercontent.com/giswqs/geosdemo/master/docs/examples/data/countries.dbf\n",
      "To: /mnt/c/Users/felip/OneDrive - Universidad Nacional de Colombia/2_Formation/DataSc/2_SpatialDS/1_QwGIS/1_GeoDesSoft/geosdemof/docs/examples/countries.dbf\n",
      "100%|██████████| 22.3k/22.3k [00:00<00:00, 7.37MB/s]\n",
      "Downloading...\n",
      "From: https://raw.githubusercontent.com/giswqs/geosdemo/master/docs/examples/data/countries.prj\n",
      "To: /mnt/c/Users/felip/OneDrive - Universidad Nacional de Colombia/2_Formation/DataSc/2_SpatialDS/1_QwGIS/1_GeoDesSoft/geosdemof/docs/examples/countries.prj\n",
      "145B [00:00, 87.7kB/s]                   \n",
      "Downloading...\n",
      "From: https://raw.githubusercontent.com/giswqs/geosdemo/master/docs/examples/data/countries.shp\n",
      "To: /mnt/c/Users/felip/OneDrive - Universidad Nacional de Colombia/2_Formation/DataSc/2_SpatialDS/1_QwGIS/1_GeoDesSoft/geosdemof/docs/examples/countries.shp\n",
      "100%|██████████| 171k/171k [00:00<00:00, 2.57MB/s]\n",
      "Downloading...\n",
      "From: https://raw.githubusercontent.com/giswqs/geosdemo/master/docs/examples/data/countries.shx\n",
      "To: /mnt/c/Users/felip/OneDrive - Universidad Nacional de Colombia/2_Formation/DataSc/2_SpatialDS/1_QwGIS/1_GeoDesSoft/geosdemof/docs/examples/countries.shx\n",
      "100%|██████████| 1.51k/1.51k [00:00<00:00, 4.31MB/s]\n",
      "Downloading...\n",
      "From: https://raw.githubusercontent.com/giswqs/geosdemo/master/docs/examples/data/countries.zip\n",
      "To: /mnt/c/Users/felip/OneDrive - Universidad Nacional de Colombia/2_Formation/DataSc/2_SpatialDS/1_QwGIS/1_GeoDesSoft/geosdemof/docs/examples/countries.zip\n",
      "100%|██████████| 132k/132k [00:00<00:00, 2.41MB/s]\n",
      "Downloading...\n",
      "From: https://raw.githubusercontent.com/giswqs/geosdemo/master/docs/examples/data/sample.geojson\n",
      "To: /mnt/c/Users/felip/OneDrive - Universidad Nacional de Colombia/2_Formation/DataSc/2_SpatialDS/1_QwGIS/1_GeoDesSoft/geosdemof/docs/examples/sample.geojson\n"
     ]
    },
    {
     "name": "stdout",
     "output_type": "stream",
     "text": [
      "Extracting files...\n"
     ]
    },
    {
     "name": "stderr",
     "output_type": "stream",
     "text": [
      "756B [00:00, 402kB/s]                    \n"
     ]
    }
   ],
   "source": [
    "#dOWNLOADING MISSING DATA\n",
    "\n",
    "# links = [\n",
    "#     'https://raw.githubusercontent.com/giswqs/geosdemo/master/docs/examples/data/countries.cpg',\n",
    "#     'https://github.com/giswqs/geosdemo/blob/master/docs/examples/data/countries.dbf',\n",
    "#     'https://raw.githubusercontent.com/giswqs/geosdemo/master/docs/examples/data/countries.prj',\n",
    "#     'https://github.com/giswqs/geosdemo/blob/master/docs/examples/data/countries.shp',\n",
    "#     'https://github.com/giswqs/geosdemo/blob/master/docs/examples/data/countries.shx',\n",
    "#     'https://github.com/giswqs/geosdemo/blob/master/docs/examples/data/countries.zip',\n",
    "#     'https://raw.githubusercontent.com/giswqs/geosdemo/master/docs/examples/data/sample.geojson'\n",
    "# ] \n",
    "\n",
    "# leafmap.download_files(links)\n",
    "#AFTER THIS MOVE THE FILES TO THE DAT FOLDER"
   ]
  },
  {
   "cell_type": "code",
   "execution_count": 3,
   "metadata": {},
   "outputs": [],
   "source": [
    "m.add_geojson('data/sample.geojson')"
   ]
  },
  {
   "cell_type": "code",
   "execution_count": 4,
   "metadata": {},
   "outputs": [
    {
     "data": {
      "application/vnd.jupyter.widget-view+json": {
       "model_id": "3335869d3df14272b9a4264525d4a1cf",
       "version_major": 2,
       "version_minor": 0
      },
      "text/plain": [
       "Map(bottom=654.0, center=[20, 0], controls=(ZoomControl(options=['position', 'zoom_in_text', 'zoom_in_title', …"
      ]
     },
     "metadata": {},
     "output_type": "display_data"
    }
   ],
   "source": [
    "m"
   ]
  },
  {
   "cell_type": "code",
   "execution_count": null,
   "metadata": {},
   "outputs": [],
   "source": []
  }
 ],
 "metadata": {
  "kernelspec": {
   "display_name": "geopy",
   "language": "python",
   "name": "python3"
  },
  "language_info": {
   "codemirror_mode": {
    "name": "ipython",
    "version": 3
   },
   "file_extension": ".py",
   "mimetype": "text/x-python",
   "name": "python",
   "nbconvert_exporter": "python",
   "pygments_lexer": "ipython3",
   "version": "3.9.16"
  },
  "orig_nbformat": 4
 },
 "nbformat": 4,
 "nbformat_minor": 2
}
