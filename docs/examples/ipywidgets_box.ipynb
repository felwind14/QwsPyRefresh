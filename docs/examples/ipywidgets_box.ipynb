{
 "cells": [
  {
   "cell_type": "markdown",
   "metadata": {},
   "source": [
    "![](https://i.imgur.com/MzTCZsz.png)"
   ]
  },
  {
   "cell_type": "code",
   "execution_count": 1,
   "metadata": {},
   "outputs": [
    {
     "ename": "ModuleNotFoundError",
     "evalue": "No module named 'geemap'",
     "output_type": "error",
     "traceback": [
      "\u001b[0;31m---------------------------------------------------------------------------\u001b[0m",
      "\u001b[0;31mModuleNotFoundError\u001b[0m                       Traceback (most recent call last)",
      "Cell \u001b[0;32mIn[1], line 1\u001b[0m\n\u001b[0;32m----> 1\u001b[0m \u001b[38;5;28;01mimport\u001b[39;00m \u001b[38;5;21;01mgeemap\u001b[39;00m\n\u001b[1;32m      2\u001b[0m \u001b[38;5;66;03m# Map = geemap.Map()\u001b[39;00m\n\u001b[1;32m      3\u001b[0m \u001b[38;5;66;03m# Map\u001b[39;00m\n",
      "\u001b[0;31mModuleNotFoundError\u001b[0m: No module named 'geemap'"
     ]
    }
   ],
   "source": [
    "#import geemap\n",
    "# Map = geemap.Map()\n",
    "# Map"
   ]
  },
  {
   "cell_type": "code",
   "execution_count": 1,
   "metadata": {},
   "outputs": [],
   "source": [
    "import ipywidgets as widgets"
   ]
  },
  {
   "cell_type": "code",
   "execution_count": 2,
   "metadata": {},
   "outputs": [],
   "source": [
    "widget_width = \"250px\"\n",
    "padding = \"0px 0px 0px 5px\"  # upper, right, bottom, left"
   ]
  },
  {
   "cell_type": "markdown",
   "metadata": {},
   "source": [
    "icon: https://fontawesome.com/v4.7.0/icons/  #we can check from this website which fonts are available"
   ]
  },
  {
   "cell_type": "code",
   "execution_count": 9,
   "metadata": {
    "tags": []
   },
   "outputs": [
    {
     "data": {
      "application/vnd.jupyter.widget-view+json": {
       "model_id": "8d6b65e39e894d119766563a20016a54",
       "version_major": 2,
       "version_minor": 0
      },
      "text/plain": [
       "ToggleButton(value=False, icon='camera', tooltip='Toolbar')"
      ]
     },
     "metadata": {},
     "output_type": "display_data"
    }
   ],
   "source": [
    "toolbar_button = widgets.ToggleButton(\n",
    "    value=False,\n",
    "    tooltip=\"Toolbar\",\n",
    "    icon=\"camera\",\n",
    "    #layout=widgets.Layout(width=\"28px\", height=\"28px\", padding=padding), #if we remove this line we get a larger background\n",
    ")\n",
    "toolbar_button"
   ]
  },
  {
   "cell_type": "code",
   "execution_count": 10,
   "metadata": {},
   "outputs": [
    {
     "data": {
      "application/vnd.jupyter.widget-view+json": {
       "model_id": "bc011f17d7eb4f15a95ef02141f479b5",
       "version_major": 2,
       "version_minor": 0
      },
      "text/plain": [
       "ToggleButton(value=False, icon='gear', layout=Layout(height='28px', padding='0px 0px 0px 4px', width='28px'), …"
      ]
     },
     "metadata": {},
     "output_type": "display_data"
    }
   ],
   "source": [
    "toolbar_button = widgets.ToggleButton(\n",
    "    value=False,\n",
    "    tooltip=\"Toolbar\",\n",
    "    icon=\"gear\",\n",
    "    layout=widgets.Layout(width=\"28px\", height=\"28px\", padding=padding), #if we remove this line we get a larger backgro\n",
    ")\n",
    "toolbar_button"
   ]
  },
  {
   "cell_type": "code",
   "execution_count": 11,
   "metadata": {
    "tags": []
   },
   "outputs": [],
   "source": [
    "import ipyleaflet"
   ]
  },
  {
   "cell_type": "code",
   "execution_count": 14,
   "metadata": {
    "tags": []
   },
   "outputs": [],
   "source": [
    "#adding widget crontol from pcalss 12b\n",
    "control = ipyleaflet.WidgetControl(widget = toolbar_button, position = 'topright')"
   ]
  },
  {
   "cell_type": "code",
   "execution_count": 17,
   "metadata": {
    "tags": []
   },
   "outputs": [
    {
     "data": {
      "application/vnd.jupyter.widget-view+json": {
       "model_id": "1aad7c6eb5bc4b29bb2a90baebf05b0c",
       "version_major": 2,
       "version_minor": 0
      },
      "text/plain": [
       "Map(center=[40, -100], controls=(ZoomControl(options=['position', 'zoom_in_text', 'zoom_in_title', 'zoom_out_t…"
      ]
     },
     "metadata": {},
     "output_type": "display_data"
    }
   ],
   "source": [
    "m = ipyleaflet.Map(center=[40, -100], zoom =4)\n",
    "m"
   ]
  },
  {
   "cell_type": "code",
   "execution_count": 18,
   "metadata": {
    "tags": []
   },
   "outputs": [],
   "source": [
    "m.add_control(control) #see how the icon is displlayed on the toip map --This is the way how leafmap was constructed"
   ]
  },
  {
   "cell_type": "code",
   "execution_count": 19,
   "metadata": {
    "tags": []
   },
   "outputs": [],
   "source": [
    "import leafmap\n"
   ]
  },
  {
   "cell_type": "code",
   "execution_count": 20,
   "metadata": {
    "tags": []
   },
   "outputs": [
    {
     "data": {
      "application/vnd.jupyter.widget-view+json": {
       "model_id": "aa04437ad3fd433aafb90b1aa2e62c05",
       "version_major": 2,
       "version_minor": 0
      },
      "text/plain": [
       "Map(center=[20, 0], controls=(ZoomControl(options=['position', 'zoom_in_text', 'zoom_in_title', 'zoom_out_text…"
      ]
     },
     "metadata": {},
     "output_type": "display_data"
    }
   ],
   "source": [
    "m2 = leafmap.Map()\n",
    "m2"
   ]
  },
  {
   "cell_type": "code",
   "execution_count": null,
   "metadata": {},
   "outputs": [],
   "source": []
  },
  {
   "cell_type": "code",
   "execution_count": 21,
   "metadata": {},
   "outputs": [],
   "source": [
    "# toolbar_button.layout.width = \"28px\""
   ]
  },
  {
   "cell_type": "code",
   "execution_count": 23,
   "metadata": {},
   "outputs": [
    {
     "data": {
      "text/plain": [
       "True"
      ]
     },
     "execution_count": 23,
     "metadata": {},
     "output_type": "execute_result"
    }
   ],
   "source": [
    "toolbar_button.value  #if selected the button added is goint o return true"
   ]
  },
  {
   "cell_type": "code",
   "execution_count": 24,
   "metadata": {},
   "outputs": [
    {
     "data": {
      "application/vnd.jupyter.widget-view+json": {
       "model_id": "0cbd0c5ec1dd43a2bb0a142e5740c64e",
       "version_major": 2,
       "version_minor": 0
      },
      "text/plain": [
       "ToggleButton(value=False, button_style='primary', icon='times', layout=Layout(height='28px', padding='0px 0px …"
      ]
     },
     "metadata": {},
     "output_type": "display_data"
    }
   ],
   "source": [
    "close_button = widgets.ToggleButton(\n",
    "    value=False,\n",
    "    tooltip=\"Close the tool\",\n",
    "    icon=\"times\",\n",
    "    button_style=\"primary\",\n",
    "    layout=widgets.Layout(height=\"28px\", width=\"28px\", padding=padding),\n",
    ")\n",
    "close_button"
   ]
  },
  {
   "cell_type": "code",
   "execution_count": 37,
   "metadata": {
    "tags": []
   },
   "outputs": [
    {
     "data": {
      "application/vnd.jupyter.widget-view+json": {
       "model_id": "36ed9df8745d40638db9bab072676970",
       "version_major": 2,
       "version_minor": 0
      },
      "text/plain": [
       "ToggleButton(value=False, button_style='danger', icon='times', layout=Layout(height='28px', padding='0px 0px 0…"
      ]
     },
     "metadata": {},
     "output_type": "display_data"
    }
   ],
   "source": [
    "close_button = widgets.ToggleButton(\n",
    "    value=False,\n",
    "    tooltip=\"Close the tool\",\n",
    "    icon=\"times\",\n",
    "    button_style=\"danger\", #styles from https://ipywidgets.readthedocs.io/en/stable/examples/Widget%20Styling.html\n",
    "    layout=widgets.Layout(height=\"28px\", width=\"28px\", padding=padding),\n",
    ")\n",
    "close_button\n",
    "\n",
    "#if you click in one type of icon all of them get selected they are connected"
   ]
  },
  {
   "cell_type": "code",
   "execution_count": 32,
   "metadata": {},
   "outputs": [
    {
     "data": {
      "application/vnd.jupyter.widget-view+json": {
       "model_id": "35dc65efaa0a41ce9d2f65bd738b0d01",
       "version_major": 2,
       "version_minor": 0
      },
      "text/plain": [
       "HBox(children=(ToggleButton(value=False, button_style='danger', icon='times', layout=Layout(height='28px', pad…"
      ]
     },
     "metadata": {},
     "output_type": "display_data"
    }
   ],
   "source": [
    "widgets.HBox([close_button, toolbar_button]) #horizontal box makes a list with location"
   ]
  },
  {
   "cell_type": "code",
   "execution_count": 34,
   "metadata": {
    "tags": []
   },
   "outputs": [
    {
     "data": {
      "application/vnd.jupyter.widget-view+json": {
       "model_id": "77be7cb6592c44908e8c2803dfc20e15",
       "version_major": 2,
       "version_minor": 0
      },
      "text/plain": [
       "VBox(children=(ToggleButton(value=False, button_style='danger', icon='times', layout=Layout(height='28px', pad…"
      ]
     },
     "metadata": {},
     "output_type": "display_data"
    }
   ],
   "source": [
    "widgets.VBox([close_button, toolbar_button]) #horizontal box makes a list with location"
   ]
  },
  {
   "cell_type": "code",
   "execution_count": 41,
   "metadata": {},
   "outputs": [
    {
     "data": {
      "application/vnd.jupyter.widget-view+json": {
       "model_id": "02f3008404154f1983a94446d08054bb",
       "version_major": 2,
       "version_minor": 0
      },
      "text/plain": [
       "HBox(children=(ToggleButton(value=True, button_style='danger', icon='times', layout=Layout(height='28px', padd…"
      ]
     },
     "metadata": {},
     "output_type": "display_data"
    }
   ],
   "source": [
    "#suing children to reduce a menu to change things dinamically\n",
    "box = widgets.HBox()\n",
    "box.children = [close_button, toolbar_button]\n",
    "box"
   ]
  },
  {
   "cell_type": "code",
   "execution_count": 40,
   "metadata": {
    "tags": []
   },
   "outputs": [
    {
     "data": {
      "application/vnd.jupyter.widget-view+json": {
       "model_id": "868c7be2101544b49381c24850a0cf44",
       "version_major": 2,
       "version_minor": 0
      },
      "text/plain": [
       "HBox(children=(ToggleButton(value=False, icon='gear', layout=Layout(height='28px', padding='0px 0px 0px 4px', …"
      ]
     },
     "metadata": {},
     "output_type": "display_data"
    }
   ],
   "source": [
    "box.children =[toolbar_button]\n",
    "box"
   ]
  },
  {
   "cell_type": "code",
   "execution_count": 42,
   "metadata": {},
   "outputs": [
    {
     "data": {
      "application/vnd.jupyter.widget-view+json": {
       "model_id": "8e9f7cb4768a4600b9832081598e63f6",
       "version_major": 2,
       "version_minor": 0
      },
      "text/plain": [
       "Checkbox(value=False, description='Checkbox', indent=False, layout=Layout(padding='0px 0px 0px 4px', width='25…"
      ]
     },
     "metadata": {},
     "output_type": "display_data"
    }
   ],
   "source": [
    "checkbox = widgets.Checkbox(\n",
    "    description=\"Checkbox\",\n",
    "    indent=False,\n",
    "    layout=widgets.Layout(padding=padding, width=widget_width),\n",
    ")\n",
    "checkbox"
   ]
  },
  {
   "cell_type": "code",
   "execution_count": 22,
   "metadata": {
    "tags": []
   },
   "outputs": [
    {
     "data": {
      "application/vnd.jupyter.widget-view+json": {
       "model_id": "c4f739b50c5146678e68ade430ff4d04",
       "version_major": 2,
       "version_minor": 0
      },
      "text/plain": [
       "Dropdown(description='Dropdown:', layout=Layout(padding='0px 0px 0px 5px', width='250px'), options=('Option 1'…"
      ]
     },
     "metadata": {},
     "output_type": "display_data"
    }
   ],
   "source": [
    "#widgets. hit tab and you will be able to see alll widgets"
   ]
  },
  {
   "cell_type": "code",
   "execution_count": 43,
   "metadata": {
    "tags": []
   },
   "outputs": [
    {
     "data": {
      "text/plain": [
       "True"
      ]
     },
     "execution_count": 43,
     "metadata": {},
     "output_type": "execute_result"
    }
   ],
   "source": [
    "checkbox.value  #always each widget has a value "
   ]
  },
  {
   "cell_type": "code",
   "execution_count": 23,
   "metadata": {
    "tags": []
   },
   "outputs": [
    {
     "data": {
      "application/vnd.jupyter.widget-view+json": {
       "model_id": "b9457057a15247f49026f5c1699c896e",
       "version_major": 2,
       "version_minor": 0
      },
      "text/plain": [
       "IntSlider(value=1, description='Int Slider: ', layout=Layout(padding='0px 0px 0px 5px', width='250px'), min=1,…"
      ]
     },
     "metadata": {},
     "output_type": "display_data"
    }
   ],
   "source": [
    "widgets.Checkbox() #this is a class inside the parethesis hit shift+tab to see the documentation "
   ]
  },
  {
   "cell_type": "code",
   "execution_count": 46,
   "metadata": {},
   "outputs": [
    {
     "data": {
      "application/vnd.jupyter.widget-view+json": {
       "model_id": "c6d53ee7d839493bbdfdc85b705232c3",
       "version_major": 2,
       "version_minor": 0
      },
      "text/plain": [
       "Dropdown(description='Dropdown:', layout=Layout(padding='0px 0px 0px 4px', width='250px'), options=('Option 1'…"
      ]
     },
     "metadata": {},
     "output_type": "display_data"
    }
   ],
   "source": [
    "dropdown = widgets.Dropdown(\n",
    "    options=[\"Option 1\", \"Option 2\", \"Option 3\"],\n",
    "    value=None, #to allow show eevrything unselected if you remove the line the first will be selected\n",
    "    description=\"Dropdown:\",\n",
    "    layout=widgets.Layout(width=widget_width, padding=padding),\n",
    "    style={\"description_width\": \"initial\"},#MEANS YOU DONT HAVE SPACE TO TEH LEFT OF THE WIDGET\n",
    ")\n",
    "dropdown"
   ]
  },
  {
   "cell_type": "code",
   "execution_count": 47,
   "metadata": {},
   "outputs": [
    {
     "data": {
      "application/vnd.jupyter.widget-view+json": {
       "model_id": "930f8f8b552147128259e0cc489faa5a",
       "version_major": 2,
       "version_minor": 0
      },
      "text/plain": [
       "IntSlider(value=1, description='Int Slider: ', layout=Layout(padding='0px 0px 0px 4px', width='250px'), min=1,…"
      ]
     },
     "metadata": {},
     "output_type": "display_data"
    }
   ],
   "source": [
    "int_slider = widgets.IntSlider(\n",
    "    min=1,\n",
    "    max=100,\n",
    "    description=\"Int Slider: \",\n",
    "    readout=True,\n",
    "    continuous_update=True,\n",
    "    layout=widgets.Layout(width=widget_width, padding=padding),\n",
    "    style={\"description_width\": \"initial\"},\n",
    ")\n",
    "int_slider"
   ]
  },
  {
   "cell_type": "code",
   "execution_count": 50,
   "metadata": {
    "tags": []
   },
   "outputs": [
    {
     "data": {
      "application/vnd.jupyter.widget-view+json": {
       "model_id": "4019f56e0b984931a41313a97efd24dc",
       "version_major": 2,
       "version_minor": 0
      },
      "text/plain": [
       "IntSlider(value=0, description='Int Slider: ', layout=Layout(padding='0px 0px 0px 4px', width='250px'), step=5…"
      ]
     },
     "metadata": {},
     "output_type": "display_data"
    }
   ],
   "source": [
    "#we can add and step\n",
    "\n",
    "int_slider = widgets.IntSlider(\n",
    "    min=0,\n",
    "    max=100,\n",
    "    step= 5,\n",
    "    description=\"Int Slider: \",\n",
    "    readout=True,\n",
    "    continuous_update=True,\n",
    "    layout=widgets.Layout(width=widget_width, padding=padding),\n",
    "    style={\"description_width\": \"initial\"},\n",
    ")\n",
    "int_slider"
   ]
  },
  {
   "cell_type": "code",
   "execution_count": 53,
   "metadata": {},
   "outputs": [
    {
     "data": {
      "application/vnd.jupyter.widget-view+json": {
       "model_id": "ed1841f2b8f849b4bbbcd6f1f6caecf3",
       "version_major": 2,
       "version_minor": 0
      },
      "text/plain": [
       "FloatSlider(value=1.0, description='Float Slider: ', layout=Layout(padding='0px 0px 0px 4px', width='250px'), …"
      ]
     },
     "metadata": {},
     "output_type": "display_data"
    }
   ],
   "source": [
    "float_slider = widgets.FloatSlider(\n",
    "    min=1,\n",
    "    max=100,\n",
    "    description=\"Float Slider: \",\n",
    "    readout=True, #to enable values on the slider\n",
    "    continuous_update=True,\n",
    "    layout=widgets.Layout(width=widget_width, padding=padding),\n",
    "    style={\"description_width\": \"initial\"},\n",
    ")\n",
    "float_slider"
   ]
  },
  {
   "cell_type": "code",
   "execution_count": 57,
   "metadata": {},
   "outputs": [
    {
     "data": {
      "application/vnd.jupyter.widget-view+json": {
       "model_id": "a0f31d31ccef405296833796b4842418",
       "version_major": 2,
       "version_minor": 0
      },
      "text/plain": [
       "ColorPicker(value='white', description='Color:', layout=Layout(padding='0px 0px 0px 4px', width='250px'), styl…"
      ]
     },
     "metadata": {},
     "output_type": "display_data"
    }
   ],
   "source": [
    "color = widgets.ColorPicker(\n",
    "    concise=False,  #if we put to true the hegx colour is not shown\n",
    "    description=\"Color:\",\n",
    "    value=\"white\",\n",
    "    style={\"description_width\": \"initial\"},\n",
    "    layout=widgets.Layout(width=widget_width, padding=padding),\n",
    ")\n",
    "color\n",
    "\n",
    "#example of bad documentaion"
   ]
  },
  {
   "cell_type": "code",
   "execution_count": 58,
   "metadata": {
    "tags": []
   },
   "outputs": [
    {
     "data": {
      "text/plain": [
       "'white'"
      ]
     },
     "execution_count": 58,
     "metadata": {},
     "output_type": "execute_result"
    }
   ],
   "source": [
    "color.value"
   ]
  },
  {
   "cell_type": "code",
   "execution_count": 59,
   "metadata": {},
   "outputs": [
    {
     "data": {
      "application/vnd.jupyter.widget-view+json": {
       "model_id": "6ad7354fe861422092076003f5a434f5",
       "version_major": 2,
       "version_minor": 0
      },
      "text/plain": [
       "Text(value='', description='Textbox:', layout=Layout(padding='0px 0px 0px 4px', width='250px'), placeholder='E…"
      ]
     },
     "metadata": {},
     "output_type": "display_data"
    }
   ],
   "source": [
    "text = widgets.Text(\n",
    "    value=\"\",\n",
    "    description=\"Textbox:\",\n",
    "    placeholder=\"Enter sth.\",\n",
    "    style={\"description_width\": \"initial\"},\n",
    "    layout=widgets.Layout(width=widget_width, padding=padding),\n",
    ")\n",
    "text"
   ]
  },
  {
   "cell_type": "code",
   "execution_count": 61,
   "metadata": {},
   "outputs": [
    {
     "data": {
      "application/vnd.jupyter.widget-view+json": {
       "model_id": "e024f8b55dc3406594105f2652e2d778",
       "version_major": 2,
       "version_minor": 0
      },
      "text/plain": [
       "Textarea(value='https://google.com', layout=Layout(width='250px'), placeholder='Placeholder')"
      ]
     },
     "metadata": {},
     "output_type": "display_data"
    }
   ],
   "source": [
    "textarea = widgets.Textarea(\n",
    "  # value='https://google.com', if you add this by default therewill be atext so in oder to seeyour place holder we need to rmeove the text first\n",
    "    placeholder=\"Placeholder\", #enter teh value you want \n",
    "    layout=widgets.Layout(width=widget_width),\n",
    ")\n",
    "textarea"
   ]
  },
  {
   "cell_type": "code",
   "execution_count": 65,
   "metadata": {},
   "outputs": [
    {
     "data": {
      "application/vnd.jupyter.widget-view+json": {
       "model_id": "273c959132e14ad485f93cca7e577f72",
       "version_major": 2,
       "version_minor": 0
      },
      "text/plain": [
       "ToggleButtons(button_style='primary', options=('Apply', 'Reset', 'Close'), style=ToggleButtonsStyle(button_wid…"
      ]
     },
     "metadata": {},
     "output_type": "display_data"
    }
   ],
   "source": [
    "buttons = widgets.ToggleButtons(\n",
    "    value=None, #To select sth by default example a basemap\n",
    "    options=[\"Apply\", \"Reset\", \"Close\"],\n",
    "    tooltips=[\"Apply the algorithm\", \"Reset\", \"Close\"],\n",
    "    button_style=\"primary\",\n",
    ")\n",
    "buttons.style.button_width = \"50px\"\n",
    "buttons"
   ]
  },
  {
   "cell_type": "code",
   "execution_count": 68,
   "metadata": {
    "tags": []
   },
   "outputs": [
    {
     "data": {
      "text/plain": [
       "'Apply'"
      ]
     },
     "execution_count": 68,
     "metadata": {},
     "output_type": "execute_result"
    }
   ],
   "source": [
    "buttons.value"
   ]
  },
  {
   "cell_type": "markdown",
   "metadata": {},
   "source": [
    "### Most powerful widget we can display images abutton widgets anything in there\n"
   ]
  },
  {
   "cell_type": "code",
   "execution_count": 73,
   "metadata": {},
   "outputs": [
    {
     "data": {
      "application/vnd.jupyter.widget-view+json": {
       "model_id": "d4a3a07c812c46ff9c6fd62467adae2b",
       "version_major": 2,
       "version_minor": 0
      },
      "text/plain": [
       "Output(layout=Layout(padding='0px 0px 0px 4px', width='250px'))"
      ]
     },
     "metadata": {},
     "output_type": "display_data"
    }
   ],
   "source": [
    "output = widgets.Output(layout=widgets.Layout(width=widget_width, padding=padding))\n",
    "with output:\n",
    "    output.clear_output()\n",
    "    print(\"Running ...\")\n",
    "output"
   ]
  },
  {
   "cell_type": "code",
   "execution_count": 72,
   "metadata": {
    "tags": []
   },
   "outputs": [],
   "source": [
    "output.clear_output()"
   ]
  },
  {
   "cell_type": "code",
   "execution_count": 79,
   "metadata": {
    "tags": []
   },
   "outputs": [
    {
     "data": {
      "application/vnd.jupyter.widget-view+json": {
       "model_id": "d4a3a07c812c46ff9c6fd62467adae2b",
       "version_major": 2,
       "version_minor": 0
      },
      "text/plain": [
       "Output(layout=Layout(padding='0px 0px 0px 4px', width='250px'), outputs=({'name': 'stdout', 'text': 'Running. …"
      ]
     },
     "metadata": {},
     "output_type": "display_data"
    }
   ],
   "source": [
    "#if this is run this sends again the output to the widget with the new mewssage\n",
    "with output:\n",
    "    #output.clear_output() #without the clear output will create a result for each iteration\n",
    "    print(\"Running. Plase wait\")\n",
    "output"
   ]
  },
  {
   "cell_type": "code",
   "execution_count": 80,
   "metadata": {
    "tags": []
   },
   "outputs": [
    {
     "data": {
      "application/vnd.jupyter.widget-view+json": {
       "model_id": "d4a3a07c812c46ff9c6fd62467adae2b",
       "version_major": 2,
       "version_minor": 0
      },
      "text/plain": [
       "Output(layout=Layout(padding='0px 0px 0px 4px', width='250px'), outputs=({'name': 'stdout', 'text': 'Running. …"
      ]
     },
     "metadata": {},
     "output_type": "display_data"
    }
   ],
   "source": [
    "with output:\n",
    "    output.clear_output()\n",
    "    print(\"Running ...\")#this line of code will display the buttons\n",
    "    display(buttons)\n",
    "output"
   ]
  },
  {
   "cell_type": "code",
   "execution_count": null,
   "metadata": {
    "tags": []
   },
   "outputs": [],
   "source": [
    "with output:\n",
    "    output.clear_output()\n",
    "    print(\"Running ...\")#this line of code will display the buttons\n",
    "    display(buttons)\n",
    "    display(checkbox)\n",
    "output"
   ]
  },
  {
   "cell_type": "markdown",
   "metadata": {},
   "source": [
    "### #we can add an step\n",
    "\n",
    "int_slider = widgets.IntSlider(\n",
    "    min=0,\n",
    "    max=100,\n",
    "    step= 5,\n",
    "    description=\"Int Slider: \",\n",
    "    readout=True,\n",
    "    continuous_update=True,\n",
    "    layout=widgets.Layout(width=widget_width, padding=padding),\n",
    "    style={\"description_width\": \"initial\"},\n",
    ")\n",
    "int_slider#we can add and step\n",
    "\n",
    "int_slider = widgets.IntSlider(\n",
    "    min=0,\n",
    "    max=100,\n",
    "    step= 5,\n",
    "    description=\"Int Slider: \",\n",
    "    readout=True,\n",
    "    continuous_update=True,\n",
    "    layout=widgets.Layout(width=widget_width, padding=padding),\n",
    "    style={\"description_width\": \"initial\"},\n",
    ")\n",
    "int_sliderHow to put everything together"
   ]
  },
  {
   "cell_type": "code",
   "execution_count": 101,
   "metadata": {
    "tags": []
   },
   "outputs": [
    {
     "data": {
      "application/vnd.jupyter.widget-view+json": {
       "model_id": "4d2557911ef241899833a0f89ff83262",
       "version_major": 2,
       "version_minor": 0
      },
      "text/plain": [
       "IntSlider(value=4, description='Zoom: ', layout=Layout(padding='0px 0px 0px 4px', width='250px'), max=24, min=…"
      ]
     },
     "metadata": {},
     "output_type": "display_data"
    }
   ],
   "source": [
    "#we can add and step\n",
    "\n",
    "int_slider = widgets.IntSlider(\n",
    "    value = 4, #default\n",
    "    min=1,\n",
    "    max=24,\n",
    "    step= 1,\n",
    "    description=\"Zoom: \",\n",
    "    readout=True,\n",
    "    continuous_update=True,\n",
    "    layout=widgets.Layout(width=widget_width, padding=padding),\n",
    "    style={\"description_width\": \"initial\"},\n",
    ")\n",
    "int_slider"
   ]
  },
  {
   "cell_type": "code",
   "execution_count": 102,
   "metadata": {},
   "outputs": [
    {
     "data": {
      "application/vnd.jupyter.widget-view+json": {
       "model_id": "c9cf013a95d24b6a94cc73df0530df08",
       "version_major": 2,
       "version_minor": 0
      },
      "text/plain": [
       "VBox(children=(HBox(children=(ToggleButton(value=True, button_style='danger', icon='times', layout=Layout(heig…"
      ]
     },
     "metadata": {},
     "output_type": "display_data"
    }
   ],
   "source": [
    "toolbar_widget = widgets.VBox()\n",
    "toolbar_widget.children = [\n",
    "    widgets.HBox([close_button, toolbar_button]), #nested box to add more columns\n",
    "    checkbox,\n",
    "    int_slider,\n",
    "    float_slider,\n",
    "    dropdown,\n",
    "    text,\n",
    "    color,\n",
    "    textarea,\n",
    "    buttons,\n",
    "    output,\n",
    "]\n",
    "toolbar_widget"
   ]
  },
  {
   "cell_type": "code",
   "execution_count": 103,
   "metadata": {
    "tags": []
   },
   "outputs": [],
   "source": [
    "control1 = ipyleaflet.WidgetControl(widget=toolbar_widget, position ='topright')"
   ]
  },
  {
   "cell_type": "code",
   "execution_count": 104,
   "metadata": {
    "tags": []
   },
   "outputs": [],
   "source": [
    "m =ipyleaflet.Map(center=[40, -100], zoom=4)"
   ]
  },
  {
   "cell_type": "code",
   "execution_count": 105,
   "metadata": {
    "tags": []
   },
   "outputs": [],
   "source": [
    "m.add_control(control1)"
   ]
  },
  {
   "cell_type": "code",
   "execution_count": 106,
   "metadata": {
    "tags": []
   },
   "outputs": [
    {
     "data": {
      "application/vnd.jupyter.widget-view+json": {
       "model_id": "3c7951905b8c4bd2a844bf406cc3e121",
       "version_major": 2,
       "version_minor": 0
      },
      "text/plain": [
       "Map(center=[40, -100], controls=(ZoomControl(options=['position', 'zoom_in_text', 'zoom_in_title', 'zoom_out_t…"
      ]
     },
     "metadata": {},
     "output_type": "display_data"
    }
   ],
   "source": [
    "m"
   ]
  },
  {
   "cell_type": "markdown",
   "metadata": {},
   "source": [
    "# Lets make it interactive - how to link with map"
   ]
  },
  {
   "cell_type": "code",
   "execution_count": 108,
   "metadata": {
    "tags": []
   },
   "outputs": [],
   "source": [
    "#lets analize this behaviour map has anttribute called zooom\n",
    "\n",
    "m.zoom=3 #This changes alll associated maps"
   ]
  },
  {
   "cell_type": "markdown",
   "metadata": {},
   "source": [
    "We need to link the attribute with the intslider"
   ]
  },
  {
   "cell_type": "code",
   "execution_count": 111,
   "metadata": {
    "tags": []
   },
   "outputs": [
    {
     "data": {
      "text/plain": [
       "Link(source=(Map(bottom=975.0, center=[40, -100], controls=(ZoomControl(options=['position', 'zoom_in_text', '…"
      ]
     },
     "metadata": {},
     "output_type": "display_data"
    }
   ],
   "source": [
    "widgets.jslink((m, 'zoom'), (int_slider, 'value'))"
   ]
  },
  {
   "cell_type": "code",
   "execution_count": 112,
   "metadata": {
    "tags": []
   },
   "outputs": [
    {
     "data": {
      "application/vnd.jupyter.widget-view+json": {
       "model_id": "3c7951905b8c4bd2a844bf406cc3e121",
       "version_major": 2,
       "version_minor": 0
      },
      "text/plain": [
       "Map(bottom=3301.0, center=[40, -100], controls=(ZoomControl(options=['position', 'zoom_in_text', 'zoom_in_titl…"
      ]
     },
     "metadata": {},
     "output_type": "display_data"
    }
   ],
   "source": [
    "m  #now zoom controls are usable"
   ]
  },
  {
   "cell_type": "markdown",
   "metadata": {
    "tags": []
   },
   "source": [
    "lets add this possiblity atttribute"
   ]
  },
  {
   "cell_type": "code",
   "execution_count": 124,
   "metadata": {
    "tags": []
   },
   "outputs": [
    {
     "data": {
      "text/plain": [
       "Link(source=(Map(center=[40, -100], controls=(ZoomControl(options=['position', 'zoom_in_text', 'zoom_in_title'…"
      ]
     },
     "metadata": {},
     "output_type": "display_data"
    }
   ],
   "source": [
    "int_slider = widgets.IntSlider(\n",
    "    value = 4, #default\n",
    "    min=1,\n",
    "    max=25,\n",
    "    step= 1,\n",
    "    description=\"Zoom: \",\n",
    "    readout=True,\n",
    "    continuous_update=True,\n",
    "    layout=widgets.Layout(width=widget_width, padding=padding),\n",
    "    style={\"description_width\": \"initial\"},\n",
    ")\n",
    "int_slider\n",
    "\n",
    "toolbar_widget = widgets.VBox()\n",
    "toolbar_widget.children = [\n",
    "    widgets.HBox([close_button, toolbar_button]), #nested box to add more columns\n",
    "    checkbox,\n",
    "    int_slider,\n",
    "    float_slider,\n",
    "    dropdown,\n",
    "    text,\n",
    "    color,\n",
    "    textarea,\n",
    "    buttons,\n",
    "    output,\n",
    "]\n",
    "toolbar_widget\n",
    "\n",
    "\n",
    "\n",
    "m =ipyleaflet.Map(center=[40, -100], zoom=4, scroll_wheel_zoom=True)\n",
    "m.add_control(control1)\n",
    "widgets.jslink((m, 'zoom'), (int_slider, 'value'))"
   ]
  },
  {
   "cell_type": "code",
   "execution_count": 125,
   "metadata": {
    "tags": []
   },
   "outputs": [
    {
     "data": {
      "application/vnd.jupyter.widget-view+json": {
       "model_id": "64e70e71b1b74ab087a0d3bb14aa60da",
       "version_major": 2,
       "version_minor": 0
      },
      "text/plain": [
       "Map(center=[40, -100], controls=(ZoomControl(options=['position', 'zoom_in_text', 'zoom_in_title', 'zoom_out_t…"
      ]
     },
     "metadata": {},
     "output_type": "display_data"
    }
   ],
   "source": [
    "m"
   ]
  },
  {
   "cell_type": "code",
   "execution_count": 126,
   "metadata": {
    "tags": []
   },
   "outputs": [
    {
     "data": {
      "text/plain": [
       "[40, -100]"
      ]
     },
     "execution_count": 126,
     "metadata": {},
     "output_type": "execute_result"
    }
   ],
   "source": [
    "m.center"
   ]
  },
  {
   "cell_type": "code",
   "execution_count": 128,
   "metadata": {
    "tags": []
   },
   "outputs": [
    {
     "data": {
      "text/plain": [
       "Link(source=(Map(bottom=970.0, center=[40.75480045166473, -98.93413902370756], controls=(ZoomControl(options=[…"
      ]
     },
     "metadata": {},
     "output_type": "display_data"
    }
   ],
   "source": [
    "widgets.jslink((m, \"center\") , (text, 'value'))  #adding the center attribute to the textbox"
   ]
  },
  {
   "cell_type": "markdown",
   "metadata": {},
   "source": [
    "##### Adding multiple maps"
   ]
  },
  {
   "cell_type": "code",
   "execution_count": 135,
   "metadata": {
    "tags": []
   },
   "outputs": [],
   "source": [
    "out = widgets.Output()"
   ]
  },
  {
   "cell_type": "code",
   "execution_count": 149,
   "metadata": {
    "tags": []
   },
   "outputs": [],
   "source": [
    "with out:\n",
    "    display(m)   \n",
    "#Adding by running this cell many times we get as many maps synchronized"
   ]
  },
  {
   "cell_type": "code",
   "execution_count": 150,
   "metadata": {
    "tags": []
   },
   "outputs": [],
   "source": [
    "box =widgets.HBox()"
   ]
  },
  {
   "cell_type": "code",
   "execution_count": 152,
   "metadata": {
    "tags": []
   },
   "outputs": [
    {
     "data": {
      "application/vnd.jupyter.widget-view+json": {
       "model_id": "e687928bd5e1429fbe54e7e203541a56",
       "version_major": 2,
       "version_minor": 0
      },
      "text/plain": [
       "HBox(children=(Map(bottom=272.0, center=[78.06198918665976, 81.56250000000001], controls=(ZoomControl(options=…"
      ]
     },
     "metadata": {},
     "output_type": "display_data"
    }
   ],
   "source": [
    "box.children = [m,m,m]\n",
    "box"
   ]
  },
  {
   "cell_type": "code",
   "execution_count": 153,
   "metadata": {
    "tags": []
   },
   "outputs": [
    {
     "ename": "SyntaxError",
     "evalue": "invalid syntax (585511340.py, line 1)",
     "output_type": "error",
     "traceback": [
      "\u001b[0;36m  Cell \u001b[0;32mIn[153], line 1\u001b[0;36m\u001b[0m\n\u001b[0;31m    def remove_widget()\u001b[0m\n\u001b[0m                       ^\u001b[0m\n\u001b[0;31mSyntaxError\u001b[0m\u001b[0;31m:\u001b[0m invalid syntax\n"
     ]
    }
   ],
   "source": [
    "def remove_widget()"
   ]
  },
  {
   "cell_type": "code",
   "execution_count": null,
   "metadata": {},
   "outputs": [],
   "source": []
  }
 ],
 "metadata": {
  "hide_input": false,
  "kernelspec": {
   "display_name": "Python 3 (ipykernel)",
   "language": "python",
   "name": "python3"
  },
  "language_info": {
   "codemirror_mode": {
    "name": "ipython",
    "version": 3
   },
   "file_extension": ".py",
   "mimetype": "text/x-python",
   "name": "python",
   "nbconvert_exporter": "python",
   "pygments_lexer": "ipython3",
   "version": "3.9.16"
  },
  "toc": {
   "base_numbering": 1,
   "nav_menu": {},
   "number_sections": true,
   "sideBar": true,
   "skip_h1_title": false,
   "title_cell": "Table of Contents",
   "title_sidebar": "Contents",
   "toc_cell": false,
   "toc_position": {},
   "toc_section_display": true,
   "toc_window_display": false
  },
  "varInspector": {
   "cols": {
    "lenName": 16,
    "lenType": 16,
    "lenVar": 40
   },
   "kernels_config": {
    "python": {
     "delete_cmd_postfix": "",
     "delete_cmd_prefix": "del ",
     "library": "var_list.py",
     "varRefreshCmd": "print(var_dic_list())"
    },
    "r": {
     "delete_cmd_postfix": ") ",
     "delete_cmd_prefix": "rm(",
     "library": "var_list.r",
     "varRefreshCmd": "cat(var_dic_list()) "
    }
   },
   "types_to_exclude": [
    "module",
    "function",
    "builtin_function_or_method",
    "instance",
    "_Feature"
   ],
   "window_display": false
  }
 },
 "nbformat": 4,
 "nbformat_minor": 4
}
