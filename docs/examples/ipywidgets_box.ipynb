{
 "cells": [
  {
   "cell_type": "markdown",
   "metadata": {},
   "source": [
    "![](https://i.imgur.com/MzTCZsz.png)"
   ]
  },
  {
   "cell_type": "code",
   "execution_count": 11,
   "metadata": {
    "tags": []
   },
   "outputs": [],
   "source": [
    "import ipywidgets as widgets"
   ]
  },
  {
   "cell_type": "code",
   "execution_count": 12,
   "metadata": {
    "tags": []
   },
   "outputs": [],
   "source": [
    "# import geemap\n",
    "# Map = geemap.Map()\n",
    "# Map"
   ]
  },
  {
   "cell_type": "code",
   "execution_count": 14,
   "metadata": {
    "tags": []
   },
   "outputs": [],
   "source": [
    "widget_width = \"250px\"\n",
    "padding = \"0px 0px 0px 5px\"  # upper, right, bottom, left"
   ]
  },
  {
   "cell_type": "markdown",
   "metadata": {},
   "source": [
    "icon: https://fontawesome.com/v4.7.0/icons/"
   ]
  },
  {
   "cell_type": "code",
   "execution_count": 15,
   "metadata": {
    "tags": []
   },
   "outputs": [
    {
     "data": {
      "application/vnd.jupyter.widget-view+json": {
       "model_id": "9e1badd23b0a4d858fca8ff7717b92d2",
       "version_major": 2,
       "version_minor": 0
      },
      "text/plain": [
       "ToggleButton(value=False, icon='gear', layout=Layout(height='28px', padding='0px 0px 0px 5px', width='28px'), …"
      ]
     },
     "metadata": {},
     "output_type": "display_data"
    }
   ],
   "source": [
    "toolbar_button = widgets.ToggleButton(\n",
    "    value=False,\n",
    "    tooltip=\"Toolbar\",\n",
    "    icon=\"gear\",\n",
    "    layout=widgets.Layout(width=\"28px\", height=\"28px\", padding=padding),\n",
    ")\n",
    "toolbar_button"
   ]
  },
  {
   "cell_type": "code",
   "execution_count": 16,
   "metadata": {
    "tags": []
   },
   "outputs": [],
   "source": [
    "# toolbar_button.layout.width = \"28px\""
   ]
  },
  {
   "cell_type": "code",
   "execution_count": 17,
   "metadata": {
    "tags": []
   },
   "outputs": [
    {
     "data": {
      "text/plain": [
       "False"
      ]
     },
     "execution_count": 17,
     "metadata": {},
     "output_type": "execute_result"
    }
   ],
   "source": [
    "toolbar_button.value"
   ]
  },
  {
   "cell_type": "code",
   "execution_count": 18,
   "metadata": {
    "tags": []
   },
   "outputs": [
    {
     "data": {
      "application/vnd.jupyter.widget-view+json": {
       "model_id": "036feb4513004b939682b4eb0319b55d",
       "version_major": 2,
       "version_minor": 0
      },
      "text/plain": [
       "ToggleButton(value=False, button_style='primary', icon='times', layout=Layout(height='28px', padding='0px 0px …"
      ]
     },
     "metadata": {},
     "output_type": "display_data"
    }
   ],
   "source": [
    "close_button = widgets.ToggleButton(\n",
    "    value=False,\n",
    "    tooltip=\"Close the tool\",\n",
    "    icon=\"times\",\n",
    "    button_style=\"primary\",\n",
    "    layout=widgets.Layout(height=\"28px\", width=\"28px\", padding=padding),\n",
    ")\n",
    "close_button"
   ]
  },
  {
   "cell_type": "code",
   "execution_count": 19,
   "metadata": {
    "tags": []
   },
   "outputs": [
    {
     "data": {
      "application/vnd.jupyter.widget-view+json": {
       "model_id": "8259276f3b12443694dff81b3fdecdfd",
       "version_major": 2,
       "version_minor": 0
      },
      "text/plain": [
       "HBox(children=(ToggleButton(value=False, button_style='primary', icon='times', layout=Layout(height='28px', pa…"
      ]
     },
     "metadata": {},
     "output_type": "display_data"
    }
   ],
   "source": [
    "widgets.HBox([close_button, toolbar_button])"
   ]
  },
  {
   "cell_type": "code",
   "execution_count": 20,
   "metadata": {
    "tags": []
   },
   "outputs": [
    {
     "data": {
      "application/vnd.jupyter.widget-view+json": {
       "model_id": "ab7e890b7e2c4e8bbd0238237bdbb1cf",
       "version_major": 2,
       "version_minor": 0
      },
      "text/plain": [
       "HBox(children=(ToggleButton(value=False, button_style='primary', icon='times', layout=Layout(height='28px', pa…"
      ]
     },
     "metadata": {},
     "output_type": "display_data"
    }
   ],
   "source": [
    "box = widgets.HBox()\n",
    "box.children = [close_button, toolbar_button]\n",
    "box"
   ]
  },
  {
   "cell_type": "code",
   "execution_count": 21,
   "metadata": {
    "tags": []
   },
   "outputs": [
    {
     "data": {
      "application/vnd.jupyter.widget-view+json": {
       "model_id": "318bac3f7d1540e7a7a8d2848dadde18",
       "version_major": 2,
       "version_minor": 0
      },
      "text/plain": [
       "Checkbox(value=False, description='Checkbox', indent=False, layout=Layout(padding='0px 0px 0px 5px', width='25…"
      ]
     },
     "metadata": {},
     "output_type": "display_data"
    }
   ],
   "source": [
    "checkbox = widgets.Checkbox(\n",
    "    description=\"Checkbox\",\n",
    "    indent=False,\n",
    "    layout=widgets.Layout(padding=padding, width=widget_width),\n",
    ")\n",
    "checkbox"
   ]
  },
  {
   "cell_type": "code",
   "execution_count": 22,
   "metadata": {
    "tags": []
   },
   "outputs": [
    {
     "data": {
      "application/vnd.jupyter.widget-view+json": {
       "model_id": "c4f739b50c5146678e68ade430ff4d04",
       "version_major": 2,
       "version_minor": 0
      },
      "text/plain": [
       "Dropdown(description='Dropdown:', layout=Layout(padding='0px 0px 0px 5px', width='250px'), options=('Option 1'…"
      ]
     },
     "metadata": {},
     "output_type": "display_data"
    }
   ],
   "source": [
    "dropdown = widgets.Dropdown(\n",
    "    options=[\"Option 1\", \"Option 2\", \"Option 3\"],\n",
    "    value=None,\n",
    "    description=\"Dropdown:\",\n",
    "    layout=widgets.Layout(width=widget_width, padding=padding),\n",
    "    style={\"description_width\": \"initial\"},\n",
    ")\n",
    "dropdown"
   ]
  },
  {
   "cell_type": "code",
   "execution_count": 23,
   "metadata": {
    "tags": []
   },
   "outputs": [
    {
     "data": {
      "application/vnd.jupyter.widget-view+json": {
       "model_id": "b9457057a15247f49026f5c1699c896e",
       "version_major": 2,
       "version_minor": 0
      },
      "text/plain": [
       "IntSlider(value=1, description='Int Slider: ', layout=Layout(padding='0px 0px 0px 5px', width='250px'), min=1,…"
      ]
     },
     "metadata": {},
     "output_type": "display_data"
    }
   ],
   "source": [
    "int_slider = widgets.IntSlider(\n",
    "    min=1,\n",
    "    max=100,\n",
    "    description=\"Int Slider: \",\n",
    "    readout=True,\n",
    "    continuous_update=True,\n",
    "    layout=widgets.Layout(width=widget_width, padding=padding),\n",
    "    style={\"description_width\": \"initial\"},\n",
    ")\n",
    "int_slider"
   ]
  },
  {
   "cell_type": "code",
   "execution_count": 24,
   "metadata": {
    "tags": []
   },
   "outputs": [],
   "source": [
    "float_slider = widgets.FloatSlider(\n",
    "    min=1,\n",
    "    max=100,\n",
    "    description=\"Float Slider: \",\n",
    "    readout=True,\n",
    "    continuous_update=True,\n",
    "    layout=widgets.Layout(width=widget_width, padding=padding),\n",
    "    style={\"description_width\": \"initial\"},\n",
    ")"
   ]
  },
  {
   "cell_type": "code",
   "execution_count": 25,
   "metadata": {
    "tags": []
   },
   "outputs": [
    {
     "data": {
      "application/vnd.jupyter.widget-view+json": {
       "model_id": "14f0ead587fa416194331870d5e2edcc",
       "version_major": 2,
       "version_minor": 0
      },
      "text/plain": [
       "ColorPicker(value='white', description='Color:', layout=Layout(padding='0px 0px 0px 5px', width='250px'), styl…"
      ]
     },
     "metadata": {},
     "output_type": "display_data"
    }
   ],
   "source": [
    "color = widgets.ColorPicker(\n",
    "    concise=False,\n",
    "    description=\"Color:\",\n",
    "    value=\"white\",\n",
    "    style={\"description_width\": \"initial\"},\n",
    "    layout=widgets.Layout(width=widget_width, padding=padding),\n",
    ")\n",
    "color"
   ]
  },
  {
   "cell_type": "code",
   "execution_count": 26,
   "metadata": {
    "tags": []
   },
   "outputs": [
    {
     "data": {
      "application/vnd.jupyter.widget-view+json": {
       "model_id": "72533c05eabb4726b6668d794cf91d5c",
       "version_major": 2,
       "version_minor": 0
      },
      "text/plain": [
       "Text(value='', description='Textbox:', layout=Layout(padding='0px 0px 0px 5px', width='250px'), placeholder='E…"
      ]
     },
     "metadata": {},
     "output_type": "display_data"
    }
   ],
   "source": [
    "text = widgets.Text(\n",
    "    value=\"\",\n",
    "    description=\"Textbox:\",\n",
    "    placeholder=\"Enter sth.\",\n",
    "    style={\"description_width\": \"initial\"},\n",
    "    layout=widgets.Layout(width=widget_width, padding=padding),\n",
    ")\n",
    "text"
   ]
  },
  {
   "cell_type": "code",
   "execution_count": 27,
   "metadata": {
    "tags": []
   },
   "outputs": [
    {
     "data": {
      "application/vnd.jupyter.widget-view+json": {
       "model_id": "a9d93e2b7393410eba5bd5508c8de0f2",
       "version_major": 2,
       "version_minor": 0
      },
      "text/plain": [
       "Textarea(value='', layout=Layout(width='250px'), placeholder='Placeholder')"
      ]
     },
     "metadata": {},
     "output_type": "display_data"
    }
   ],
   "source": [
    "textarea = widgets.Textarea(\n",
    "    placeholder=\"Placeholder\",\n",
    "    layout=widgets.Layout(width=widget_width),\n",
    ")\n",
    "textarea"
   ]
  },
  {
   "cell_type": "code",
   "execution_count": 28,
   "metadata": {
    "tags": []
   },
   "outputs": [
    {
     "data": {
      "application/vnd.jupyter.widget-view+json": {
       "model_id": "4988ee3a004243248cbce17cd262a6db",
       "version_major": 2,
       "version_minor": 0
      },
      "text/plain": [
       "ToggleButtons(button_style='primary', options=('Apply', 'Reset', 'Close'), style=ToggleButtonsStyle(button_wid…"
      ]
     },
     "metadata": {},
     "output_type": "display_data"
    }
   ],
   "source": [
    "buttons = widgets.ToggleButtons(\n",
    "    value=None,\n",
    "    options=[\"Apply\", \"Reset\", \"Close\"],\n",
    "    tooltips=[\"Apply\", \"Reset\", \"Close\"],\n",
    "    button_style=\"primary\",\n",
    ")\n",
    "buttons.style.button_width = \"80px\"\n",
    "buttons"
   ]
  },
  {
   "cell_type": "code",
   "execution_count": 29,
   "metadata": {
    "tags": []
   },
   "outputs": [
    {
     "data": {
      "application/vnd.jupyter.widget-view+json": {
       "model_id": "e5d46277e9ef4ceb940d69aeabffb461",
       "version_major": 2,
       "version_minor": 0
      },
      "text/plain": [
       "Output(layout=Layout(padding='0px 0px 0px 5px', width='250px'))"
      ]
     },
     "metadata": {},
     "output_type": "display_data"
    }
   ],
   "source": [
    "output = widgets.Output(layout=widgets.Layout(width=widget_width, padding=padding))\n",
    "with output:\n",
    "    output.clear_output()\n",
    "    print(\"Running ...\")\n",
    "output"
   ]
  },
  {
   "cell_type": "code",
   "execution_count": 30,
   "metadata": {
    "tags": []
   },
   "outputs": [
    {
     "data": {
      "application/vnd.jupyter.widget-view+json": {
       "model_id": "7c301c4e5dde49ef969f3e834b6a1805",
       "version_major": 2,
       "version_minor": 0
      },
      "text/plain": [
       "VBox(children=(HBox(children=(ToggleButton(value=False, button_style='primary', icon='times', layout=Layout(he…"
      ]
     },
     "metadata": {},
     "output_type": "display_data"
    }
   ],
   "source": [
    "toolbar_widget = widgets.VBox()\n",
    "toolbar_widget.children = [\n",
    "    widgets.HBox([close_button, toolbar_button]),\n",
    "    checkbox,\n",
    "    int_slider,\n",
    "    float_slider,\n",
    "    dropdown,\n",
    "    text,\n",
    "    color,\n",
    "    textarea,\n",
    "    buttons,\n",
    "    output,\n",
    "]\n",
    "toolbar_widget"
   ]
  }
 ],
 "metadata": {
  "hide_input": false,
  "kernelspec": {
   "display_name": "Python 3 (ipykernel)",
   "language": "python",
   "name": "python3"
  },
  "language_info": {
   "codemirror_mode": {
    "name": "ipython",
    "version": 3
   },
   "file_extension": ".py",
   "mimetype": "text/x-python",
   "name": "python",
   "nbconvert_exporter": "python",
   "pygments_lexer": "ipython3",
   "version": "3.9.16"
  },
  "toc": {
   "base_numbering": 1,
   "nav_menu": {},
   "number_sections": true,
   "sideBar": true,
   "skip_h1_title": false,
   "title_cell": "Table of Contents",
   "title_sidebar": "Contents",
   "toc_cell": false,
   "toc_position": {},
   "toc_section_display": true,
   "toc_window_display": false
  },
  "varInspector": {
   "cols": {
    "lenName": 16,
    "lenType": 16,
    "lenVar": 40
   },
   "kernels_config": {
    "python": {
     "delete_cmd_postfix": "",
     "delete_cmd_prefix": "del ",
     "library": "var_list.py",
     "varRefreshCmd": "print(var_dic_list())"
    },
    "r": {
     "delete_cmd_postfix": ") ",
     "delete_cmd_prefix": "rm(",
     "library": "var_list.r",
     "varRefreshCmd": "cat(var_dic_list()) "
    }
   },
   "types_to_exclude": [
    "module",
    "function",
    "builtin_function_or_method",
    "instance",
    "_Feature"
   ],
   "window_display": false
  }
 },
 "nbformat": 4,
 "nbformat_minor": 4
}
