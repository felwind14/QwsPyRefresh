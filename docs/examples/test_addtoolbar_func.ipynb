{
 "cells": [
  {
   "cell_type": "code",
   "execution_count": 1,
   "id": "02ad3587-0917-4a2c-9ae0-cb7aba47864d",
   "metadata": {},
   "outputs": [],
   "source": [
    "import geosdemo"
   ]
  },
  {
   "cell_type": "code",
   "execution_count": 2,
   "id": "9469b4f5-57fa-46a8-bb91-d463f1669da3",
   "metadata": {},
   "outputs": [
    {
     "name": "stdout",
     "output_type": "stream",
     "text": [
      "this is what the user is providing:{'scroll_wheel_zoom': True}\n",
      "{'scroll_wheel_zoom': True}\n",
      "{'scroll_wheel_zoom': True, 'layers_control': True}\n",
      "{'scroll_wheel_zoom': True, 'layers_control': True, 'fullscreen_control': True}\n"
     ]
    },
    {
     "data": {
      "application/vnd.jupyter.widget-view+json": {
       "model_id": "42e484285f0e42a498b0999847d1f8f9",
       "version_major": 2,
       "version_minor": 0
      },
      "text/plain": [
       "Map(center=[20, 0], controls=(ZoomControl(options=['position', 'zoom_in_text', 'zoom_in_title', 'zoom_out_text…"
      ]
     },
     "metadata": {},
     "output_type": "display_data"
    }
   ],
   "source": [
    "m =geosdemo.Map()\n",
    "m"
   ]
  },
  {
   "cell_type": "code",
   "execution_count": 6,
   "id": "94b0dea3-4b50-4d6d-a387-e83d08cb6856",
   "metadata": {},
   "outputs": [],
   "source": [
    "m.add_toolbar()"
   ]
  },
  {
   "cell_type": "code",
   "execution_count": 3,
   "id": "de6b612e-a3d0-4c96-b014-3f2a614ce09d",
   "metadata": {},
   "outputs": [
    {
     "data": {
      "application/vnd.jupyter.widget-view+json": {
       "model_id": "42e484285f0e42a498b0999847d1f8f9",
       "version_major": 2,
       "version_minor": 0
      },
      "text/plain": [
       "Map(bottom=442.0, center=[9.795677582829743, 34.10156250000001], controls=(ZoomControl(options=['position', 'z…"
      ]
     },
     "metadata": {},
     "output_type": "display_data"
    }
   ],
   "source": [
    "m"
   ]
  },
  {
   "cell_type": "code",
   "execution_count": 4,
   "id": "a2115c3f-dc06-453e-b9ab-d5a40baa172d",
   "metadata": {},
   "outputs": [],
   "source": [
    "m.add_toolbar(position='topleft')"
   ]
  },
  {
   "cell_type": "code",
   "execution_count": 5,
   "id": "cbacd247-5b7e-4899-8abd-610fdbd31e64",
   "metadata": {},
   "outputs": [],
   "source": [
    "#now we need to add the function to geosdemo the functionality of adding a bsaemap"
   ]
  },
  {
   "cell_type": "code",
   "execution_count": 7,
   "id": "5f19707e-7cf2-4735-811b-39ea22cabb0f",
   "metadata": {},
   "outputs": [
    {
     "data": {
      "application/vnd.jupyter.widget-view+json": {
       "model_id": "e3159a124db04fec805c8d619d1422fd",
       "version_major": 2,
       "version_minor": 0
      },
      "text/plain": [
       "Map(center=[20, 0], controls=(ZoomControl(options=['position', 'zoom_in_text', 'zoom_in_title', 'zoom_out_text…"
      ]
     },
     "metadata": {},
     "output_type": "display_data"
    }
   ],
   "source": [
    "import leafmap\n",
    "m =leafmap.Map()\n",
    "m"
   ]
  },
  {
   "cell_type": "code",
   "execution_count": null,
   "id": "1d8b3d41-be3c-40a4-86c6-2179755aa617",
   "metadata": {},
   "outputs": [],
   "source": []
  }
 ],
 "metadata": {
  "kernelspec": {
   "display_name": "Python 3 (ipykernel)",
   "language": "python",
   "name": "python3"
  },
  "language_info": {
   "codemirror_mode": {
    "name": "ipython",
    "version": 3
   },
   "file_extension": ".py",
   "mimetype": "text/x-python",
   "name": "python",
   "nbconvert_exporter": "python",
   "pygments_lexer": "ipython3",
   "version": "3.8.8"
  }
 },
 "nbformat": 4,
 "nbformat_minor": 5
}
