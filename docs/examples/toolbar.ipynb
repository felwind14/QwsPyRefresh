{
 "cells": [
  {
   "cell_type": "code",
   "execution_count": 33,
   "metadata": {
    "tags": []
   },
   "outputs": [],
   "source": [
    "import geosdemo\n",
    "import ipywidgets as widgets\n",
    "from ipyleaflet import WidgetControl"
   ]
  },
  {
   "cell_type": "markdown",
   "metadata": {},
   "source": [
    "## Creating a toolbar button"
   ]
  },
  {
   "cell_type": "code",
   "execution_count": 34,
   "metadata": {
    "tags": []
   },
   "outputs": [],
   "source": [
    "widget_width = \"250px\" #setting the widget width \n",
    "padding = \"0px 0px 0px 5px\"  # upper, right, bottom, left\n",
    "\n",
    "toolbar_button = widgets.ToggleButton(\n",
    "    value=False,\n",
    "    tooltip=\"Toolbar\", #user hover an displays text\n",
    "    icon=\"wrench\", #https://fontawesome.com/v4/icons/\n",
    "    layout=widgets.Layout(width=\"28px\", height=\"28px\", padding=padding),\n",
    ")\n",
    "\n",
    "close_button = widgets.ToggleButton(\n",
    "    value=False,\n",
    "    tooltip=\"Close the tool\",\n",
    "    icon=\"times\",\n",
    "    button_style=\"primary\",\n",
    "    layout=widgets.Layout(height=\"28px\", width=\"28px\", padding=padding),\n",
    ")"
   ]
  },
  {
   "cell_type": "code",
   "execution_count": 35,
   "metadata": {
    "tags": []
   },
   "outputs": [
    {
     "data": {
      "application/vnd.jupyter.widget-view+json": {
       "model_id": "",
       "version_major": 2,
       "version_minor": 0
      },
      "text/plain": [
       "HBox(children=(ToggleButton(value=False, icon='wrench', layout=Layout(height='28px', padding='0px 0px 0px 5px'…"
      ]
     },
     "metadata": {},
     "output_type": "display_data"
    }
   ],
   "source": [
    "toolbar = widgets.HBox([toolbar_button]) #only will be displayed one at the beggining because only one is active\n",
    "toolbar\n",
    "\n",
    "#we have so far 3 widgets wrecht, close and box"
   ]
  },
  {
   "cell_type": "markdown",
   "metadata": {},
   "source": [
    "We want that when we click this button sth appears and when we cleck agian it collapses"
   ]
  },
  {
   "cell_type": "markdown",
   "metadata": {},
   "source": [
    "## Adding toolbar event"
   ]
  },
  {
   "cell_type": "code",
   "execution_count": 36,
   "metadata": {
    "tags": []
   },
   "outputs": [
    {
     "data": {
      "application/vnd.jupyter.widget-view+json": {
       "model_id": "",
       "version_major": 2,
       "version_minor": 0
      },
      "text/plain": [
       "HBox(children=(ToggleButton(value=False, icon='wrench', layout=Layout(height='28px', padding='0px 0px 0px 5px'…"
      ]
     },
     "metadata": {},
     "output_type": "display_data"
    }
   ],
   "source": [
    "#the idea of these 2 lines of code is to create an event in which when we click on the wrech sth happens \n",
    "#meaning the clossing button appears and then we can close\n",
    "def toolbar_click(change):\n",
    "    if change[\"new\"]:\n",
    "        toolbar.children = [toolbar_button, close_button]\n",
    "    else:\n",
    "        toolbar.children = [toolbar_button]\n",
    "        \n",
    "toolbar_button.observe(toolbar_click, \"value\") #when is clicked we are going to observe the close button\n",
    "                                            #value is used in most of the time and means when we click is true and nclick is false\n",
    "toolbar"
   ]
  },
  {
   "cell_type": "code",
   "execution_count": 37,
   "metadata": {},
   "outputs": [
    {
     "data": {
      "application/vnd.jupyter.widget-view+json": {
       "model_id": "",
       "version_major": 2,
       "version_minor": 0
      },
      "text/plain": [
       "HBox(children=(ToggleButton(value=False, icon='wrench', layout=Layout(height='28px', padding='0px 0px 0px 5px'…"
      ]
     },
     "metadata": {},
     "output_type": "display_data"
    }
   ],
   "source": [
    "#for every widget we can asssign a function for every button\n",
    "\n",
    "def close_click(change):\n",
    "    if change[\"new\"]:\n",
    "        toolbar_button.close()\n",
    "        close_button.close()\n",
    "        toolbar.close()\n",
    "        \n",
    "close_button.observe(close_click, \"value\")\n",
    "toolbar\n",
    "\n",
    "#once this function is run and the widget run all the items are flush out from memory and we need to run again"
   ]
  },
  {
   "cell_type": "markdown",
   "metadata": {},
   "source": [
    "## Adding toolbar grid"
   ]
  },
  {
   "cell_type": "code",
   "execution_count": 25,
   "metadata": {},
   "outputs": [],
   "source": [
    "rows = 2\n",
    "cols = 2\n",
    "grid = widgets.GridspecLayout(rows, cols, grid_gap=\"0px\", layout=widgets.Layout(width=\"62px\"))"
   ]
  },
  {
   "cell_type": "markdown",
   "metadata": {},
   "source": [
    "icons: https://fontawesome.com/v4.7.0/icons/"
   ]
  },
  {
   "cell_type": "code",
   "execution_count": null,
   "metadata": {},
   "outputs": [],
   "source": [
    "icons = [\"folder-open\", \"map\", \"info\", \"question\"]\n",
    "\n",
    "for i in range(rows):\n",
    "    for j in range(cols):\n",
    "        grid[i, j] = widgets.Button(description=\"\", button_style=\"primary\", icon=icons[i*rows+j], \n",
    "                                    layout=widgets.Layout(width=\"28px\", padding=\"0px\"))\n",
    "grid"
   ]
  },
  {
   "cell_type": "code",
   "execution_count": null,
   "metadata": {},
   "outputs": [],
   "source": [
    "toolbar = widgets.VBox([toolbar_button])"
   ]
  },
  {
   "cell_type": "code",
   "execution_count": null,
   "metadata": {},
   "outputs": [],
   "source": [
    "def toolbar_click(change):\n",
    "    if change[\"new\"]:\n",
    "        toolbar.children = [widgets.HBox([close_button, toolbar_button]), grid]\n",
    "    else:\n",
    "        toolbar.children = [toolbar_button]\n",
    "        \n",
    "toolbar_button.observe(toolbar_click, \"value\")\n",
    "toolbar"
   ]
  },
  {
   "cell_type": "markdown",
   "metadata": {},
   "source": [
    "## Adding toolbar to ipyleaflet"
   ]
  },
  {
   "cell_type": "code",
   "execution_count": null,
   "metadata": {},
   "outputs": [],
   "source": [
    "toolbar_ctrl = WidgetControl(widget=toolbar, position=\"topright\")"
   ]
  },
  {
   "cell_type": "code",
   "execution_count": null,
   "metadata": {},
   "outputs": [],
   "source": [
    "m = geosdemo.Map()\n",
    "m.add_control(toolbar_ctrl)\n",
    "m"
   ]
  },
  {
   "cell_type": "code",
   "execution_count": null,
   "metadata": {},
   "outputs": [],
   "source": [
    "output = widgets.Output()\n",
    "output_ctrl = WidgetControl(widget=output, position=\"bottomright\")\n",
    "m.add_control(output_ctrl)"
   ]
  },
  {
   "cell_type": "code",
   "execution_count": null,
   "metadata": {},
   "outputs": [],
   "source": [
    "def tool_click(b):    \n",
    "    with output:\n",
    "        output.clear_output()\n",
    "        print(f\"You clicked the {b.icon} button\")"
   ]
  },
  {
   "cell_type": "code",
   "execution_count": null,
   "metadata": {},
   "outputs": [],
   "source": [
    "for i in range(rows):\n",
    "    for j in range(cols):\n",
    "        tool = grid[i, j]\n",
    "        tool.on_click(tool_click)"
   ]
  },
  {
   "cell_type": "markdown",
   "metadata": {},
   "source": [
    "![](https://i.imgur.com/3LbyC1Y.gif)"
   ]
  }
 ],
 "metadata": {
  "hide_input": false,
  "kernelspec": {
   "display_name": "Python 3 (ipykernel)",
   "language": "python",
   "name": "python3"
  },
  "language_info": {
   "codemirror_mode": {
    "name": "ipython",
    "version": 3
   },
   "file_extension": ".py",
   "mimetype": "text/x-python",
   "name": "python",
   "nbconvert_exporter": "python",
   "pygments_lexer": "ipython3",
   "version": "3.8.8"
  },
  "toc": {
   "base_numbering": 1,
   "nav_menu": {},
   "number_sections": true,
   "sideBar": true,
   "skip_h1_title": false,
   "title_cell": "Table of Contents",
   "title_sidebar": "Contents",
   "toc_cell": false,
   "toc_position": {},
   "toc_section_display": true,
   "toc_window_display": false
  },
  "varInspector": {
   "cols": {
    "lenName": 16,
    "lenType": 16,
    "lenVar": 40
   },
   "kernels_config": {
    "python": {
     "delete_cmd_postfix": "",
     "delete_cmd_prefix": "del ",
     "library": "var_list.py",
     "varRefreshCmd": "print(var_dic_list())"
    },
    "r": {
     "delete_cmd_postfix": ") ",
     "delete_cmd_prefix": "rm(",
     "library": "var_list.r",
     "varRefreshCmd": "cat(var_dic_list()) "
    }
   },
   "types_to_exclude": [
    "module",
    "function",
    "builtin_function_or_method",
    "instance",
    "_Feature"
   ],
   "window_display": false
  }
 },
 "nbformat": 4,
 "nbformat_minor": 4
}
