{
 "cells": [
  {
   "cell_type": "code",
   "execution_count": null,
   "metadata": {},
   "outputs": [],
   "source": [
    "import geosdemo "
   ]
  },
  {
   "cell_type": "code",
   "execution_count": null,
   "metadata": {},
   "outputs": [],
   "source": [
    "m = geosdemo.Map(center=[52.204793, 360.121558], zoom= 4)"
   ]
  },
  {
   "cell_type": "code",
   "execution_count": null,
   "metadata": {},
   "outputs": [],
   "source": [
    "m"
   ]
  },
  {
   "cell_type": "code",
   "execution_count": null,
   "metadata": {},
   "outputs": [],
   "source": [
    "m"
   ]
  },
  {
   "cell_type": "code",
   "execution_count": null,
   "metadata": {},
   "outputs": [],
   "source": [
    "m.scroll_wheel_zoom = True #when the wheel does not work, however\n",
    "#by modifying the class and adding it we can modify the behavior to make  this a default"
   ]
  },
  {
   "cell_type": "code",
   "execution_count": null,
   "metadata": {},
   "outputs": [],
   "source": [
    "#This step takes place after we include the scroll_wheel_zoom inside as True by default the class\n",
    "#by making this as False teh default zoom with the mouse wheel should be overrides the default value\n",
    "\n",
    "import geosdemo\n",
    "\n",
    "m = geosdemo.Map(center=[52.204793, 360.121558], zoom= 4, scroll_wheel_zoom = False) #the user is selecting to do this\n",
    "m\n"
   ]
  },
  {
   "cell_type": "code",
   "execution_count": null,
   "metadata": {},
   "outputs": [],
   "source": [
    "#Check https://ipyleaflet.readthedocs.io/en/latest/controls/index.html to add more controls \n",
    "\n",
    "import geosdemo\n",
    "\n",
    "m = geosdemo.Map(center=[52.204793, 360.121558], zoom= 4, scroll_wheel_zoom = False) #the user is selecting to do this\n",
    "m\n"
   ]
  },
  {
   "cell_type": "code",
   "execution_count": null,
   "metadata": {},
   "outputs": [],
   "source": [
    "m.add_search_control(position = \"topright\", zoom = 10)\n",
    "m"
   ]
  },
  {
   "cell_type": "code",
   "execution_count": null,
   "metadata": {},
   "outputs": [],
   "source": [
    "#We can not use the search because still does not have an associated api for location"
   ]
  },
  {
   "cell_type": "code",
   "execution_count": null,
   "metadata": {},
   "outputs": [],
   "source": [
    "url = \"https://nominatim.openstreetmap.org/search?format=json&q={s}\""
   ]
  },
  {
   "cell_type": "code",
   "execution_count": null,
   "metadata": {},
   "outputs": [],
   "source": [
    "#enabling the search bar\n",
    "\n",
    "m.add_search_control(position = \"topright\", zoom = 10, url= url)\n",
    "m"
   ]
  },
  {
   "cell_type": "code",
   "execution_count": 1,
   "metadata": {},
   "outputs": [
    {
     "ename": "AttributeError",
     "evalue": "module 'geosdemo' has no attribute 'add_search_control'",
     "output_type": "error",
     "traceback": [
      "\u001b[1;31m---------------------------------------------------------------------------\u001b[0m",
      "\u001b[1;31mAttributeError\u001b[0m                            Traceback (most recent call last)",
      "Cell \u001b[1;32mIn[1], line 4\u001b[0m\n\u001b[0;32m      1\u001b[0m \u001b[39m###now having updated search_control\u001b[39;00m\n\u001b[0;32m      2\u001b[0m \u001b[39mimport\u001b[39;00m \u001b[39mgeosdemo\u001b[39;00m\n\u001b[1;32m----> 4\u001b[0m m \u001b[39m=\u001b[39m geosdemo\u001b[39m.\u001b[39;49madd_search_control()\n\u001b[0;32m      5\u001b[0m m\n",
      "\u001b[1;31mAttributeError\u001b[0m: module 'geosdemo' has no attribute 'add_search_control'"
     ]
    }
   ],
   "source": [
    "###now having updated search_control\n",
    "import geosdemo\n",
    "\n",
    "m = geosdemo.add_search_control()\n",
    "m"
   ]
  },
  {
   "cell_type": "code",
   "execution_count": null,
   "metadata": {},
   "outputs": [],
   "source": []
  }
 ],
 "metadata": {
  "kernelspec": {
   "display_name": "geopy",
   "language": "python",
   "name": "python3"
  },
  "language_info": {
   "codemirror_mode": {
    "name": "ipython",
    "version": 3
   },
   "file_extension": ".py",
   "mimetype": "text/x-python",
   "name": "python",
   "nbconvert_exporter": "python",
   "pygments_lexer": "ipython3",
   "version": "3.9.13"
  },
  "orig_nbformat": 4
 },
 "nbformat": 4,
 "nbformat_minor": 2
}
