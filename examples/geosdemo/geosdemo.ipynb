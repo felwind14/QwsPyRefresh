{
 "cells": [
  {
   "cell_type": "code",
   "execution_count": 8,
   "metadata": {},
   "outputs": [],
   "source": [
    "import geosdemo "
   ]
  },
  {
   "cell_type": "code",
   "execution_count": 9,
   "metadata": {},
   "outputs": [
    {
     "name": "stdout",
     "output_type": "stream",
     "text": [
      "this is what the user is providing:{'scroll_wheel_zoom': True}\n"
     ]
    }
   ],
   "source": [
    "m = geosdemo.Map(center=[52.204793, 360.121558], zoom= 4)"
   ]
  },
  {
   "cell_type": "code",
   "execution_count": 10,
   "metadata": {},
   "outputs": [
    {
     "data": {
      "application/vnd.jupyter.widget-view+json": {
       "model_id": "2b51f8570bdc4b16a7af39d1c3919d80",
       "version_major": 2,
       "version_minor": 0
      },
      "text/plain": [
       "Map(center=[52.204793, 360.121558], controls=(ZoomControl(options=['position', 'zoom_in_text', 'zoom_in_title'…"
      ]
     },
     "metadata": {},
     "output_type": "display_data"
    }
   ],
   "source": [
    "m"
   ]
  },
  {
   "cell_type": "code",
   "execution_count": 11,
   "metadata": {},
   "outputs": [
    {
     "data": {
      "application/vnd.jupyter.widget-view+json": {
       "model_id": "2b51f8570bdc4b16a7af39d1c3919d80",
       "version_major": 2,
       "version_minor": 0
      },
      "text/plain": [
       "Map(bottom=2860.0, center=[53.22576843579022, 354.61669921875006], controls=(ZoomControl(options=['position', …"
      ]
     },
     "metadata": {},
     "output_type": "display_data"
    }
   ],
   "source": [
    "m"
   ]
  },
  {
   "cell_type": "code",
   "execution_count": 12,
   "metadata": {},
   "outputs": [],
   "source": [
    "m.scroll_wheel_zoom = True #when the wheel does not work, however\n",
    "#by modifying the class and adding it we can modify the behavior to make  this a default"
   ]
  },
  {
   "cell_type": "code",
   "execution_count": 13,
   "metadata": {},
   "outputs": [
    {
     "name": "stdout",
     "output_type": "stream",
     "text": [
      "this is what the user is providing:{'scroll_wheel_zoom': False}\n"
     ]
    },
    {
     "data": {
      "application/vnd.jupyter.widget-view+json": {
       "model_id": "cf02a94591114c5cac1b2f47b3e5e2ed",
       "version_major": 2,
       "version_minor": 0
      },
      "text/plain": [
       "Map(center=[52.204793, 360.121558], controls=(ZoomControl(options=['position', 'zoom_in_text', 'zoom_in_title'…"
      ]
     },
     "metadata": {},
     "output_type": "display_data"
    }
   ],
   "source": [
    "#This step takes place after we include the scroll_wheel_zoom inside as True by default the class\n",
    "#by making this as False teh default zoom with the mouse wheel should be overrides the default value\n",
    "\n",
    "import geosdemo\n",
    "\n",
    "m = geosdemo.Map(center=[52.204793, 360.121558], zoom= 4, scroll_wheel_zoom = False) #the user is selecting to do this\n",
    "m\n"
   ]
  },
  {
   "cell_type": "code",
   "execution_count": 2,
   "metadata": {},
   "outputs": [
    {
     "name": "stdout",
     "output_type": "stream",
     "text": [
      "this is what the user is providing:{'scroll_wheel_zoom': False}\n"
     ]
    },
    {
     "data": {
      "application/vnd.jupyter.widget-view+json": {
       "model_id": "881c509d227e4458890c1cc6c922d1d0",
       "version_major": 2,
       "version_minor": 0
      },
      "text/plain": [
       "Map(center=[52.204793, 360.121558], controls=(ZoomControl(options=['position', 'zoom_in_text', 'zoom_in_title'…"
      ]
     },
     "metadata": {},
     "output_type": "display_data"
    }
   ],
   "source": [
    "#Check https://ipyleaflet.readthedocs.io/en/latest/controls/index.html to add more controls \n",
    "\n",
    "import geosdemo\n",
    "\n",
    "m = geosdemo.Map(center=[52.204793, 360.121558], zoom= 4, scroll_wheel_zoom = False) #the user is selecting to do this\n",
    "m\n"
   ]
  },
  {
   "cell_type": "code",
   "execution_count": 3,
   "metadata": {},
   "outputs": [
    {
     "name": "stdout",
     "output_type": "stream",
     "text": [
      "this is what the user is providing:{'zoom': 10, 'url': 'https://nominatim.openstreetmap.org/search?format=json&q={s}'}\n"
     ]
    },
    {
     "data": {
      "application/vnd.jupyter.widget-view+json": {
       "model_id": "881c509d227e4458890c1cc6c922d1d0",
       "version_major": 2,
       "version_minor": 0
      },
      "text/plain": [
       "Map(bottom=1549.0, center=[52.204793, 360.121558], controls=(ZoomControl(options=['position', 'zoom_in_text', …"
      ]
     },
     "metadata": {},
     "output_type": "display_data"
    }
   ],
   "source": [
    "m.add_search_control(position = \"topright\", zoom = 10)\n",
    "m"
   ]
  },
  {
   "cell_type": "code",
   "execution_count": null,
   "metadata": {},
   "outputs": [],
   "source": [
    "#We can not use the search because still does not have an associated api for location"
   ]
  },
  {
   "cell_type": "code",
   "execution_count": null,
   "metadata": {},
   "outputs": [],
   "source": [
    "url = \"https://nominatim.openstreetmap.org/search?format=json&q={s}\""
   ]
  },
  {
   "cell_type": "code",
   "execution_count": null,
   "metadata": {},
   "outputs": [],
   "source": [
    "#enabling the search bar\n",
    "\n",
    "m.add_search_control(position = \"topright\", zoom = 10, url= url)\n",
    "m"
   ]
  },
  {
   "cell_type": "code",
   "execution_count": 16,
   "metadata": {},
   "outputs": [
    {
     "name": "stdout",
     "output_type": "stream",
     "text": [
      "this is what the user is providing:{'scroll_wheel_zoom': True}\n",
      "this is what the user is providing:{'url': 'https://nominatim.openstreetmap.org/search?format=json&q={s}'}\n"
     ]
    },
    {
     "data": {
      "application/vnd.jupyter.widget-view+json": {
       "model_id": "026861609570499ab5977c33fb349232",
       "version_major": 2,
       "version_minor": 0
      },
      "text/plain": [
       "Map(center=[52.204793, 360.121558], controls=(ZoomControl(options=['position', 'zoom_in_text', 'zoom_in_title'…"
      ]
     },
     "metadata": {},
     "output_type": "display_data"
    }
   ],
   "source": [
    "###now having updated search_control\n",
    "import geosdemo\n",
    "\n",
    "m = geosdemo.Map(center=[52.204793, 360.121558], zoom= 10, scroll_wheel_zoom = True)\n",
    "m.add_search_control()\n",
    "m"
   ]
  },
  {
   "cell_type": "code",
   "execution_count": 19,
   "metadata": {},
   "outputs": [
    {
     "name": "stdout",
     "output_type": "stream",
     "text": [
      "this is what the user is providing:{'url': 'https://nominatim.openstreetmap.org/search?format=json&q={s}'}\n"
     ]
    }
   ],
   "source": [
    "m.add_search_control(position=\"topright\") #locating on the top right"
   ]
  },
  {
   "cell_type": "code",
   "execution_count": 20,
   "metadata": {},
   "outputs": [
    {
     "data": {
      "application/vnd.jupyter.widget-view+json": {
       "model_id": "026861609570499ab5977c33fb349232",
       "version_major": 2,
       "version_minor": 0
      },
      "text/plain": [
       "Map(bottom=2886196.2001953125, center=[48.85443747869951, 362.3502373695374], controls=(ZoomControl(options=['…"
      ]
     },
     "metadata": {},
     "output_type": "display_data"
    }
   ],
   "source": [
    "m"
   ]
  },
  {
   "cell_type": "code",
   "execution_count": 1,
   "metadata": {},
   "outputs": [],
   "source": [
    "#using drawcontrol\n",
    "\n",
    "import geosdemo"
   ]
  },
  {
   "cell_type": "code",
   "execution_count": 2,
   "metadata": {},
   "outputs": [
    {
     "name": "stdout",
     "output_type": "stream",
     "text": [
      "this is what the user is providing:{'scroll_wheel_zoom': True}\n",
      "this is what the user is providing:{'url': 'https://nominatim.openstreetmap.org/search?format=json&q={s}'}\n"
     ]
    },
    {
     "data": {
      "application/vnd.jupyter.widget-view+json": {
       "model_id": "9a8e5761666d48789afddf35d5548852",
       "version_major": 2,
       "version_minor": 0
      },
      "text/plain": [
       "Map(center=[40, -10], controls=(ZoomControl(options=['position', 'zoom_in_text', 'zoom_in_title', 'zoom_out_te…"
      ]
     },
     "metadata": {},
     "output_type": "display_data"
    }
   ],
   "source": [
    "m =  geosdemo.Map(center=[40, -10], zoom=4)\n",
    "m.add_search_control(position = \"topright\")\n",
    "m.add_draw_control()\n",
    "m"
   ]
  },
  {
   "cell_type": "code",
   "execution_count": null,
   "metadata": {},
   "outputs": [],
   "source": []
  }
 ],
 "metadata": {
  "kernelspec": {
   "display_name": "geopy",
   "language": "python",
   "name": "python3"
  },
  "language_info": {
   "codemirror_mode": {
    "name": "ipython",
    "version": 3
   },
   "file_extension": ".py",
   "mimetype": "text/x-python",
   "name": "python",
   "nbconvert_exporter": "python",
   "pygments_lexer": "ipython3",
   "version": "3.9.13"
  },
  "orig_nbformat": 4
 },
 "nbformat": 4,
 "nbformat_minor": 2
}
