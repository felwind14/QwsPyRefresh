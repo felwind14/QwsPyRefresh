{
 "cells": [
  {
   "attachments": {},
   "cell_type": "markdown",
   "id": "4ed343f8",
   "metadata": {},
   "source": [
    "# Getting Started\n",
    "\n",
    "[![image](https://colab.research.google.com/assets/colab-badge.svg)](https://colab.research.google.com/github/giswqs/geosdemo/blob/master/docs/python/01_getting_started.ipynb)\n",
    "\n",
    "\n",
    "## Jupyter Notebook Keyboard Shortcuts\n",
    "\n",
    "-   **Shift-Enter**: run cell, select below\n",
    "-   **Ctrl-Enter**: : run selected cells\n",
    "-   **Alt-Enter**: run cell and insert below\n",
    "-   **Tab**: code completion or indent\n",
    "-   **Shift-Tab**: tooltip\n",
    "-   **Matplotlib plotting**: %matplotlib inline\n",
    "\n",
    "## References\n",
    "\n",
    "-   Matthes, Eric (2022). _Python Crash Course, 3rd Edition: A Hands-On, Project-Based Introduction to Programming_. No Starch Press. ISBN: 978-1593279288. ([Publisher website](https://nostarch.com/python-crash-course-3rd-edition))"
   ]
  },
  {
   "cell_type": "markdown",
   "id": "5f10a851",
   "metadata": {},
   "source": []
  },
  {
   "cell_type": "code",
   "execution_count": 2,
   "id": "0167d2ae",
   "metadata": {},
   "outputs": [
    {
     "name": "stdout",
     "output_type": "stream",
     "text": [
      "hello world\n"
     ]
    }
   ],
   "source": [
    "print(\"hello world\")"
   ]
  },
  {
   "cell_type": "code",
   "execution_count": null,
   "id": "fc6fd4d5",
   "metadata": {},
   "outputs": [],
   "source": [
    "print()"
   ]
  }
 ],
 "metadata": {
  "kernelspec": {
   "display_name": "Python 3",
   "language": "python",
   "name": "python3"
  },
  "language_info": {
   "codemirror_mode": {
    "name": "ipython",
    "version": 3
   },
   "file_extension": ".py",
   "mimetype": "text/x-python",
   "name": "python",
   "nbconvert_exporter": "python",
   "pygments_lexer": "ipython3",
   "version": "3.9.13"
  }
 },
 "nbformat": 4,
 "nbformat_minor": 5
}
