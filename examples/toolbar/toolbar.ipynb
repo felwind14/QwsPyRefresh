{
 "cells": [
  {
   "cell_type": "code",
   "execution_count": 67,
   "metadata": {
    "tags": []
   },
   "outputs": [],
   "source": [
    "import geosdemo\n",
    "import ipywidgets as widgets\n",
    "from ipyleaflet import WidgetControl"
   ]
  },
  {
   "cell_type": "markdown",
   "metadata": {},
   "source": [
    "## Creating a toolbar button"
   ]
  },
  {
   "cell_type": "code",
   "execution_count": 68,
   "metadata": {
    "tags": []
   },
   "outputs": [],
   "source": [
    "widget_width = \"250px\" #setting the widget width \n",
    "padding = \"0px 0px 0px 5px\"  # upper, right, bottom, left\n",
    "\n",
    "#creating the tolbar button\n",
    "toolbar_button = widgets.ToggleButton(\n",
    "    value=False,\n",
    "    tooltip=\"Toolbar\", #user hover an displays text\n",
    "    icon=\"wrench\", #https://fontawesome.com/v4/icons/\n",
    "    layout=widgets.Layout(width=\"28px\", height=\"28px\", padding=padding),\n",
    ")\n",
    "\n",
    "#creating the close button\n",
    "close_button = widgets.ToggleButton(\n",
    "    value=False,\n",
    "    tooltip=\"Close the tool\",\n",
    "    icon=\"times\",\n",
    "    button_style=\"primary\",\n",
    "    layout=widgets.Layout(height=\"28px\", width=\"28px\", padding=padding),\n",
    ")"
   ]
  },
  {
   "cell_type": "code",
   "execution_count": 69,
   "metadata": {
    "tags": []
   },
   "outputs": [
    {
     "data": {
      "application/vnd.jupyter.widget-view+json": {
       "model_id": "e985310706084f1485b6f1d67e9ce651",
       "version_major": 2,
       "version_minor": 0
      },
      "text/plain": [
       "HBox(children=(ToggleButton(value=False, icon='wrench', layout=Layout(height='28px', padding='0px 0px 0px 5px'…"
      ]
     },
     "metadata": {},
     "output_type": "display_data"
    }
   ],
   "source": [
    "toolbar = widgets.HBox([toolbar_button]) #only will be displayed one at the beggining because only one is active\n",
    "toolbar #do not copy this one in the code geosdemo beacuse it will display intermediate stuff\n",
    "\n",
    "#we have so far 3 widgets wrecht, close and box"
   ]
  },
  {
   "cell_type": "markdown",
   "metadata": {},
   "source": [
    "We want that when we click this button sth appears and when we cleck agian it collapses"
   ]
  },
  {
   "cell_type": "markdown",
   "metadata": {},
   "source": [
    "## Adding toolbar event"
   ]
  },
  {
   "cell_type": "code",
   "execution_count": 70,
   "metadata": {
    "tags": []
   },
   "outputs": [
    {
     "data": {
      "application/vnd.jupyter.widget-view+json": {
       "model_id": "e985310706084f1485b6f1d67e9ce651",
       "version_major": 2,
       "version_minor": 0
      },
      "text/plain": [
       "HBox(children=(ToggleButton(value=False, icon='wrench', layout=Layout(height='28px', padding='0px 0px 0px 5px'…"
      ]
     },
     "metadata": {},
     "output_type": "display_data"
    }
   ],
   "source": [
    "#the idea of these 2 lines of code is to create an event in which when we click on the wrech sth happens \n",
    "#meaning the clossing button appears and then we can close\n",
    "def toolbar_click(change):\n",
    "    if change[\"new\"]:\n",
    "        toolbar.children = [toolbar_button, close_button]\n",
    "    else:\n",
    "        toolbar.children = [toolbar_button]\n",
    "        \n",
    "toolbar_button.observe(toolbar_click, \"value\") #when is clicked we are going to observe the close button\n",
    "                                            #value is used in most of the time and means when we click is true and nclick is false\n",
    "toolbar"
   ]
  },
  {
   "cell_type": "code",
   "execution_count": 71,
   "metadata": {},
   "outputs": [
    {
     "data": {
      "application/vnd.jupyter.widget-view+json": {
       "model_id": "e985310706084f1485b6f1d67e9ce651",
       "version_major": 2,
       "version_minor": 0
      },
      "text/plain": [
       "HBox(children=(ToggleButton(value=False, icon='wrench', layout=Layout(height='28px', padding='0px 0px 0px 5px'…"
      ]
     },
     "metadata": {},
     "output_type": "display_data"
    }
   ],
   "source": [
    "#for every widget we can asssign a function for every button\n",
    "\n",
    "def close_click(change):\n",
    "    if change[\"new\"]:\n",
    "        toolbar_button.close()\n",
    "        close_button.close()\n",
    "        toolbar.close()\n",
    "        \n",
    "close_button.observe(close_click, \"value\")\n",
    "toolbar\n",
    "\n",
    "#once this function is run and the widget run all the items are flush out from memory and we need to run again"
   ]
  },
  {
   "cell_type": "markdown",
   "metadata": {},
   "source": [
    "## Adding toolbar grid"
   ]
  },
  {
   "cell_type": "code",
   "execution_count": 72,
   "metadata": {},
   "outputs": [],
   "source": [
    "rows = 2\n",
    "cols = 2\n",
    "grid = widgets.GridspecLayout(rows, cols, grid_gap=\"0px\", layout=widgets.Layout(width=\"62px\"))"
   ]
  },
  {
   "cell_type": "markdown",
   "metadata": {},
   "source": [
    "icons: https://fontawesome.com/v4.7.0/icons/"
   ]
  },
  {
   "cell_type": "code",
   "execution_count": 73,
   "metadata": {},
   "outputs": [
    {
     "data": {
      "application/vnd.jupyter.widget-view+json": {
       "model_id": "11998e48e9574edfb68a412a0e10d7ec",
       "version_major": 2,
       "version_minor": 0
      },
      "text/plain": [
       "GridspecLayout(children=(Button(button_style='primary', icon='folder-open', layout=Layout(grid_area='widget001…"
      ]
     },
     "metadata": {},
     "output_type": "display_data"
    }
   ],
   "source": [
    "icons = [\"folder-open\", \"map\", \"info\", \"question\"] #names taken from the link above\n",
    "\n",
    "for i in range(rows):\n",
    "    for j in range(cols):\n",
    "        grid[i, j] = widgets.Button(description=\"\", button_style=\"primary\", icon=icons[i*rows+j], \n",
    "                                    layout=widgets.Layout(width=\"28px\", padding=\"0px\"))\n",
    "grid"
   ]
  },
  {
   "cell_type": "markdown",
   "metadata": {},
   "source": [
    "#### Explantion\n",
    "\n"
   ]
  },
  {
   "cell_type": "code",
   "execution_count": 74,
   "metadata": {},
   "outputs": [
    {
     "data": {
      "text/plain": [
       "'\\ni*rows+j , list(range(2)) -->[0,1]\\n[0,0]-->=0-->L[0]\\n[0,1]-->=1-->L[1]\\n[1,0]-->=2-->L[2]\\n[1,1]-->=3-->L[3] '"
      ]
     },
     "execution_count": 74,
     "metadata": {},
     "output_type": "execute_result"
    }
   ],
   "source": [
    "'''\n",
    "i*rows+j , list(range(2)) -->[0,1]\n",
    "[0,0]-->=0-->L[0]\n",
    "[0,1]-->=1-->L[1]\n",
    "[1,0]-->=2-->L[2]\n",
    "[1,1]-->=3-->L[3] '''"
   ]
  },
  {
   "cell_type": "code",
   "execution_count": 75,
   "metadata": {},
   "outputs": [
    {
     "data": {
      "application/vnd.jupyter.widget-view+json": {
       "model_id": "22ae285ec3de4ebe91dc1315359d5fd2",
       "version_major": 2,
       "version_minor": 0
      },
      "text/plain": [
       "VBox(children=(ToggleButton(value=False, icon='wrench', layout=Layout(height='28px', padding='0px 0px 0px 5px'…"
      ]
     },
     "metadata": {},
     "output_type": "display_data"
    }
   ],
   "source": [
    "toolbar = widgets.VBox([toolbar_button])  \n",
    "toolbar\n",
    "##means that in the tool bar we can have a vertical but also in each row a composite \n",
    "#in this case as will be displayed in the next block we are going to have a horizontal row and a grid row\n"
   ]
  },
  {
   "cell_type": "code",
   "execution_count": 76,
   "metadata": {},
   "outputs": [
    {
     "data": {
      "application/vnd.jupyter.widget-view+json": {
       "model_id": "22ae285ec3de4ebe91dc1315359d5fd2",
       "version_major": 2,
       "version_minor": 0
      },
      "text/plain": [
       "VBox(children=(ToggleButton(value=False, icon='wrench', layout=Layout(height='28px', padding='0px 0px 0px 5px'…"
      ]
     },
     "metadata": {},
     "output_type": "display_data"
    }
   ],
   "source": [
    "def toolbar_click(change):\n",
    "    if change[\"new\"]: #means once is clicked\n",
    "        toolbar.children = [widgets.HBox([close_button, toolbar_button]), grid]\n",
    "    else:\n",
    "        toolbar.children = [toolbar_button]\n",
    "        \n",
    "toolbar_button.observe(toolbar_click, \"value\")\n",
    "toolbar"
   ]
  },
  {
   "cell_type": "markdown",
   "metadata": {},
   "source": [
    "## Adding toolbar to ipyleaflet"
   ]
  },
  {
   "cell_type": "code",
   "execution_count": 77,
   "metadata": {},
   "outputs": [],
   "source": [
    "toolbar_ctrl = WidgetControl(widget=toolbar, position=\"topright\")"
   ]
  },
  {
   "cell_type": "code",
   "execution_count": 78,
   "metadata": {},
   "outputs": [
    {
     "name": "stdout",
     "output_type": "stream",
     "text": [
      "this is what the user is providing:{'scroll_wheel_zoom': True}\n",
      "{'scroll_wheel_zoom': True}\n",
      "{'scroll_wheel_zoom': True, 'layers_control': True}\n",
      "{'scroll_wheel_zoom': True, 'layers_control': True, 'fullscreen_control': True}\n"
     ]
    },
    {
     "data": {
      "application/vnd.jupyter.widget-view+json": {
       "model_id": "821d03e6c07340aeb5ad9ff3dbd7fe63",
       "version_major": 2,
       "version_minor": 0
      },
      "text/plain": [
       "Map(center=[20, 0], controls=(ZoomControl(options=['position', 'zoom_in_text', 'zoom_in_title', 'zoom_out_text…"
      ]
     },
     "metadata": {},
     "output_type": "display_data"
    }
   ],
   "source": [
    "m = geosdemo.Map()\n",
    "m.add_control(toolbar_ctrl)\n",
    "m"
   ]
  },
  {
   "cell_type": "markdown",
   "metadata": {},
   "source": [
    "Now we want this respond to our clicks and do sth"
   ]
  },
  {
   "cell_type": "code",
   "execution_count": 79,
   "metadata": {},
   "outputs": [
    {
     "data": {
      "application/vnd.jupyter.widget-view+json": {
       "model_id": "821d03e6c07340aeb5ad9ff3dbd7fe63",
       "version_major": 2,
       "version_minor": 0
      },
      "text/plain": [
       "Map(center=[20, 0], controls=(ZoomControl(options=['position', 'zoom_in_text', 'zoom_in_title', 'zoom_out_text…"
      ]
     },
     "metadata": {},
     "output_type": "display_data"
    }
   ],
   "source": [
    "#Very powerful can display almost anything, it will do anything until we use the fucntion asociating with an action\n",
    "output = widgets.Output()\n",
    "output_ctrl = WidgetControl(widget=output, position=\"bottomright\")\n",
    "m.add_control(output_ctrl)\n",
    "m"
   ]
  },
  {
   "cell_type": "code",
   "execution_count": 80,
   "metadata": {},
   "outputs": [],
   "source": [
    "#tells what to do when you do a click \n",
    "def tool_click(b):    \n",
    "    with output:\n",
    "        output.clear_output()\n",
    "        print(f\"You clicked the {b.icon} button\")"
   ]
  },
  {
   "cell_type": "code",
   "execution_count": 81,
   "metadata": {},
   "outputs": [],
   "source": [
    "#line added to show how output works\n",
    "with output:\n",
    "    output.clear_output()\n",
    "    print(\"hello world\")"
   ]
  },
  {
   "cell_type": "code",
   "execution_count": 82,
   "metadata": {},
   "outputs": [],
   "source": [
    "#Associates previous actions to every icon\n",
    "for i in range(rows):\n",
    "    for j in range(cols):\n",
    "        tool = grid[i, j]\n",
    "        tool.on_click(tool_click)"
   ]
  },
  {
   "cell_type": "markdown",
   "metadata": {},
   "source": [
    "![](https://i.imgur.com/3LbyC1Y.gif)"
   ]
  },
  {
   "cell_type": "markdown",
   "metadata": {},
   "source": [
    "# How to add a dropdown list in an icon"
   ]
  },
  {
   "cell_type": "code",
   "execution_count": 83,
   "metadata": {},
   "outputs": [],
   "source": [
    "output = widgets.Output()\n",
    "output_ctrl = WidgetControl(widget=output, position=\"bottomright\")\n",
    "m.add_control(output_ctrl)\n"
   ]
  },
  {
   "cell_type": "code",
   "execution_count": 84,
   "metadata": {},
   "outputs": [],
   "source": [
    "with output:\n",
    "    output.clear_output()\n",
    "    print(\"hello world\")"
   ]
  },
  {
   "cell_type": "code",
   "execution_count": 85,
   "metadata": {},
   "outputs": [
    {
     "data": {
      "application/vnd.jupyter.widget-view+json": {
       "model_id": "19b7d931f9a64d548888ae5a7b0ed470",
       "version_major": 2,
       "version_minor": 0
      },
      "text/plain": [
       "Dropdown(description='Basemap', layout=Layout(width='250px'), options=('OpenStreetMap', 'SATELLITE', 'ROADMAP'…"
      ]
     },
     "metadata": {},
     "output_type": "display_data"
    }
   ],
   "source": [
    "#Creating the widget\n",
    "basemap = widgets.Dropdown(\n",
    "    options =[\"OpenStreetMap\", \"SATELLITE\", \"ROADMAP\"],\n",
    "    value = None,\n",
    "    description = \"Basemap\",\n",
    "    style = {\"description_width\": \"initial\"},\n",
    "    layout = widgets.Layout(width=\"250px\")\n",
    ")\n",
    "basemap"
   ]
  },
  {
   "cell_type": "code",
   "execution_count": 86,
   "metadata": {},
   "outputs": [],
   "source": [
    "basemap.value  #Displaying the value"
   ]
  },
  {
   "cell_type": "code",
   "execution_count": 87,
   "metadata": {},
   "outputs": [],
   "source": [
    "#creating the control"
   ]
  },
  {
   "cell_type": "code",
   "execution_count": 88,
   "metadata": {},
   "outputs": [],
   "source": [
    "basemap_ctrl = WidgetControl(widget=basemap, position='topright')"
   ]
  },
  {
   "cell_type": "code",
   "execution_count": 89,
   "metadata": {},
   "outputs": [],
   "source": [
    "#the next function to theis only adds the control to display the dropdown list but does not change the base map\n",
    "#this function changes the base map\n",
    "\n",
    "def change_basemap(change):\n",
    "    if change['new']:\n",
    "        with output:\n",
    "            print(basemap.value)\n",
    "        m.add_basemap(basemap.value)              #function of geosdemo"
   ]
  },
  {
   "cell_type": "code",
   "execution_count": 90,
   "metadata": {},
   "outputs": [],
   "source": [
    "#and now associating this to the widget\n",
    "basemap.observe(change_basemap, 'value')"
   ]
  },
  {
   "cell_type": "code",
   "execution_count": 94,
   "metadata": {},
   "outputs": [],
   "source": [
    "#now need to close the widget of basemaps otherwise the widget will be there always"
   ]
  },
  {
   "cell_type": "code",
   "execution_count": 91,
   "metadata": {},
   "outputs": [],
   "source": [
    "def tool_click(b):\n",
    "    with output:\n",
    "        output.clear_output()\n",
    "        print(f\"You clicked the {b.icon} button\")\n",
    "        \n",
    "        if b.icon == \"map\": #if this happen hwt do you want to do--> add the control\n",
    "            if basemap_ctrl not in m.controls: # to avoid crashes in case there is another control there\n",
    "                m.add(basemap_ctrl)                   \n",
    "    #means if no nothing happens if I keep clicking on the mao"
   ]
  },
  {
   "cell_type": "code",
   "execution_count": 92,
   "metadata": {},
   "outputs": [],
   "source": [
    "for i in range(rows):\n",
    "    for j in range(cols):\n",
    "        tool =grid[i,j]\n",
    "        tool.on_click(tool_click)"
   ]
  },
  {
   "cell_type": "code",
   "execution_count": 93,
   "metadata": {},
   "outputs": [
    {
     "data": {
      "application/vnd.jupyter.widget-view+json": {
       "model_id": "821d03e6c07340aeb5ad9ff3dbd7fe63",
       "version_major": 2,
       "version_minor": 0
      },
      "text/plain": [
       "Map(center=[20, 0], controls=(ZoomControl(options=['position', 'zoom_in_text', 'zoom_in_title', 'zoom_out_text…"
      ]
     },
     "metadata": {},
     "output_type": "display_data"
    }
   ],
   "source": [
    "m  #select roadmap because that one was used in the geosdemo"
   ]
  },
  {
   "cell_type": "code",
   "execution_count": null,
   "metadata": {},
   "outputs": [],
   "source": []
  }
 ],
 "metadata": {
  "hide_input": false,
  "kernelspec": {
   "display_name": "Python 3 (ipykernel)",
   "language": "python",
   "name": "python3"
  },
  "language_info": {
   "codemirror_mode": {
    "name": "ipython",
    "version": 3
   },
   "file_extension": ".py",
   "mimetype": "text/x-python",
   "name": "python",
   "nbconvert_exporter": "python",
   "pygments_lexer": "ipython3",
   "version": "3.8.8"
  },
  "toc": {
   "base_numbering": 1,
   "nav_menu": {},
   "number_sections": true,
   "sideBar": true,
   "skip_h1_title": false,
   "title_cell": "Table of Contents",
   "title_sidebar": "Contents",
   "toc_cell": false,
   "toc_position": {},
   "toc_section_display": true,
   "toc_window_display": false
  },
  "varInspector": {
   "cols": {
    "lenName": 16,
    "lenType": 16,
    "lenVar": 40
   },
   "kernels_config": {
    "python": {
     "delete_cmd_postfix": "",
     "delete_cmd_prefix": "del ",
     "library": "var_list.py",
     "varRefreshCmd": "print(var_dic_list())"
    },
    "r": {
     "delete_cmd_postfix": ") ",
     "delete_cmd_prefix": "rm(",
     "library": "var_list.r",
     "varRefreshCmd": "cat(var_dic_list()) "
    }
   },
   "types_to_exclude": [
    "module",
    "function",
    "builtin_function_or_method",
    "instance",
    "_Feature"
   ],
   "window_display": false
  }
 },
 "nbformat": 4,
 "nbformat_minor": 4
}
