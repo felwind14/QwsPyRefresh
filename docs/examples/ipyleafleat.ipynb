{
 "cells": [
  {
   "cell_type": "code",
   "execution_count": null,
   "metadata": {},
   "outputs": [],
   "source": [
    "# !pip install leafmap"
   ]
  },
  {
   "cell_type": "code",
   "execution_count": null,
   "metadata": {},
   "outputs": [],
   "source": [
    "import leafmap\n",
    "import ipyleaflet"
   ]
  },
  {
   "cell_type": "code",
   "execution_count": null,
   "metadata": {},
   "outputs": [],
   "source": [
    "from ipyleaflet import Map, basemaps, basemap_to_tiles\n",
    "\n",
    "m = Map(\n",
    "    basemap=basemap_to_tiles(basemaps.NASAGIBS.ModisTerraTrueColorCR, \"2017-04-08\"),\n",
    "    center=(52.204793, 360.121558),\n",
    "    zoom=4\n",
    ")\n",
    "\n",
    "m"
   ]
  },
  {
   "cell_type": "code",
   "execution_count": null,
   "metadata": {},
   "outputs": [],
   "source": [
    "#m.clear_layers()  #clears layers above"
   ]
  },
  {
   "cell_type": "code",
   "execution_count": null,
   "metadata": {},
   "outputs": [],
   "source": [
    "from ipyleaflet import Map, basemaps, basemap_to_tiles\n",
    "\n",
    "m = Map(\n",
    "    basemap=basemap_to_tiles(basemaps.OpenTopoMap),\n",
    "    center=(52.204793, 360.121558),\n",
    "    zoom=4\n",
    ")\n",
    "\n",
    "m"
   ]
  },
  {
   "cell_type": "code",
   "execution_count": null,
   "metadata": {},
   "outputs": [],
   "source": [
    "import leafmap"
   ]
  },
  {
   "cell_type": "code",
   "execution_count": null,
   "metadata": {},
   "outputs": [],
   "source": [
    "m = leafmap.Map()\n",
    "m"
   ]
  },
  {
   "cell_type": "code",
   "execution_count": null,
   "metadata": {},
   "outputs": [],
   "source": [
    "m = leafmap.Map()\n",
    "m.add_basemap()\n",
    "m"
   ]
  },
  {
   "cell_type": "code",
   "execution_count": 1,
   "metadata": {},
   "outputs": [],
   "source": [
    "##11_a: Adding the layers control to the map using the newly created function on geosdemo.py\n",
    "\n",
    "import geosdemo\n"
   ]
  },
  {
   "cell_type": "code",
   "execution_count": 2,
   "metadata": {},
   "outputs": [
    {
     "name": "stdout",
     "output_type": "stream",
     "text": [
      "this is what the user is providing:{'scroll_wheel_zoom': True}\n",
      "{'scroll_wheel_zoom': True}\n",
      "{'scroll_wheel_zoom': True, 'layers_control': True}\n"
     ]
    },
    {
     "data": {
      "application/vnd.jupyter.widget-view+json": {
       "model_id": "3f6de98b409c41aa912efbea35e661ea",
       "version_major": 2,
       "version_minor": 0
      },
      "text/plain": [
       "Map(center=[20, 0], controls=(ZoomControl(options=['position', 'zoom_in_text', 'zoom_in_title', 'zoom_out_text…"
      ]
     },
     "metadata": {},
     "output_type": "display_data"
    }
   ],
   "source": [
    "m = geosdemo.Map()\n",
    "m"
   ]
  },
  {
   "cell_type": "code",
   "execution_count": 3,
   "metadata": {},
   "outputs": [
    {
     "ename": "TypeError",
     "evalue": "add_layers_control() got an unexpected keyword argument 'layers_control'",
     "output_type": "error",
     "traceback": [
      "\u001b[1;31m---------------------------------------------------------------------------\u001b[0m",
      "\u001b[1;31mTypeError\u001b[0m                                 Traceback (most recent call last)",
      "Cell \u001b[1;32mIn[3], line 3\u001b[0m\n\u001b[0;32m      1\u001b[0m \u001b[39m#Add layers control coomes inherited from ipyleaflet and created on geos demo\u001b[39;00m\n\u001b[1;32m----> 3\u001b[0m m\u001b[39m.\u001b[39;49madd_layers_control(layers_control \u001b[39m=\u001b[39;49m \u001b[39mFalse\u001b[39;49;00m)  \u001b[39m#tHGIS PRODUCES AN ERROR\u001b[39;00m\n",
      "\u001b[1;31mTypeError\u001b[0m: add_layers_control() got an unexpected keyword argument 'layers_control'"
     ]
    }
   ],
   "source": [
    "#Add layers control coomes inherited from ipyleaflet and created on geos demo\n",
    "\n",
    "m.add_layers_control(layers_control = False)  #tHGIS PRODUCES AN ERROR"
   ]
  },
  {
   "cell_type": "code",
   "execution_count": 4,
   "metadata": {},
   "outputs": [
    {
     "name": "stdout",
     "output_type": "stream",
     "text": [
      "this is what the user is providing:{'layers_control': False, 'scroll_wheel_zoom': True}\n",
      "{'layers_control': False, 'scroll_wheel_zoom': True}\n",
      "{'layers_control': False, 'scroll_wheel_zoom': True}\n"
     ]
    },
    {
     "data": {
      "application/vnd.jupyter.widget-view+json": {
       "model_id": "9ea14b9ed0f24539bbd4f4e1c95b58ee",
       "version_major": 2,
       "version_minor": 0
      },
      "text/plain": [
       "Map(center=[20, 0], controls=(ZoomControl(options=['position', 'zoom_in_text', 'zoom_in_title', 'zoom_out_text…"
      ]
     },
     "metadata": {},
     "output_type": "display_data"
    }
   ],
   "source": [
    "m= geosdemo.Map(layers_control= False)\n",
    "m"
   ]
  },
  {
   "cell_type": "code",
   "execution_count": 10,
   "metadata": {},
   "outputs": [
    {
     "name": "stdout",
     "output_type": "stream",
     "text": [
      "this is what the user is providing:{'scroll_wheel_zoom': True}\n",
      "{'scroll_wheel_zoom': True}\n",
      "{'scroll_wheel_zoom': True, 'layers_control': True}\n",
      "{'scroll_wheel_zoom': True, 'layers_control': True, 'fullscreen_control': True}\n"
     ]
    }
   ],
   "source": [
    "import geosdemo\n",
    "\n",
    "m = geosdemo.Map()  #full_Screen just works outside "
   ]
  },
  {
   "cell_type": "code",
   "execution_count": 11,
   "metadata": {},
   "outputs": [
    {
     "data": {
      "application/vnd.jupyter.widget-view+json": {
       "model_id": "49fa48ab6c204141b7990e23a0366850",
       "version_major": 2,
       "version_minor": 0
      },
      "text/plain": [
       "Map(center=[20, 0], controls=(ZoomControl(options=['position', 'zoom_in_text', 'zoom_in_title', 'zoom_out_text…"
      ]
     },
     "metadata": {},
     "output_type": "display_data"
    }
   ],
   "source": [
    "m"
   ]
  },
  {
   "cell_type": "code",
   "execution_count": 20,
   "metadata": {},
   "outputs": [
    {
     "name": "stdout",
     "output_type": "stream",
     "text": [
      "this is what the user is providing:{'layers_control': True, 'scroll_wheel_zoom': True}\n",
      "{'layers_control': True, 'scroll_wheel_zoom': True}\n",
      "{'layers_control': True, 'scroll_wheel_zoom': True}\n",
      "{'layers_control': True, 'scroll_wheel_zoom': True, 'fullscreen_control': True}\n"
     ]
    },
    {
     "data": {
      "application/vnd.jupyter.widget-view+json": {
       "model_id": "bdc55b56f9f54c5bbd87085f7a1ceab0",
       "version_major": 2,
       "version_minor": 0
      },
      "text/plain": [
       "Map(center=[20, 0], controls=(ZoomControl(options=['position', 'zoom_in_text', 'zoom_in_title', 'zoom_out_text…"
      ]
     },
     "metadata": {},
     "output_type": "display_data"
    }
   ],
   "source": [
    "#Putting basemap\n",
    "import geosdemo\n",
    "\n",
    "m = geosdemo.Map(layers_control= True)\n",
    "m  "
   ]
  },
  {
   "cell_type": "code",
   "execution_count": 21,
   "metadata": {},
   "outputs": [],
   "source": [
    "#base map addition results cells above\n",
    "url = 'http://mt0.google.com/vt/lyrs=y&hl=en&x={x}&y={y}&z={z}'\n",
    "\n",
    "import ipyleaflet\n",
    "\n",
    "layer = ipyleaflet.TileLayer(url=url, name = \"google satellite\", attribution = \"Google\")\n",
    "m.add_layer(layer)"
   ]
  },
  {
   "cell_type": "code",
   "execution_count": 1,
   "metadata": {},
   "outputs": [],
   "source": [
    "\n",
    "#using geos demo with added function \n",
    "import geosdemo"
   ]
  },
  {
   "cell_type": "code",
   "execution_count": 6,
   "metadata": {},
   "outputs": [
    {
     "name": "stdout",
     "output_type": "stream",
     "text": [
      "this is what the user is providing:{'scroll_wheel_zoom': True}\n",
      "{'scroll_wheel_zoom': True}\n",
      "{'scroll_wheel_zoom': True, 'layers_control': True}\n",
      "{'scroll_wheel_zoom': True, 'layers_control': True, 'fullscreen_control': True}\n"
     ]
    },
    {
     "data": {
      "application/vnd.jupyter.widget-view+json": {
       "model_id": "63764af22cda4de19bd4e97fecccfc15",
       "version_major": 2,
       "version_minor": 0
      },
      "text/plain": [
       "Map(center=[20, 0], controls=(ZoomControl(options=['position', 'zoom_in_text', 'zoom_in_title', 'zoom_out_text…"
      ]
     },
     "metadata": {},
     "output_type": "display_data"
    }
   ],
   "source": [
    "m =geosdemo.Map()  #this gives you the flat map\n",
    "m"
   ]
  },
  {
   "cell_type": "code",
   "execution_count": 7,
   "metadata": {},
   "outputs": [],
   "source": [
    "url = 'http://mt0.google.com/vt/lyrs=y&hl=en&x={x}&y={y}&z={z}'\n",
    "m.add_tile_layer(url=url, name='Google maps', attribution='xxxx')"
   ]
  },
  {
   "cell_type": "code",
   "execution_count": 1,
   "metadata": {},
   "outputs": [
    {
     "name": "stdout",
     "output_type": "stream",
     "text": [
      "this is what the user is providing:{'scroll_wheel_zoom': True}\n",
      "{'scroll_wheel_zoom': True}\n",
      "{'scroll_wheel_zoom': True, 'layers_control': True}\n",
      "{'scroll_wheel_zoom': True, 'layers_control': True, 'fullscreen_control': True}\n"
     ]
    },
    {
     "data": {
      "application/vnd.jupyter.widget-view+json": {
       "model_id": "c153e120be9149d788bd7bd44b56f5c5",
       "version_major": 2,
       "version_minor": 0
      },
      "text/plain": [
       "Map(center=[20, 0], controls=(ZoomControl(options=['position', 'zoom_in_text', 'zoom_in_title', 'zoom_out_text…"
      ]
     },
     "metadata": {},
     "output_type": "display_data"
    }
   ],
   "source": [
    "#road map\n",
    "\n",
    "import geosdemo\n",
    "m =geosdemo.Map()  \n",
    "m"
   ]
  },
  {
   "cell_type": "code",
   "execution_count": 3,
   "metadata": {},
   "outputs": [],
   "source": [
    "m.add_basemap(\"roadmap\")"
   ]
  },
  {
   "cell_type": "code",
   "execution_count": 2,
   "metadata": {},
   "outputs": [],
   "source": [
    "m.add_basemap(\"satellite\")"
   ]
  },
  {
   "cell_type": "code",
   "execution_count": 4,
   "metadata": {},
   "outputs": [],
   "source": [
    "#using xyz\n",
    "\n",
    "import xyzservices.providers as xyz"
   ]
  },
  {
   "cell_type": "code",
   "execution_count": 6,
   "metadata": {},
   "outputs": [
    {
     "data": {
      "text/html": [
       "\n",
       "        <div>\n",
       "        <style>\n",
       "/* CSS stylesheet for displaying xyzservices objects in Jupyter.*/\n",
       ".xyz-wrap {\n",
       "    --xyz-border-color: var(--jp-border-color2, #ddd);\n",
       "    --xyz-font-color2: var(--jp-content-font-color2, rgba(128, 128, 128, 1));\n",
       "    --xyz-background-color-white: var(--jp-layout-color1, white);\n",
       "    --xyz-background-color: var(--jp-layout-color2, rgba(128, 128, 128, 0.1));\n",
       "}\n",
       "\n",
       "html[theme=dark] .xyz-wrap,\n",
       "body.vscode-dark .xyz-wrap,\n",
       "body.vscode-high-contrast .xyz-wrap {\n",
       "    --xyz-border-color: #222;\n",
       "    --xyz-font-color2: rgba(255, 255, 255, 0.54);\n",
       "    --xyz-background-color-white: rgba(255, 255, 255, 1);\n",
       "    --xyz-background-color: rgba(255, 255, 255, 0.05);\n",
       "\n",
       "}\n",
       "\n",
       ".xyz-header {\n",
       "    padding-top: 6px;\n",
       "    padding-bottom: 6px;\n",
       "    margin-bottom: 4px;\n",
       "    border-bottom: solid 1px var(--xyz-border-color);\n",
       "}\n",
       "\n",
       ".xyz-header>div {\n",
       "    display: inline;\n",
       "    margin-top: 0;\n",
       "    margin-bottom: 0;\n",
       "}\n",
       "\n",
       ".xyz-obj,\n",
       ".xyz-name {\n",
       "    margin-left: 2px;\n",
       "    margin-right: 10px;\n",
       "}\n",
       "\n",
       ".xyz-obj {\n",
       "    color: var(--xyz-font-color2);\n",
       "}\n",
       "\n",
       ".xyz-attrs {\n",
       "    grid-column: 1 / -1;\n",
       "}\n",
       "\n",
       "dl.xyz-attrs {\n",
       "    padding: 0 5px 0 5px;\n",
       "    margin: 0;\n",
       "    display: grid;\n",
       "    grid-template-columns: 135px auto;\n",
       "    background-color: var(--xyz-background-color);\n",
       "}\n",
       "\n",
       ".xyz-attrs dt,\n",
       "dd {\n",
       "    padding: 0;\n",
       "    margin: 0;\n",
       "    float: left;\n",
       "    padding-right: 10px;\n",
       "    width: auto;\n",
       "}\n",
       "\n",
       ".xyz-attrs dt {\n",
       "    font-weight: normal;\n",
       "    grid-column: 1;\n",
       "}\n",
       "\n",
       ".xyz-attrs dd {\n",
       "    grid-column: 2;\n",
       "    white-space: pre-wrap;\n",
       "    word-break: break-all;\n",
       "}\n",
       "\n",
       ".xyz-details ul>li>label>span {\n",
       "    color: var(--xyz-font-color2);\n",
       "    padding-left: 10px;\n",
       "}\n",
       "\n",
       ".xyz-inside {\n",
       "    display: none;\n",
       "}\n",
       "\n",
       ".xyz-checkbox:checked~.xyz-inside {\n",
       "    display: contents;\n",
       "}\n",
       "\n",
       ".xyz-collapsible li>input {\n",
       "    display: none;\n",
       "}\n",
       "\n",
       ".xyz-collapsible>li>label {\n",
       "    cursor: pointer;\n",
       "}\n",
       "\n",
       ".xyz-collapsible>li>label:hover {\n",
       "    color: var(--xyz-font-color2);\n",
       "}\n",
       "\n",
       "ul.xyz-collapsible {\n",
       "    list-style: none!important;\n",
       "    padding-left: 20px!important;\n",
       "}\n",
       "\n",
       ".xyz-checkbox+label:before {\n",
       "    content: '►';\n",
       "    font-size: 11px;\n",
       "}\n",
       "\n",
       ".xyz-checkbox:checked+label:before {\n",
       "    content: '▼';\n",
       "}\n",
       "\n",
       ".xyz-wrap {\n",
       "    margin-bottom: 10px;\n",
       "}\n",
       "</style>\n",
       "            <div class=\"xyz-wrap\">\n",
       "                <div class=\"xyz-header\">\n",
       "                    <div class=\"xyz-obj\">xyzservices.Bunch</div>\n",
       "                    <div class=\"xyz-name\">15 items</div>\n",
       "                </div>\n",
       "                <div class=\"xyz-details\">\n",
       "                    <ul class=\"xyz-collapsible\">\n",
       "                        \n",
       "            <li class=\"xyz-child\">\n",
       "                <input type=\"checkbox\" id=\"4b5dc29c-eb5b-454f-bbe9-e8528b87f221\" class=\"xyz-checkbox\"/>\n",
       "                <label for=\"4b5dc29c-eb5b-454f-bbe9-e8528b87f221\">WorldStreetMap <span>xyzservices.TileProvider</span></label>\n",
       "                <div class=\"xyz-inside\">\n",
       "                    \n",
       "        <div>\n",
       "        \n",
       "            <div class=\"xyz-wrap\">\n",
       "                <div class=\"xyz-header\">\n",
       "                    <div class=\"xyz-obj\">xyzservices.TileProvider</div>\n",
       "                    <div class=\"xyz-name\">Esri.WorldStreetMap</div>\n",
       "                </div>\n",
       "                <div class=\"xyz-details\">\n",
       "                    <dl class=\"xyz-attrs\">\n",
       "                        <dt><span>url</span></dt><dd>https://server.arcgisonline.com/ArcGIS/rest/services/{variant}/MapServer/tile/{z}/{y}/{x}</dd><dt><span>variant</span></dt><dd>World_Street_Map</dd><dt><span>html_attribution</span></dt><dd>Tiles &copy; Esri &mdash; Source: Esri, DeLorme, NAVTEQ, USGS, Intermap, iPC, NRCAN, Esri Japan, METI, Esri China (Hong Kong), Esri (Thailand), TomTom, 2012</dd><dt><span>attribution</span></dt><dd>Tiles (C) Esri -- Source: Esri, DeLorme, NAVTEQ, USGS, Intermap, iPC, NRCAN, Esri Japan, METI, Esri China (Hong Kong), Esri (Thailand), TomTom, 2012</dd>\n",
       "                    </dl>\n",
       "                </div>\n",
       "            </div>\n",
       "        </div>\n",
       "        \n",
       "                </div>\n",
       "            </li>\n",
       "            \n",
       "            <li class=\"xyz-child\">\n",
       "                <input type=\"checkbox\" id=\"cc3e8001-6997-45f0-a793-345afa77c844\" class=\"xyz-checkbox\"/>\n",
       "                <label for=\"cc3e8001-6997-45f0-a793-345afa77c844\">DeLorme <span>xyzservices.TileProvider</span></label>\n",
       "                <div class=\"xyz-inside\">\n",
       "                    \n",
       "        <div>\n",
       "        \n",
       "            <div class=\"xyz-wrap\">\n",
       "                <div class=\"xyz-header\">\n",
       "                    <div class=\"xyz-obj\">xyzservices.TileProvider</div>\n",
       "                    <div class=\"xyz-name\">Esri.DeLorme</div>\n",
       "                </div>\n",
       "                <div class=\"xyz-details\">\n",
       "                    <dl class=\"xyz-attrs\">\n",
       "                        <dt><span>url</span></dt><dd>https://server.arcgisonline.com/ArcGIS/rest/services/{variant}/MapServer/tile/{z}/{y}/{x}</dd><dt><span>variant</span></dt><dd>Specialty/DeLorme_World_Base_Map</dd><dt><span>html_attribution</span></dt><dd>Tiles &copy; Esri &mdash; Copyright: &copy;2012 DeLorme</dd><dt><span>attribution</span></dt><dd>Tiles (C) Esri -- Copyright: (C)2012 DeLorme</dd><dt><span>min_zoom</span></dt><dd>1</dd><dt><span>max_zoom</span></dt><dd>11</dd>\n",
       "                    </dl>\n",
       "                </div>\n",
       "            </div>\n",
       "        </div>\n",
       "        \n",
       "                </div>\n",
       "            </li>\n",
       "            \n",
       "            <li class=\"xyz-child\">\n",
       "                <input type=\"checkbox\" id=\"d81398f9-02bc-4752-aa09-f8ae606c63c8\" class=\"xyz-checkbox\"/>\n",
       "                <label for=\"d81398f9-02bc-4752-aa09-f8ae606c63c8\">WorldTopoMap <span>xyzservices.TileProvider</span></label>\n",
       "                <div class=\"xyz-inside\">\n",
       "                    \n",
       "        <div>\n",
       "        \n",
       "            <div class=\"xyz-wrap\">\n",
       "                <div class=\"xyz-header\">\n",
       "                    <div class=\"xyz-obj\">xyzservices.TileProvider</div>\n",
       "                    <div class=\"xyz-name\">Esri.WorldTopoMap</div>\n",
       "                </div>\n",
       "                <div class=\"xyz-details\">\n",
       "                    <dl class=\"xyz-attrs\">\n",
       "                        <dt><span>url</span></dt><dd>https://server.arcgisonline.com/ArcGIS/rest/services/{variant}/MapServer/tile/{z}/{y}/{x}</dd><dt><span>variant</span></dt><dd>World_Topo_Map</dd><dt><span>html_attribution</span></dt><dd>Tiles &copy; Esri &mdash; Esri, DeLorme, NAVTEQ, TomTom, Intermap, iPC, USGS, FAO, NPS, NRCAN, GeoBase, Kadaster NL, Ordnance Survey, Esri Japan, METI, Esri China (Hong Kong), and the GIS User Community</dd><dt><span>attribution</span></dt><dd>Tiles (C) Esri -- Esri, DeLorme, NAVTEQ, TomTom, Intermap, iPC, USGS, FAO, NPS, NRCAN, GeoBase, Kadaster NL, Ordnance Survey, Esri Japan, METI, Esri China (Hong Kong), and the GIS User Community</dd>\n",
       "                    </dl>\n",
       "                </div>\n",
       "            </div>\n",
       "        </div>\n",
       "        \n",
       "                </div>\n",
       "            </li>\n",
       "            \n",
       "            <li class=\"xyz-child\">\n",
       "                <input type=\"checkbox\" id=\"40b1e64d-f617-49d3-a31a-6068a1629309\" class=\"xyz-checkbox\"/>\n",
       "                <label for=\"40b1e64d-f617-49d3-a31a-6068a1629309\">WorldImagery <span>xyzservices.TileProvider</span></label>\n",
       "                <div class=\"xyz-inside\">\n",
       "                    \n",
       "        <div>\n",
       "        \n",
       "            <div class=\"xyz-wrap\">\n",
       "                <div class=\"xyz-header\">\n",
       "                    <div class=\"xyz-obj\">xyzservices.TileProvider</div>\n",
       "                    <div class=\"xyz-name\">Esri.WorldImagery</div>\n",
       "                </div>\n",
       "                <div class=\"xyz-details\">\n",
       "                    <dl class=\"xyz-attrs\">\n",
       "                        <dt><span>url</span></dt><dd>https://server.arcgisonline.com/ArcGIS/rest/services/{variant}/MapServer/tile/{z}/{y}/{x}</dd><dt><span>variant</span></dt><dd>World_Imagery</dd><dt><span>html_attribution</span></dt><dd>Tiles &copy; Esri &mdash; Source: Esri, i-cubed, USDA, USGS, AEX, GeoEye, Getmapping, Aerogrid, IGN, IGP, UPR-EGP, and the GIS User Community</dd><dt><span>attribution</span></dt><dd>Tiles (C) Esri -- Source: Esri, i-cubed, USDA, USGS, AEX, GeoEye, Getmapping, Aerogrid, IGN, IGP, UPR-EGP, and the GIS User Community</dd>\n",
       "                    </dl>\n",
       "                </div>\n",
       "            </div>\n",
       "        </div>\n",
       "        \n",
       "                </div>\n",
       "            </li>\n",
       "            \n",
       "            <li class=\"xyz-child\">\n",
       "                <input type=\"checkbox\" id=\"ddbedf7a-022e-4739-b419-5b173691306f\" class=\"xyz-checkbox\"/>\n",
       "                <label for=\"ddbedf7a-022e-4739-b419-5b173691306f\">WorldTerrain <span>xyzservices.TileProvider</span></label>\n",
       "                <div class=\"xyz-inside\">\n",
       "                    \n",
       "        <div>\n",
       "        \n",
       "            <div class=\"xyz-wrap\">\n",
       "                <div class=\"xyz-header\">\n",
       "                    <div class=\"xyz-obj\">xyzservices.TileProvider</div>\n",
       "                    <div class=\"xyz-name\">Esri.WorldTerrain</div>\n",
       "                </div>\n",
       "                <div class=\"xyz-details\">\n",
       "                    <dl class=\"xyz-attrs\">\n",
       "                        <dt><span>url</span></dt><dd>https://server.arcgisonline.com/ArcGIS/rest/services/{variant}/MapServer/tile/{z}/{y}/{x}</dd><dt><span>variant</span></dt><dd>World_Terrain_Base</dd><dt><span>html_attribution</span></dt><dd>Tiles &copy; Esri &mdash; Source: USGS, Esri, TANA, DeLorme, and NPS</dd><dt><span>attribution</span></dt><dd>Tiles (C) Esri -- Source: USGS, Esri, TANA, DeLorme, and NPS</dd><dt><span>max_zoom</span></dt><dd>13</dd>\n",
       "                    </dl>\n",
       "                </div>\n",
       "            </div>\n",
       "        </div>\n",
       "        \n",
       "                </div>\n",
       "            </li>\n",
       "            \n",
       "            <li class=\"xyz-child\">\n",
       "                <input type=\"checkbox\" id=\"80a2e831-ffd8-475f-9e03-ea4b62be6524\" class=\"xyz-checkbox\"/>\n",
       "                <label for=\"80a2e831-ffd8-475f-9e03-ea4b62be6524\">WorldShadedRelief <span>xyzservices.TileProvider</span></label>\n",
       "                <div class=\"xyz-inside\">\n",
       "                    \n",
       "        <div>\n",
       "        \n",
       "            <div class=\"xyz-wrap\">\n",
       "                <div class=\"xyz-header\">\n",
       "                    <div class=\"xyz-obj\">xyzservices.TileProvider</div>\n",
       "                    <div class=\"xyz-name\">Esri.WorldShadedRelief</div>\n",
       "                </div>\n",
       "                <div class=\"xyz-details\">\n",
       "                    <dl class=\"xyz-attrs\">\n",
       "                        <dt><span>url</span></dt><dd>https://server.arcgisonline.com/ArcGIS/rest/services/{variant}/MapServer/tile/{z}/{y}/{x}</dd><dt><span>variant</span></dt><dd>World_Shaded_Relief</dd><dt><span>html_attribution</span></dt><dd>Tiles &copy; Esri &mdash; Source: Esri</dd><dt><span>attribution</span></dt><dd>Tiles (C) Esri -- Source: Esri</dd><dt><span>max_zoom</span></dt><dd>13</dd>\n",
       "                    </dl>\n",
       "                </div>\n",
       "            </div>\n",
       "        </div>\n",
       "        \n",
       "                </div>\n",
       "            </li>\n",
       "            \n",
       "            <li class=\"xyz-child\">\n",
       "                <input type=\"checkbox\" id=\"19c74135-6a4a-44b2-8feb-6c58a68a114e\" class=\"xyz-checkbox\"/>\n",
       "                <label for=\"19c74135-6a4a-44b2-8feb-6c58a68a114e\">WorldPhysical <span>xyzservices.TileProvider</span></label>\n",
       "                <div class=\"xyz-inside\">\n",
       "                    \n",
       "        <div>\n",
       "        \n",
       "            <div class=\"xyz-wrap\">\n",
       "                <div class=\"xyz-header\">\n",
       "                    <div class=\"xyz-obj\">xyzservices.TileProvider</div>\n",
       "                    <div class=\"xyz-name\">Esri.WorldPhysical</div>\n",
       "                </div>\n",
       "                <div class=\"xyz-details\">\n",
       "                    <dl class=\"xyz-attrs\">\n",
       "                        <dt><span>url</span></dt><dd>https://server.arcgisonline.com/ArcGIS/rest/services/{variant}/MapServer/tile/{z}/{y}/{x}</dd><dt><span>variant</span></dt><dd>World_Physical_Map</dd><dt><span>html_attribution</span></dt><dd>Tiles &copy; Esri &mdash; Source: US National Park Service</dd><dt><span>attribution</span></dt><dd>Tiles (C) Esri -- Source: US National Park Service</dd><dt><span>max_zoom</span></dt><dd>8</dd>\n",
       "                    </dl>\n",
       "                </div>\n",
       "            </div>\n",
       "        </div>\n",
       "        \n",
       "                </div>\n",
       "            </li>\n",
       "            \n",
       "            <li class=\"xyz-child\">\n",
       "                <input type=\"checkbox\" id=\"e198d632-31a4-41f3-a59c-e54837a4bb47\" class=\"xyz-checkbox\"/>\n",
       "                <label for=\"e198d632-31a4-41f3-a59c-e54837a4bb47\">OceanBasemap <span>xyzservices.TileProvider</span></label>\n",
       "                <div class=\"xyz-inside\">\n",
       "                    \n",
       "        <div>\n",
       "        \n",
       "            <div class=\"xyz-wrap\">\n",
       "                <div class=\"xyz-header\">\n",
       "                    <div class=\"xyz-obj\">xyzservices.TileProvider</div>\n",
       "                    <div class=\"xyz-name\">Esri.OceanBasemap</div>\n",
       "                </div>\n",
       "                <div class=\"xyz-details\">\n",
       "                    <dl class=\"xyz-attrs\">\n",
       "                        <dt><span>url</span></dt><dd>https://server.arcgisonline.com/ArcGIS/rest/services/{variant}/MapServer/tile/{z}/{y}/{x}</dd><dt><span>variant</span></dt><dd>Ocean/World_Ocean_Base</dd><dt><span>html_attribution</span></dt><dd>Tiles &copy; Esri &mdash; Sources: GEBCO, NOAA, CHS, OSU, UNH, CSUMB, National Geographic, DeLorme, NAVTEQ, and Esri</dd><dt><span>attribution</span></dt><dd>Tiles (C) Esri -- Sources: GEBCO, NOAA, CHS, OSU, UNH, CSUMB, National Geographic, DeLorme, NAVTEQ, and Esri</dd><dt><span>max_zoom</span></dt><dd>13</dd>\n",
       "                    </dl>\n",
       "                </div>\n",
       "            </div>\n",
       "        </div>\n",
       "        \n",
       "                </div>\n",
       "            </li>\n",
       "            \n",
       "            <li class=\"xyz-child\">\n",
       "                <input type=\"checkbox\" id=\"e6cd4f69-0047-4640-bb76-75fd6c7a90d2\" class=\"xyz-checkbox\"/>\n",
       "                <label for=\"e6cd4f69-0047-4640-bb76-75fd6c7a90d2\">NatGeoWorldMap <span>xyzservices.TileProvider</span></label>\n",
       "                <div class=\"xyz-inside\">\n",
       "                    \n",
       "        <div>\n",
       "        \n",
       "            <div class=\"xyz-wrap\">\n",
       "                <div class=\"xyz-header\">\n",
       "                    <div class=\"xyz-obj\">xyzservices.TileProvider</div>\n",
       "                    <div class=\"xyz-name\">Esri.NatGeoWorldMap</div>\n",
       "                </div>\n",
       "                <div class=\"xyz-details\">\n",
       "                    <dl class=\"xyz-attrs\">\n",
       "                        <dt><span>url</span></dt><dd>https://server.arcgisonline.com/ArcGIS/rest/services/{variant}/MapServer/tile/{z}/{y}/{x}</dd><dt><span>variant</span></dt><dd>NatGeo_World_Map</dd><dt><span>html_attribution</span></dt><dd>Tiles &copy; Esri &mdash; National Geographic, Esri, DeLorme, NAVTEQ, UNEP-WCMC, USGS, NASA, ESA, METI, NRCAN, GEBCO, NOAA, iPC</dd><dt><span>attribution</span></dt><dd>Tiles (C) Esri -- National Geographic, Esri, DeLorme, NAVTEQ, UNEP-WCMC, USGS, NASA, ESA, METI, NRCAN, GEBCO, NOAA, iPC</dd><dt><span>max_zoom</span></dt><dd>16</dd>\n",
       "                    </dl>\n",
       "                </div>\n",
       "            </div>\n",
       "        </div>\n",
       "        \n",
       "                </div>\n",
       "            </li>\n",
       "            \n",
       "            <li class=\"xyz-child\">\n",
       "                <input type=\"checkbox\" id=\"ac2bfd7b-1c3f-4fb5-88e8-19fec35bc57b\" class=\"xyz-checkbox\"/>\n",
       "                <label for=\"ac2bfd7b-1c3f-4fb5-88e8-19fec35bc57b\">WorldGrayCanvas <span>xyzservices.TileProvider</span></label>\n",
       "                <div class=\"xyz-inside\">\n",
       "                    \n",
       "        <div>\n",
       "        \n",
       "            <div class=\"xyz-wrap\">\n",
       "                <div class=\"xyz-header\">\n",
       "                    <div class=\"xyz-obj\">xyzservices.TileProvider</div>\n",
       "                    <div class=\"xyz-name\">Esri.WorldGrayCanvas</div>\n",
       "                </div>\n",
       "                <div class=\"xyz-details\">\n",
       "                    <dl class=\"xyz-attrs\">\n",
       "                        <dt><span>url</span></dt><dd>https://server.arcgisonline.com/ArcGIS/rest/services/{variant}/MapServer/tile/{z}/{y}/{x}</dd><dt><span>variant</span></dt><dd>Canvas/World_Light_Gray_Base</dd><dt><span>html_attribution</span></dt><dd>Tiles &copy; Esri &mdash; Esri, DeLorme, NAVTEQ</dd><dt><span>attribution</span></dt><dd>Tiles (C) Esri -- Esri, DeLorme, NAVTEQ</dd><dt><span>max_zoom</span></dt><dd>16</dd>\n",
       "                    </dl>\n",
       "                </div>\n",
       "            </div>\n",
       "        </div>\n",
       "        \n",
       "                </div>\n",
       "            </li>\n",
       "            \n",
       "            <li class=\"xyz-child\">\n",
       "                <input type=\"checkbox\" id=\"f5f964ee-0412-4dfc-a735-06d923e8b063\" class=\"xyz-checkbox\"/>\n",
       "                <label for=\"f5f964ee-0412-4dfc-a735-06d923e8b063\">ArcticImagery <span>xyzservices.TileProvider</span></label>\n",
       "                <div class=\"xyz-inside\">\n",
       "                    \n",
       "        <div>\n",
       "        \n",
       "            <div class=\"xyz-wrap\">\n",
       "                <div class=\"xyz-header\">\n",
       "                    <div class=\"xyz-obj\">xyzservices.TileProvider</div>\n",
       "                    <div class=\"xyz-name\">Esri.ArcticImagery</div>\n",
       "                </div>\n",
       "                <div class=\"xyz-details\">\n",
       "                    <dl class=\"xyz-attrs\">\n",
       "                        <dt><span>url</span></dt><dd>http://server.arcgisonline.com/ArcGIS/rest/services/Polar/Arctic_Imagery/MapServer/tile/{z}/{y}/{x}</dd><dt><span>variant</span></dt><dd>Arctic_Imagery</dd><dt><span>html_attribution</span></dt><dd>Earthstar Geographics</dd><dt><span>attribution</span></dt><dd>Earthstar Geographics</dd><dt><span>max_zoom</span></dt><dd>24</dd><dt><span>crs</span></dt><dd>EPSG:5936</dd><dt><span>bounds</span></dt><dd>[[-2623285.8808999993, -2623285.8808999993], [6623285.8803, 6623285.8803]]</dd>\n",
       "                    </dl>\n",
       "                </div>\n",
       "            </div>\n",
       "        </div>\n",
       "        \n",
       "                </div>\n",
       "            </li>\n",
       "            \n",
       "            <li class=\"xyz-child\">\n",
       "                <input type=\"checkbox\" id=\"59515d80-0b12-4b4c-ab6b-c0bd323b4e87\" class=\"xyz-checkbox\"/>\n",
       "                <label for=\"59515d80-0b12-4b4c-ab6b-c0bd323b4e87\">ArcticOceanBase <span>xyzservices.TileProvider</span></label>\n",
       "                <div class=\"xyz-inside\">\n",
       "                    \n",
       "        <div>\n",
       "        \n",
       "            <div class=\"xyz-wrap\">\n",
       "                <div class=\"xyz-header\">\n",
       "                    <div class=\"xyz-obj\">xyzservices.TileProvider</div>\n",
       "                    <div class=\"xyz-name\">Esri.ArcticOceanBase</div>\n",
       "                </div>\n",
       "                <div class=\"xyz-details\">\n",
       "                    <dl class=\"xyz-attrs\">\n",
       "                        <dt><span>url</span></dt><dd>http://server.arcgisonline.com/ArcGIS/rest/services/Polar/Arctic_Ocean_Base/MapServer/tile/{z}/{y}/{x}</dd><dt><span>variant</span></dt><dd>Arctic_Ocean_Base</dd><dt><span>html_attribution</span></dt><dd>Tiles &copy; Esri &mdash; Esri, DeLorme, NAVTEQ, TomTom, Intermap, iPC, USGS, FAO, NPS, NRCAN, GeoBase, Kadaster NL, Ordnance Survey, Esri Japan, METI, Esri China (Hong Kong), and the GIS User Community</dd><dt><span>attribution</span></dt><dd>Tiles &copy; Esri &mdash; Esri, DeLorme, NAVTEQ, TomTom, Intermap, iPC, USGS, FAO, NPS, NRCAN, GeoBase, Kadaster NL, Ordnance Survey, Esri Japan, METI, Esri China (Hong Kong), and the GIS User Community</dd><dt><span>max_zoom</span></dt><dd>24</dd><dt><span>crs</span></dt><dd>EPSG:5936</dd><dt><span>bounds</span></dt><dd>[[-2623285.8808999993, -2623285.8808999993], [6623285.8803, 6623285.8803]]</dd>\n",
       "                    </dl>\n",
       "                </div>\n",
       "            </div>\n",
       "        </div>\n",
       "        \n",
       "                </div>\n",
       "            </li>\n",
       "            \n",
       "            <li class=\"xyz-child\">\n",
       "                <input type=\"checkbox\" id=\"26fb55c3-87f5-4986-ab7f-1d1d952d971a\" class=\"xyz-checkbox\"/>\n",
       "                <label for=\"26fb55c3-87f5-4986-ab7f-1d1d952d971a\">ArcticOceanReference <span>xyzservices.TileProvider</span></label>\n",
       "                <div class=\"xyz-inside\">\n",
       "                    \n",
       "        <div>\n",
       "        \n",
       "            <div class=\"xyz-wrap\">\n",
       "                <div class=\"xyz-header\">\n",
       "                    <div class=\"xyz-obj\">xyzservices.TileProvider</div>\n",
       "                    <div class=\"xyz-name\">Esri.ArcticOceanReference</div>\n",
       "                </div>\n",
       "                <div class=\"xyz-details\">\n",
       "                    <dl class=\"xyz-attrs\">\n",
       "                        <dt><span>url</span></dt><dd>http://server.arcgisonline.com/ArcGIS/rest/services/Polar/Arctic_Ocean_Reference/MapServer/tile/{z}/{y}/{x}</dd><dt><span>variant</span></dt><dd>Arctic_Ocean_Reference</dd><dt><span>html_attribution</span></dt><dd>Tiles &copy; Esri &mdash; Esri, DeLorme, NAVTEQ, TomTom, Intermap, iPC, USGS, FAO, NPS, NRCAN, GeoBase, Kadaster NL, Ordnance Survey, Esri Japan, METI, Esri China (Hong Kong), and the GIS User Community</dd><dt><span>attribution</span></dt><dd>Tiles &copy; Esri &mdash; Esri, DeLorme, NAVTEQ, TomTom, Intermap, iPC, USGS, FAO, NPS, NRCAN, GeoBase, Kadaster NL, Ordnance Survey, Esri Japan, METI, Esri China (Hong Kong), and the GIS User Community</dd><dt><span>max_zoom</span></dt><dd>24</dd><dt><span>crs</span></dt><dd>EPSG:5936</dd><dt><span>bounds</span></dt><dd>[[-2623285.8808999993, -2623285.8808999993], [6623285.8803, 6623285.8803]]</dd>\n",
       "                    </dl>\n",
       "                </div>\n",
       "            </div>\n",
       "        </div>\n",
       "        \n",
       "                </div>\n",
       "            </li>\n",
       "            \n",
       "            <li class=\"xyz-child\">\n",
       "                <input type=\"checkbox\" id=\"4d47d6fa-dda2-44f0-83a5-855252184399\" class=\"xyz-checkbox\"/>\n",
       "                <label for=\"4d47d6fa-dda2-44f0-83a5-855252184399\">AntarcticImagery <span>xyzservices.TileProvider</span></label>\n",
       "                <div class=\"xyz-inside\">\n",
       "                    \n",
       "        <div>\n",
       "        \n",
       "            <div class=\"xyz-wrap\">\n",
       "                <div class=\"xyz-header\">\n",
       "                    <div class=\"xyz-obj\">xyzservices.TileProvider</div>\n",
       "                    <div class=\"xyz-name\">Esri.AntarcticImagery</div>\n",
       "                </div>\n",
       "                <div class=\"xyz-details\">\n",
       "                    <dl class=\"xyz-attrs\">\n",
       "                        <dt><span>url</span></dt><dd>http://server.arcgisonline.com/ArcGIS/rest/services/Polar/Antarctic_Imagery/MapServer/tile/{z}/{y}/{x}</dd><dt><span>variant</span></dt><dd>Antarctic_Imagery</dd><dt><span>html_attribution</span></dt><dd>Earthstar Geographics</dd><dt><span>attribution</span></dt><dd>Earthstar Geographics</dd><dt><span>max_zoom</span></dt><dd>24</dd><dt><span>crs</span></dt><dd>EPSG:3031</dd><dt><span>bounds</span></dt><dd>[[-9913957.327914657, -5730886.461772691], [9913957.327914657, 5730886.461773157]]</dd>\n",
       "                    </dl>\n",
       "                </div>\n",
       "            </div>\n",
       "        </div>\n",
       "        \n",
       "                </div>\n",
       "            </li>\n",
       "            \n",
       "            <li class=\"xyz-child\">\n",
       "                <input type=\"checkbox\" id=\"81c9ceae-0fe1-4b9e-865b-11c3008398c8\" class=\"xyz-checkbox\"/>\n",
       "                <label for=\"81c9ceae-0fe1-4b9e-865b-11c3008398c8\">AntarcticBasemap <span>xyzservices.TileProvider</span></label>\n",
       "                <div class=\"xyz-inside\">\n",
       "                    \n",
       "        <div>\n",
       "        \n",
       "            <div class=\"xyz-wrap\">\n",
       "                <div class=\"xyz-header\">\n",
       "                    <div class=\"xyz-obj\">xyzservices.TileProvider</div>\n",
       "                    <div class=\"xyz-name\">Esri.AntarcticBasemap</div>\n",
       "                </div>\n",
       "                <div class=\"xyz-details\">\n",
       "                    <dl class=\"xyz-attrs\">\n",
       "                        <dt><span>url</span></dt><dd>https://tiles.arcgis.com/tiles/C8EMgrsFcRFL6LrL/arcgis/rest/services/Antarctic_Basemap/MapServer/tile/{z}/{y}/{x}</dd><dt><span>variant</span></dt><dd>Antarctic_Basemap</dd><dt><span>html_attribution</span></dt><dd>Imagery provided by NOAA National Centers for Environmental Information (NCEI); International Bathymetric Chart of the Southern Ocean (IBCSO); General Bathymetric Chart of the Oceans (GEBCO).</dd><dt><span>attribution</span></dt><dd>Imagery provided by NOAA National Centers for Environmental Information (NCEI); International Bathymetric Chart of the Southern Ocean (IBCSO); General Bathymetric Chart of the Oceans (GEBCO).</dd><dt><span>max_zoom</span></dt><dd>9</dd><dt><span>crs</span></dt><dd>EPSG:3031</dd><dt><span>bounds</span></dt><dd>[[-4524583.19363305, -4524449.487765655], [4524449.4877656475, 4524583.193633042]]</dd>\n",
       "                    </dl>\n",
       "                </div>\n",
       "            </div>\n",
       "        </div>\n",
       "        \n",
       "                </div>\n",
       "            </li>\n",
       "            \n",
       "                    </ul>\n",
       "                </div>\n",
       "            </div>\n",
       "        </div>\n",
       "        "
      ],
      "text/plain": [
       "{'WorldStreetMap': {'url': 'https://server.arcgisonline.com/ArcGIS/rest/services/{variant}/MapServer/tile/{z}/{y}/{x}',\n",
       "  'variant': 'World_Street_Map',\n",
       "  'html_attribution': 'Tiles &copy; Esri &mdash; Source: Esri, DeLorme, NAVTEQ, USGS, Intermap, iPC, NRCAN, Esri Japan, METI, Esri China (Hong Kong), Esri (Thailand), TomTom, 2012',\n",
       "  'attribution': 'Tiles (C) Esri -- Source: Esri, DeLorme, NAVTEQ, USGS, Intermap, iPC, NRCAN, Esri Japan, METI, Esri China (Hong Kong), Esri (Thailand), TomTom, 2012',\n",
       "  'name': 'Esri.WorldStreetMap'},\n",
       " 'DeLorme': {'url': 'https://server.arcgisonline.com/ArcGIS/rest/services/{variant}/MapServer/tile/{z}/{y}/{x}',\n",
       "  'variant': 'Specialty/DeLorme_World_Base_Map',\n",
       "  'html_attribution': 'Tiles &copy; Esri &mdash; Copyright: &copy;2012 DeLorme',\n",
       "  'attribution': 'Tiles (C) Esri -- Copyright: (C)2012 DeLorme',\n",
       "  'min_zoom': 1,\n",
       "  'max_zoom': 11,\n",
       "  'name': 'Esri.DeLorme'},\n",
       " 'WorldTopoMap': {'url': 'https://server.arcgisonline.com/ArcGIS/rest/services/{variant}/MapServer/tile/{z}/{y}/{x}',\n",
       "  'variant': 'World_Topo_Map',\n",
       "  'html_attribution': 'Tiles &copy; Esri &mdash; Esri, DeLorme, NAVTEQ, TomTom, Intermap, iPC, USGS, FAO, NPS, NRCAN, GeoBase, Kadaster NL, Ordnance Survey, Esri Japan, METI, Esri China (Hong Kong), and the GIS User Community',\n",
       "  'attribution': 'Tiles (C) Esri -- Esri, DeLorme, NAVTEQ, TomTom, Intermap, iPC, USGS, FAO, NPS, NRCAN, GeoBase, Kadaster NL, Ordnance Survey, Esri Japan, METI, Esri China (Hong Kong), and the GIS User Community',\n",
       "  'name': 'Esri.WorldTopoMap'},\n",
       " 'WorldImagery': {'url': 'https://server.arcgisonline.com/ArcGIS/rest/services/{variant}/MapServer/tile/{z}/{y}/{x}',\n",
       "  'variant': 'World_Imagery',\n",
       "  'html_attribution': 'Tiles &copy; Esri &mdash; Source: Esri, i-cubed, USDA, USGS, AEX, GeoEye, Getmapping, Aerogrid, IGN, IGP, UPR-EGP, and the GIS User Community',\n",
       "  'attribution': 'Tiles (C) Esri -- Source: Esri, i-cubed, USDA, USGS, AEX, GeoEye, Getmapping, Aerogrid, IGN, IGP, UPR-EGP, and the GIS User Community',\n",
       "  'name': 'Esri.WorldImagery'},\n",
       " 'WorldTerrain': {'url': 'https://server.arcgisonline.com/ArcGIS/rest/services/{variant}/MapServer/tile/{z}/{y}/{x}',\n",
       "  'variant': 'World_Terrain_Base',\n",
       "  'html_attribution': 'Tiles &copy; Esri &mdash; Source: USGS, Esri, TANA, DeLorme, and NPS',\n",
       "  'attribution': 'Tiles (C) Esri -- Source: USGS, Esri, TANA, DeLorme, and NPS',\n",
       "  'max_zoom': 13,\n",
       "  'name': 'Esri.WorldTerrain'},\n",
       " 'WorldShadedRelief': {'url': 'https://server.arcgisonline.com/ArcGIS/rest/services/{variant}/MapServer/tile/{z}/{y}/{x}',\n",
       "  'variant': 'World_Shaded_Relief',\n",
       "  'html_attribution': 'Tiles &copy; Esri &mdash; Source: Esri',\n",
       "  'attribution': 'Tiles (C) Esri -- Source: Esri',\n",
       "  'max_zoom': 13,\n",
       "  'name': 'Esri.WorldShadedRelief'},\n",
       " 'WorldPhysical': {'url': 'https://server.arcgisonline.com/ArcGIS/rest/services/{variant}/MapServer/tile/{z}/{y}/{x}',\n",
       "  'variant': 'World_Physical_Map',\n",
       "  'html_attribution': 'Tiles &copy; Esri &mdash; Source: US National Park Service',\n",
       "  'attribution': 'Tiles (C) Esri -- Source: US National Park Service',\n",
       "  'max_zoom': 8,\n",
       "  'name': 'Esri.WorldPhysical'},\n",
       " 'OceanBasemap': {'url': 'https://server.arcgisonline.com/ArcGIS/rest/services/{variant}/MapServer/tile/{z}/{y}/{x}',\n",
       "  'variant': 'Ocean/World_Ocean_Base',\n",
       "  'html_attribution': 'Tiles &copy; Esri &mdash; Sources: GEBCO, NOAA, CHS, OSU, UNH, CSUMB, National Geographic, DeLorme, NAVTEQ, and Esri',\n",
       "  'attribution': 'Tiles (C) Esri -- Sources: GEBCO, NOAA, CHS, OSU, UNH, CSUMB, National Geographic, DeLorme, NAVTEQ, and Esri',\n",
       "  'max_zoom': 13,\n",
       "  'name': 'Esri.OceanBasemap'},\n",
       " 'NatGeoWorldMap': {'url': 'https://server.arcgisonline.com/ArcGIS/rest/services/{variant}/MapServer/tile/{z}/{y}/{x}',\n",
       "  'variant': 'NatGeo_World_Map',\n",
       "  'html_attribution': 'Tiles &copy; Esri &mdash; National Geographic, Esri, DeLorme, NAVTEQ, UNEP-WCMC, USGS, NASA, ESA, METI, NRCAN, GEBCO, NOAA, iPC',\n",
       "  'attribution': 'Tiles (C) Esri -- National Geographic, Esri, DeLorme, NAVTEQ, UNEP-WCMC, USGS, NASA, ESA, METI, NRCAN, GEBCO, NOAA, iPC',\n",
       "  'max_zoom': 16,\n",
       "  'name': 'Esri.NatGeoWorldMap'},\n",
       " 'WorldGrayCanvas': {'url': 'https://server.arcgisonline.com/ArcGIS/rest/services/{variant}/MapServer/tile/{z}/{y}/{x}',\n",
       "  'variant': 'Canvas/World_Light_Gray_Base',\n",
       "  'html_attribution': 'Tiles &copy; Esri &mdash; Esri, DeLorme, NAVTEQ',\n",
       "  'attribution': 'Tiles (C) Esri -- Esri, DeLorme, NAVTEQ',\n",
       "  'max_zoom': 16,\n",
       "  'name': 'Esri.WorldGrayCanvas'},\n",
       " 'ArcticImagery': {'url': 'http://server.arcgisonline.com/ArcGIS/rest/services/Polar/Arctic_Imagery/MapServer/tile/{z}/{y}/{x}',\n",
       "  'variant': 'Arctic_Imagery',\n",
       "  'html_attribution': 'Earthstar Geographics',\n",
       "  'attribution': 'Earthstar Geographics',\n",
       "  'max_zoom': 24,\n",
       "  'name': 'Esri.ArcticImagery',\n",
       "  'crs': 'EPSG:5936',\n",
       "  'bounds': [[-2623285.8808999993, -2623285.8808999993],\n",
       "   [6623285.8803, 6623285.8803]]},\n",
       " 'ArcticOceanBase': {'url': 'http://server.arcgisonline.com/ArcGIS/rest/services/Polar/Arctic_Ocean_Base/MapServer/tile/{z}/{y}/{x}',\n",
       "  'variant': 'Arctic_Ocean_Base',\n",
       "  'html_attribution': 'Tiles &copy; Esri &mdash; Esri, DeLorme, NAVTEQ, TomTom, Intermap, iPC, USGS, FAO, NPS, NRCAN, GeoBase, Kadaster NL, Ordnance Survey, Esri Japan, METI, Esri China (Hong Kong), and the GIS User Community',\n",
       "  'attribution': 'Tiles &copy; Esri &mdash; Esri, DeLorme, NAVTEQ, TomTom, Intermap, iPC, USGS, FAO, NPS, NRCAN, GeoBase, Kadaster NL, Ordnance Survey, Esri Japan, METI, Esri China (Hong Kong), and the GIS User Community',\n",
       "  'max_zoom': 24,\n",
       "  'name': 'Esri.ArcticOceanBase',\n",
       "  'crs': 'EPSG:5936',\n",
       "  'bounds': [[-2623285.8808999993, -2623285.8808999993],\n",
       "   [6623285.8803, 6623285.8803]]},\n",
       " 'ArcticOceanReference': {'url': 'http://server.arcgisonline.com/ArcGIS/rest/services/Polar/Arctic_Ocean_Reference/MapServer/tile/{z}/{y}/{x}',\n",
       "  'variant': 'Arctic_Ocean_Reference',\n",
       "  'html_attribution': 'Tiles &copy; Esri &mdash; Esri, DeLorme, NAVTEQ, TomTom, Intermap, iPC, USGS, FAO, NPS, NRCAN, GeoBase, Kadaster NL, Ordnance Survey, Esri Japan, METI, Esri China (Hong Kong), and the GIS User Community',\n",
       "  'attribution': 'Tiles &copy; Esri &mdash; Esri, DeLorme, NAVTEQ, TomTom, Intermap, iPC, USGS, FAO, NPS, NRCAN, GeoBase, Kadaster NL, Ordnance Survey, Esri Japan, METI, Esri China (Hong Kong), and the GIS User Community',\n",
       "  'max_zoom': 24,\n",
       "  'name': 'Esri.ArcticOceanReference',\n",
       "  'crs': 'EPSG:5936',\n",
       "  'bounds': [[-2623285.8808999993, -2623285.8808999993],\n",
       "   [6623285.8803, 6623285.8803]]},\n",
       " 'AntarcticImagery': {'url': 'http://server.arcgisonline.com/ArcGIS/rest/services/Polar/Antarctic_Imagery/MapServer/tile/{z}/{y}/{x}',\n",
       "  'variant': 'Antarctic_Imagery',\n",
       "  'html_attribution': 'Earthstar Geographics',\n",
       "  'attribution': 'Earthstar Geographics',\n",
       "  'max_zoom': 24,\n",
       "  'name': 'Esri.AntarcticImagery',\n",
       "  'crs': 'EPSG:3031',\n",
       "  'bounds': [[-9913957.327914657, -5730886.461772691],\n",
       "   [9913957.327914657, 5730886.461773157]]},\n",
       " 'AntarcticBasemap': {'url': 'https://tiles.arcgis.com/tiles/C8EMgrsFcRFL6LrL/arcgis/rest/services/Antarctic_Basemap/MapServer/tile/{z}/{y}/{x}',\n",
       "  'variant': 'Antarctic_Basemap',\n",
       "  'html_attribution': 'Imagery provided by NOAA National Centers for Environmental Information (NCEI); International Bathymetric Chart of the Southern Ocean (IBCSO); General Bathymetric Chart of the Oceans (GEBCO).',\n",
       "  'attribution': 'Imagery provided by NOAA National Centers for Environmental Information (NCEI); International Bathymetric Chart of the Southern Ocean (IBCSO); General Bathymetric Chart of the Oceans (GEBCO).',\n",
       "  'max_zoom': 9,\n",
       "  'name': 'Esri.AntarcticBasemap',\n",
       "  'crs': 'EPSG:3031',\n",
       "  'bounds': [[-4524583.19363305, -4524449.487765655],\n",
       "   [4524449.4877656475, 4524583.193633042]]}}"
      ]
     },
     "execution_count": 6,
     "metadata": {},
     "output_type": "execute_result"
    }
   ],
   "source": [
    "xyz.Esri"
   ]
  },
  {
   "cell_type": "code",
   "execution_count": 9,
   "metadata": {},
   "outputs": [
    {
     "data": {
      "text/html": [
       "\n",
       "        <div>\n",
       "        <style>\n",
       "/* CSS stylesheet for displaying xyzservices objects in Jupyter.*/\n",
       ".xyz-wrap {\n",
       "    --xyz-border-color: var(--jp-border-color2, #ddd);\n",
       "    --xyz-font-color2: var(--jp-content-font-color2, rgba(128, 128, 128, 1));\n",
       "    --xyz-background-color-white: var(--jp-layout-color1, white);\n",
       "    --xyz-background-color: var(--jp-layout-color2, rgba(128, 128, 128, 0.1));\n",
       "}\n",
       "\n",
       "html[theme=dark] .xyz-wrap,\n",
       "body.vscode-dark .xyz-wrap,\n",
       "body.vscode-high-contrast .xyz-wrap {\n",
       "    --xyz-border-color: #222;\n",
       "    --xyz-font-color2: rgba(255, 255, 255, 0.54);\n",
       "    --xyz-background-color-white: rgba(255, 255, 255, 1);\n",
       "    --xyz-background-color: rgba(255, 255, 255, 0.05);\n",
       "\n",
       "}\n",
       "\n",
       ".xyz-header {\n",
       "    padding-top: 6px;\n",
       "    padding-bottom: 6px;\n",
       "    margin-bottom: 4px;\n",
       "    border-bottom: solid 1px var(--xyz-border-color);\n",
       "}\n",
       "\n",
       ".xyz-header>div {\n",
       "    display: inline;\n",
       "    margin-top: 0;\n",
       "    margin-bottom: 0;\n",
       "}\n",
       "\n",
       ".xyz-obj,\n",
       ".xyz-name {\n",
       "    margin-left: 2px;\n",
       "    margin-right: 10px;\n",
       "}\n",
       "\n",
       ".xyz-obj {\n",
       "    color: var(--xyz-font-color2);\n",
       "}\n",
       "\n",
       ".xyz-attrs {\n",
       "    grid-column: 1 / -1;\n",
       "}\n",
       "\n",
       "dl.xyz-attrs {\n",
       "    padding: 0 5px 0 5px;\n",
       "    margin: 0;\n",
       "    display: grid;\n",
       "    grid-template-columns: 135px auto;\n",
       "    background-color: var(--xyz-background-color);\n",
       "}\n",
       "\n",
       ".xyz-attrs dt,\n",
       "dd {\n",
       "    padding: 0;\n",
       "    margin: 0;\n",
       "    float: left;\n",
       "    padding-right: 10px;\n",
       "    width: auto;\n",
       "}\n",
       "\n",
       ".xyz-attrs dt {\n",
       "    font-weight: normal;\n",
       "    grid-column: 1;\n",
       "}\n",
       "\n",
       ".xyz-attrs dd {\n",
       "    grid-column: 2;\n",
       "    white-space: pre-wrap;\n",
       "    word-break: break-all;\n",
       "}\n",
       "\n",
       ".xyz-details ul>li>label>span {\n",
       "    color: var(--xyz-font-color2);\n",
       "    padding-left: 10px;\n",
       "}\n",
       "\n",
       ".xyz-inside {\n",
       "    display: none;\n",
       "}\n",
       "\n",
       ".xyz-checkbox:checked~.xyz-inside {\n",
       "    display: contents;\n",
       "}\n",
       "\n",
       ".xyz-collapsible li>input {\n",
       "    display: none;\n",
       "}\n",
       "\n",
       ".xyz-collapsible>li>label {\n",
       "    cursor: pointer;\n",
       "}\n",
       "\n",
       ".xyz-collapsible>li>label:hover {\n",
       "    color: var(--xyz-font-color2);\n",
       "}\n",
       "\n",
       "ul.xyz-collapsible {\n",
       "    list-style: none!important;\n",
       "    padding-left: 20px!important;\n",
       "}\n",
       "\n",
       ".xyz-checkbox+label:before {\n",
       "    content: '►';\n",
       "    font-size: 11px;\n",
       "}\n",
       "\n",
       ".xyz-checkbox:checked+label:before {\n",
       "    content: '▼';\n",
       "}\n",
       "\n",
       ".xyz-wrap {\n",
       "    margin-bottom: 10px;\n",
       "}\n",
       "</style>\n",
       "            <div class=\"xyz-wrap\">\n",
       "                <div class=\"xyz-header\">\n",
       "                    <div class=\"xyz-obj\">xyzservices.TileProvider</div>\n",
       "                    <div class=\"xyz-name\">Esri.WorldImagery</div>\n",
       "                </div>\n",
       "                <div class=\"xyz-details\">\n",
       "                    <dl class=\"xyz-attrs\">\n",
       "                        <dt><span>url</span></dt><dd>https://server.arcgisonline.com/ArcGIS/rest/services/{variant}/MapServer/tile/{z}/{y}/{x}</dd><dt><span>variant</span></dt><dd>World_Imagery</dd><dt><span>html_attribution</span></dt><dd>Tiles &copy; Esri &mdash; Source: Esri, i-cubed, USDA, USGS, AEX, GeoEye, Getmapping, Aerogrid, IGN, IGP, UPR-EGP, and the GIS User Community</dd><dt><span>attribution</span></dt><dd>Tiles (C) Esri -- Source: Esri, i-cubed, USDA, USGS, AEX, GeoEye, Getmapping, Aerogrid, IGN, IGP, UPR-EGP, and the GIS User Community</dd>\n",
       "                    </dl>\n",
       "                </div>\n",
       "            </div>\n",
       "        </div>\n",
       "        "
      ],
      "text/plain": [
       "{'url': 'https://server.arcgisonline.com/ArcGIS/rest/services/{variant}/MapServer/tile/{z}/{y}/{x}',\n",
       " 'variant': 'World_Imagery',\n",
       " 'html_attribution': 'Tiles &copy; Esri &mdash; Source: Esri, i-cubed, USDA, USGS, AEX, GeoEye, Getmapping, Aerogrid, IGN, IGP, UPR-EGP, and the GIS User Community',\n",
       " 'attribution': 'Tiles (C) Esri -- Source: Esri, i-cubed, USDA, USGS, AEX, GeoEye, Getmapping, Aerogrid, IGN, IGP, UPR-EGP, and the GIS User Community',\n",
       " 'name': 'Esri.WorldImagery'}"
      ]
     },
     "execution_count": 9,
     "metadata": {},
     "output_type": "execute_result"
    }
   ],
   "source": [
    "xyz.Esri.WorldImagery"
   ]
  },
  {
   "cell_type": "code",
   "execution_count": 8,
   "metadata": {},
   "outputs": [
    {
     "data": {
      "text/plain": [
       "'https://server.arcgisonline.com/ArcGIS/rest/services/World_Imagery/MapServer/tile/{z}/{y}/{x}'"
      ]
     },
     "execution_count": 8,
     "metadata": {},
     "output_type": "execute_result"
    }
   ],
   "source": [
    "xyz.Esri.WorldImagery.build_url()"
   ]
  },
  {
   "cell_type": "code",
   "execution_count": 10,
   "metadata": {},
   "outputs": [
    {
     "data": {
      "application/vnd.jupyter.widget-view+json": {
       "model_id": "c153e120be9149d788bd7bd44b56f5c5",
       "version_major": 2,
       "version_minor": 0
      },
      "text/plain": [
       "Map(bottom=8964.0, center=[-12.46876014482322, -57.64376260056805], controls=(ZoomControl(options=['position',…"
      ]
     },
     "metadata": {},
     "output_type": "display_data"
    }
   ],
   "source": [
    "url = xyz.Esri.WorldImagery.build_url()\n",
    "\n",
    "m.add_tile_layer(url=url, name='Esri', attribution='xxxx')\n",
    "\n",
    "m"
   ]
  },
  {
   "cell_type": "code",
   "execution_count": null,
   "metadata": {},
   "outputs": [],
   "source": [
    "xyz.Esri.WorldImagery \n",
    "'xyz.Esri.WorldImagery'#string"
   ]
  },
  {
   "cell_type": "code",
   "execution_count": 11,
   "metadata": {},
   "outputs": [
    {
     "data": {
      "text/html": [
       "\n",
       "        <div>\n",
       "        <style>\n",
       "/* CSS stylesheet for displaying xyzservices objects in Jupyter.*/\n",
       ".xyz-wrap {\n",
       "    --xyz-border-color: var(--jp-border-color2, #ddd);\n",
       "    --xyz-font-color2: var(--jp-content-font-color2, rgba(128, 128, 128, 1));\n",
       "    --xyz-background-color-white: var(--jp-layout-color1, white);\n",
       "    --xyz-background-color: var(--jp-layout-color2, rgba(128, 128, 128, 0.1));\n",
       "}\n",
       "\n",
       "html[theme=dark] .xyz-wrap,\n",
       "body.vscode-dark .xyz-wrap,\n",
       "body.vscode-high-contrast .xyz-wrap {\n",
       "    --xyz-border-color: #222;\n",
       "    --xyz-font-color2: rgba(255, 255, 255, 0.54);\n",
       "    --xyz-background-color-white: rgba(255, 255, 255, 1);\n",
       "    --xyz-background-color: rgba(255, 255, 255, 0.05);\n",
       "\n",
       "}\n",
       "\n",
       ".xyz-header {\n",
       "    padding-top: 6px;\n",
       "    padding-bottom: 6px;\n",
       "    margin-bottom: 4px;\n",
       "    border-bottom: solid 1px var(--xyz-border-color);\n",
       "}\n",
       "\n",
       ".xyz-header>div {\n",
       "    display: inline;\n",
       "    margin-top: 0;\n",
       "    margin-bottom: 0;\n",
       "}\n",
       "\n",
       ".xyz-obj,\n",
       ".xyz-name {\n",
       "    margin-left: 2px;\n",
       "    margin-right: 10px;\n",
       "}\n",
       "\n",
       ".xyz-obj {\n",
       "    color: var(--xyz-font-color2);\n",
       "}\n",
       "\n",
       ".xyz-attrs {\n",
       "    grid-column: 1 / -1;\n",
       "}\n",
       "\n",
       "dl.xyz-attrs {\n",
       "    padding: 0 5px 0 5px;\n",
       "    margin: 0;\n",
       "    display: grid;\n",
       "    grid-template-columns: 135px auto;\n",
       "    background-color: var(--xyz-background-color);\n",
       "}\n",
       "\n",
       ".xyz-attrs dt,\n",
       "dd {\n",
       "    padding: 0;\n",
       "    margin: 0;\n",
       "    float: left;\n",
       "    padding-right: 10px;\n",
       "    width: auto;\n",
       "}\n",
       "\n",
       ".xyz-attrs dt {\n",
       "    font-weight: normal;\n",
       "    grid-column: 1;\n",
       "}\n",
       "\n",
       ".xyz-attrs dd {\n",
       "    grid-column: 2;\n",
       "    white-space: pre-wrap;\n",
       "    word-break: break-all;\n",
       "}\n",
       "\n",
       ".xyz-details ul>li>label>span {\n",
       "    color: var(--xyz-font-color2);\n",
       "    padding-left: 10px;\n",
       "}\n",
       "\n",
       ".xyz-inside {\n",
       "    display: none;\n",
       "}\n",
       "\n",
       ".xyz-checkbox:checked~.xyz-inside {\n",
       "    display: contents;\n",
       "}\n",
       "\n",
       ".xyz-collapsible li>input {\n",
       "    display: none;\n",
       "}\n",
       "\n",
       ".xyz-collapsible>li>label {\n",
       "    cursor: pointer;\n",
       "}\n",
       "\n",
       ".xyz-collapsible>li>label:hover {\n",
       "    color: var(--xyz-font-color2);\n",
       "}\n",
       "\n",
       "ul.xyz-collapsible {\n",
       "    list-style: none!important;\n",
       "    padding-left: 20px!important;\n",
       "}\n",
       "\n",
       ".xyz-checkbox+label:before {\n",
       "    content: '►';\n",
       "    font-size: 11px;\n",
       "}\n",
       "\n",
       ".xyz-checkbox:checked+label:before {\n",
       "    content: '▼';\n",
       "}\n",
       "\n",
       ".xyz-wrap {\n",
       "    margin-bottom: 10px;\n",
       "}\n",
       "</style>\n",
       "            <div class=\"xyz-wrap\">\n",
       "                <div class=\"xyz-header\">\n",
       "                    <div class=\"xyz-obj\">xyzservices.TileProvider</div>\n",
       "                    <div class=\"xyz-name\">Esri.WorldImagery</div>\n",
       "                </div>\n",
       "                <div class=\"xyz-details\">\n",
       "                    <dl class=\"xyz-attrs\">\n",
       "                        <dt><span>url</span></dt><dd>https://server.arcgisonline.com/ArcGIS/rest/services/{variant}/MapServer/tile/{z}/{y}/{x}</dd><dt><span>variant</span></dt><dd>World_Imagery</dd><dt><span>html_attribution</span></dt><dd>Tiles &copy; Esri &mdash; Source: Esri, i-cubed, USDA, USGS, AEX, GeoEye, Getmapping, Aerogrid, IGN, IGP, UPR-EGP, and the GIS User Community</dd><dt><span>attribution</span></dt><dd>Tiles (C) Esri -- Source: Esri, i-cubed, USDA, USGS, AEX, GeoEye, Getmapping, Aerogrid, IGN, IGP, UPR-EGP, and the GIS User Community</dd>\n",
       "                    </dl>\n",
       "                </div>\n",
       "            </div>\n",
       "        </div>\n",
       "        "
      ],
      "text/plain": [
       "{'url': 'https://server.arcgisonline.com/ArcGIS/rest/services/{variant}/MapServer/tile/{z}/{y}/{x}',\n",
       " 'variant': 'World_Imagery',\n",
       " 'html_attribution': 'Tiles &copy; Esri &mdash; Source: Esri, i-cubed, USDA, USGS, AEX, GeoEye, Getmapping, Aerogrid, IGN, IGP, UPR-EGP, and the GIS User Community',\n",
       " 'attribution': 'Tiles (C) Esri -- Source: Esri, i-cubed, USDA, USGS, AEX, GeoEye, Getmapping, Aerogrid, IGN, IGP, UPR-EGP, and the GIS User Community',\n",
       " 'name': 'Esri.WorldImagery'}"
      ]
     },
     "execution_count": 11,
     "metadata": {},
     "output_type": "execute_result"
    }
   ],
   "source": [
    "eval('xyz.Esri.WorldImagery')"
   ]
  },
  {
   "cell_type": "code",
   "execution_count": 12,
   "metadata": {},
   "outputs": [
    {
     "ename": "SyntaxError",
     "evalue": "unexpected EOF while parsing (<string>, line 1)",
     "output_type": "error",
     "traceback": [
      "Traceback \u001b[1;36m(most recent call last)\u001b[0m:\n",
      "\u001b[0m  File \u001b[0;32mc:\\Users\\felip\\anaconda3\\envs\\geopy\\lib\\site-packages\\IPython\\core\\interactiveshell.py:3460\u001b[0m in \u001b[0;35mrun_code\u001b[0m\n    exec(code_obj, self.user_global_ns, self.user_ns)\u001b[0m\n",
      "\u001b[1;36m  Cell \u001b[1;32mIn[12], line 1\u001b[1;36m\n\u001b[1;33m    eval('xyz.Esri.WorldImagery jsjsj')\u001b[1;36m\n",
      "\u001b[1;36m  File \u001b[1;32m<string>:1\u001b[1;36m\u001b[0m\n\u001b[1;33m    xyz.Esri.WorldImagery jsjsj\u001b[0m\n\u001b[1;37m                          ^\u001b[0m\n\u001b[1;31mSyntaxError\u001b[0m\u001b[1;31m:\u001b[0m unexpected EOF while parsing\n"
     ]
    }
   ],
   "source": [
    "eval('xyz.Esri.WorldImagery jsjsj') #makes sense because jsjs is not part of the library"
   ]
  },
  {
   "cell_type": "code",
   "execution_count": 13,
   "metadata": {},
   "outputs": [
    {
     "name": "stdout",
     "output_type": "stream",
     "text": [
      "this is what the user is providing:{'scroll_wheel_zoom': True}\n",
      "{'scroll_wheel_zoom': True}\n",
      "{'scroll_wheel_zoom': True, 'layers_control': True}\n",
      "{'scroll_wheel_zoom': True, 'layers_control': True, 'fullscreen_control': True}\n"
     ]
    },
    {
     "data": {
      "application/vnd.jupyter.widget-view+json": {
       "model_id": "38018dd007234aefa991c7ed22691043",
       "version_major": 2,
       "version_minor": 0
      },
      "text/plain": [
       "Map(center=[20, 0], controls=(ZoomControl(options=['position', 'zoom_in_text', 'zoom_in_title', 'zoom_out_text…"
      ]
     },
     "metadata": {},
     "output_type": "display_data"
    }
   ],
   "source": [
    "import geosdemo\n",
    "m = geosdemo.Map()\n",
    "m"
   ]
  },
  {
   "cell_type": "code",
   "execution_count": 14,
   "metadata": {},
   "outputs": [],
   "source": [
    "m.add_basemap('Esri.WorldImagery')"
   ]
  },
  {
   "cell_type": "code",
   "execution_count": 15,
   "metadata": {},
   "outputs": [
    {
     "data": {
      "text/plain": [
       "dict_keys(['OpenStreetMap', 'MapTilesAPI', 'OpenSeaMap', 'OPNVKarte', 'OpenTopoMap', 'OpenRailwayMap', 'OpenFireMap', 'SafeCast', 'Stadia', 'Thunderforest', 'CyclOSM', 'Jawg', 'MapBox', 'MapTiler', 'Stamen', 'TomTom', 'Esri', 'OpenWeatherMap', 'HERE', 'HEREv3', 'FreeMapSK', 'MtbMap', 'CartoDB', 'HikeBike', 'BasemapAT', 'nlmaps', 'NASAGIBS', 'NLS', 'JusticeMap', 'GeoportailFrance', 'OneMapSG', 'USGS', 'WaymarkedTrails', 'OpenAIP', 'OpenSnowMap', 'AzureMaps', 'SwissFederalGeoportal', 'Gaode', 'Strava'])"
      ]
     },
     "execution_count": 15,
     "metadata": {},
     "output_type": "execute_result"
    }
   ],
   "source": [
    "#what there is inside\n",
    "xyz.keys()"
   ]
  },
  {
   "cell_type": "code",
   "execution_count": 16,
   "metadata": {},
   "outputs": [
    {
     "data": {
      "text/plain": [
       "dict_keys(['WorldStreetMap', 'DeLorme', 'WorldTopoMap', 'WorldImagery', 'WorldTerrain', 'WorldShadedRelief', 'WorldPhysical', 'OceanBasemap', 'NatGeoWorldMap', 'WorldGrayCanvas', 'ArcticImagery', 'ArcticOceanBase', 'ArcticOceanReference', 'AntarcticImagery', 'AntarcticBasemap'])"
      ]
     },
     "execution_count": 16,
     "metadata": {},
     "output_type": "execute_result"
    }
   ],
   "source": [
    "xyz.Esri.keys()"
   ]
  },
  {
   "cell_type": "code",
   "execution_count": 28,
   "metadata": {},
   "outputs": [
    {
     "data": {
      "application/vnd.jupyter.widget-view+json": {
       "model_id": "38018dd007234aefa991c7ed22691043",
       "version_major": 2,
       "version_minor": 0
      },
      "text/plain": [
       "Map(bottom=1159.0, center=[11.350796722383672, -64.07226562500001], controls=(ZoomControl(options=['position',…"
      ]
     },
     "metadata": {},
     "output_type": "display_data"
    }
   ],
   "source": [
    "m.add_basemap('Esri.NatGeoWorldMap')\n",
    "m"
   ]
  },
  {
   "cell_type": "code",
   "execution_count": 23,
   "metadata": {},
   "outputs": [
    {
     "data": {
      "text/plain": [
       "dict_keys(['Positron', 'PositronNoLabels', 'PositronOnlyLabels', 'DarkMatter', 'DarkMatterNoLabels', 'DarkMatterOnlyLabels', 'Voyager', 'VoyagerNoLabels', 'VoyagerOnlyLabels', 'VoyagerLabelsUnder'])"
      ]
     },
     "execution_count": 23,
     "metadata": {},
     "output_type": "execute_result"
    }
   ],
   "source": [
    "import xyzservices.providers as xyz\n",
    "xyz.CartoDB.keys()"
   ]
  },
  {
   "cell_type": "code",
   "execution_count": 29,
   "metadata": {},
   "outputs": [
    {
     "data": {
      "application/vnd.jupyter.widget-view+json": {
       "model_id": "38018dd007234aefa991c7ed22691043",
       "version_major": 2,
       "version_minor": 0
      },
      "text/plain": [
       "Map(bottom=1256.0, center=[-5.615985819155327, -118.56445312500001], controls=(ZoomControl(options=['position'…"
      ]
     },
     "metadata": {},
     "output_type": "display_data"
    }
   ],
   "source": [
    "\n",
    "m.add_basemap('CartoDB.DarkMatter')\n",
    "m"
   ]
  },
  {
   "cell_type": "code",
   "execution_count": 1,
   "metadata": {},
   "outputs": [
    {
     "name": "stdout",
     "output_type": "stream",
     "text": [
      "this is what the user is providing:{'scroll_wheel_zoom': True}\n",
      "{'scroll_wheel_zoom': True}\n",
      "{'scroll_wheel_zoom': True, 'layers_control': True}\n",
      "{'scroll_wheel_zoom': True, 'layers_control': True, 'fullscreen_control': True}\n"
     ]
    },
    {
     "data": {
      "application/vnd.jupyter.widget-view+json": {
       "model_id": "43c161c7c23146949c304a7a35f93a78",
       "version_major": 2,
       "version_minor": 0
      },
      "text/plain": [
       "Map(center=[20, 0], controls=(ZoomControl(options=['position', 'zoom_in_text', 'zoom_in_title', 'zoom_out_text…"
      ]
     },
     "metadata": {},
     "output_type": "display_data"
    }
   ],
   "source": [
    "#geojson \n",
    "\n",
    "import geosdemo\n",
    "m = geosdemo.Map()\n",
    "m"
   ]
  },
  {
   "cell_type": "code",
   "execution_count": null,
   "metadata": {},
   "outputs": [],
   "source": [
    "m.add_geojson('data/samples.geojson')"
   ]
  }
 ],
 "metadata": {
  "kernelspec": {
   "display_name": "geopy",
   "language": "python",
   "name": "python3"
  },
  "language_info": {
   "codemirror_mode": {
    "name": "ipython",
    "version": 3
   },
   "file_extension": ".py",
   "mimetype": "text/x-python",
   "name": "python",
   "nbconvert_exporter": "python",
   "pygments_lexer": "ipython3",
   "version": "3.9.13"
  },
  "orig_nbformat": 4
 },
 "nbformat": 4,
 "nbformat_minor": 2
}
