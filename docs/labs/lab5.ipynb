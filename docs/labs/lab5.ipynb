{
 "cells": [
  {
   "cell_type": "markdown",
   "id": "4e70be69",
   "metadata": {},
   "source": [
    "# Lab 5\n",
    "\n",
    "[![image](https://colab.research.google.com/assets/colab-badge.svg)](https://colab.research.google.com/github/giswqs/geosdemo/blob/master/docs/labs/lab5.ipynb)\n",
    "\n",
    "## Submission instructions\n",
    "\n",
    "1. Download the notebook from https://geosdemo.gishub.org/labs/lab5\n",
    "2. Complete the lab questions\n",
    "3. Restart Kernel and Run All Cells\n",
    "4. Upload the notebook to your GitHub repository\n",
    "5. Make sure the notebook has an `Open In Colab` badge. Click on the badge to make sure your notebook can be opened in Colab.\n",
    "6. Submit the link to the notebook on your GitHub repository to Canvas"
   ]
  },
  {
   "cell_type": "code",
   "execution_count": 1,
   "id": "8de60915",
   "metadata": {},
   "outputs": [
    {
     "name": "stdout",
     "output_type": "stream",
     "text": [
      "Submitted time: 2023-03-31 08:42:40.766618\n"
     ]
    }
   ],
   "source": [
    "from datetime import datetime\n",
    "\n",
    "now = datetime.now()\n",
    "print(f\"Submitted time: {now}\")"
   ]
  },
  {
   "cell_type": "markdown",
   "id": "a526d1ff",
   "metadata": {},
   "source": [
    "## Question 1\n",
    "\n",
    "**Person:** Use a dictionary to store information about a person you know. Store their first name, last name, age, and the city in which they live. You should have keys such as first_name, last_name, age, and city. Print each piece of information stored in your dictionary."
   ]
  },
  {
   "cell_type": "code",
   "execution_count": 2,
   "id": "060bd962",
   "metadata": {},
   "outputs": [
    {
     "name": "stdout",
     "output_type": "stream",
     "text": [
      "{'first_name': 'Alvaro', 'last_name': 'Brexi', 'age': 20, 'city': 'Amsterdam'}\n"
     ]
    }
   ],
   "source": [
    "dir = {'first_name': 'Alvaro', 'last_name': 'Brexi', 'age': 20, 'city': 'Amsterdam'}\n",
    "print(dir)"
   ]
  },
  {
   "cell_type": "markdown",
   "id": "32bb120e",
   "metadata": {},
   "source": [
    "## Question 2\n",
    "\n",
    "**Favorite Numbers:** Use a dictionary to store people’s favorite numbers. Think of five names, and use them as keys in your dictionary. Think of a favorite number for each person, and store each as a value in your dictionary. Print each person’s name and their favorite number. For even more fun, poll a few friends and get some actual data for your program."
   ]
  },
  {
   "cell_type": "code",
   "execution_count": 4,
   "id": "37115a33",
   "metadata": {},
   "outputs": [
    {
     "name": "stdout",
     "output_type": "stream",
     "text": [
      "Brf' favorite number is: 5\n",
      "Tom' favorite number is: 6\n",
      "Tracey' favorite number is: 9\n",
      "Rick' favorite number is: 5\n"
     ]
    }
   ],
   "source": [
    "fav_nums = {'Brf': 5, \"Tom\": 6, 'Tracey': 9, \"Rick\": 5}\n",
    "for name, fav_num in fav_nums.items():\n",
    "    print(f'{name}\\' favorite number is: {fav_num}')"
   ]
  },
  {
   "cell_type": "markdown",
   "id": "eb31ca53",
   "metadata": {},
   "source": [
    "## Question 3\n",
    "\n",
    "**Glossary:** A Python dictionary can be used to model an actual dictionary. However, to avoid confusion, let’s call it a glossary.\n",
    "\n",
    "- Think of five programming words you’ve learned about in the previous chapters. Use these words as the keys in your glossary, and store their meanings as values.\n",
    "- Print each word and its meaning as neatly formatted output. You might print the word followed by a colon and then its meaning, or print the word on one line and then print its meaning indented on a second line. Use the newline character (\\n) to insert a blank line between each word-meaning pair in your output."
   ]
  },
  {
   "cell_type": "code",
   "execution_count": 25,
   "id": "7bdd7f86",
   "metadata": {},
   "outputs": [
    {
     "name": "stdout",
     "output_type": "stream",
     "text": [
      "Loop: \n",
      "\t Iterator a long an iterable\n",
      "Float: \n",
      "\t With decimals\n",
      "Comprehension: \n",
      "\t Fast way of looping in a list and other iterable methods\n",
      "\n",
      "Just as a verification:\n",
      "\n",
      "['loop', 'float', 'comprehension']\n",
      "3\n",
      "[0, 1, 2]\n"
     ]
    }
   ],
   "source": [
    "glossary = {\n",
    "    'loop': 'Iterator a long an iterable',\n",
    "    'float': 'with decimals',\n",
    "    'comprehension': 'Fast way of looping in a list and other iterable methods' }\n",
    "\n",
    "l_k = list(glossary.keys())\n",
    "l_v = list(glossary.values())\n",
    "\n",
    "for i in range(len(l_k)):\n",
    "    print(f'{l_k[i].title()}: \\n\\t {l_v[i].capitalize()}')\n",
    "\n",
    "print('\\nJust as a verification:\\n')\n",
    "print(l_k)\n",
    "print(len(l_k))\n",
    "print(list(range(3)))"
   ]
  },
  {
   "cell_type": "code",
   "execution_count": 26,
   "id": "4ebfd3d0",
   "metadata": {},
   "outputs": [
    {
     "name": "stdout",
     "output_type": "stream",
     "text": [
      "key1\n"
     ]
    }
   ],
   "source": [
    "###Just as a side info from chat gpt\n",
    "\n",
    "my_dict = {'key1': 'value1', 'key2': 'value2', 'key3': 'value3'}\n",
    "\n",
    "# Get the first key using next() function\n",
    "first_key = next(iter(my_dict))\n",
    "print(first_key)  # Output: 'key1'"
   ]
  },
  {
   "cell_type": "markdown",
   "id": "9bdb2d85",
   "metadata": {},
   "source": [
    "## Question 4\n",
    "\n",
    "**Glossary 2:** Now that you know how to loop through a dictionary, clean up the code from Question 3 by replacing your series of print() calls with a loop that runs through the dictionary’s keys and values. When you’re sure that your loop works, add five more Python terms to your glossary. When you run your program again, these new words and meanings should automatically be included in the output."
   ]
  },
  {
   "cell_type": "code",
   "execution_count": 28,
   "id": "018d37ff",
   "metadata": {},
   "outputs": [
    {
     "name": "stdout",
     "output_type": "stream",
     "text": [
      "Loop: \n",
      "\t-Iterator a long an iterable\n",
      "Float: \n",
      "\t-With decimals\n",
      "Comprehension: \n",
      "\t-Fast way of looping in a list and other iterable methods\n"
     ]
    }
   ],
   "source": [
    "for word, meaning in glossary.items():\n",
    "    print(f'{word.title()}: \\n\\t-{meaning.capitalize()}')"
   ]
  },
  {
   "cell_type": "markdown",
   "id": "375356d5",
   "metadata": {},
   "source": [
    "## Question 5\n",
    "\n",
    "**Rivers:** Make a dictionary containing three major rivers and the country each river runs through. One key-value pair might be 'nile': 'egypt'.\n",
    "\n",
    "- Use a loop to print a sentence about each river, such as _The Nile runs through Egypt._\n",
    "- Use a loop to print the name of each river included in the dictionary.\n",
    "- Use a loop to print the name of each country included in the dictionary."
   ]
  },
  {
   "cell_type": "code",
   "execution_count": 36,
   "id": "2fd7b758",
   "metadata": {},
   "outputs": [
    {
     "name": "stdout",
     "output_type": "stream",
     "text": [
      "The Nile runs through Egypt\n",
      "The Magdalena runs through Colombia\n",
      "The Mississipi runs through United States\n",
      "\n",
      "\n",
      "River: Nile\n",
      "River: Magdalena\n",
      "River: Mississipi\n",
      "\n",
      "\n",
      "Country: Egypt\n",
      "Country: Colombia\n",
      "Country: United States\n"
     ]
    }
   ],
   "source": [
    "rivers = {\n",
    "    'Egypt': 'Nile',\n",
    "    'Colombia': 'Magdalena',\n",
    "    'United States' : 'Mississipi'\n",
    "}\n",
    "\n",
    "for k, v in rivers.items():\n",
    "    print(f'The {v} runs through {k}')\n",
    "print('\\n')\n",
    "for river in rivers.values():\n",
    "    print(f'River: {river}')\n",
    "print('\\n')\n",
    "for country in rivers.keys():\n",
    "    print(f'Country: {country}')\n",
    "    "
   ]
  },
  {
   "cell_type": "markdown",
   "id": "8b0b500d",
   "metadata": {},
   "source": [
    "## Question 6\n",
    "\n",
    "**Cities:** Make a dictionary called `cities`. Use the names of three cities as keys in your dictionary. Create a dictionary of information about each city and include the country that the city is in, its approximate population, and one fact about that city. The keys for each city’s dictionary should be something like `country`, `population`, and `fact`. Print the name of each city and all of the information you have stored about it."
   ]
  },
  {
   "cell_type": "code",
   "execution_count": 39,
   "id": "28a77010",
   "metadata": {},
   "outputs": [
    {
     "name": "stdout",
     "output_type": "stream",
     "text": [
      "Medellin: \n",
      "\t Colombia \n",
      "\t 3000000 \n",
      "\t Eternal spring\n",
      "Bogota: \n",
      "\t Colombia \n",
      "\t 12000000 \n",
      "\t Opportunities\n",
      "Amsterdam: \n",
      "\t Colombia \n",
      "\t 1000000 \n",
      "\t Tourism\n"
     ]
    }
   ],
   "source": [
    "cities = {\n",
    "    \"Medellin\": {'Country':'Colombia', 'population': 3_000_000, 'fact': \"Eternal spring\" },\n",
    "    \"Bogota\": {'Country':'Colombia', 'population': 12_000_000, 'fact': \"Opportunities\" },\n",
    "    'Amsterdam': {'Country':'Colombia', 'population': 1_000_000, 'fact': \"Tourism\" }\n",
    "}\n",
    "\n",
    "for city, info in cities.items():\n",
    "    print(f\"{city}: \\n\\t {info['Country']} \\n\\t {info['population']} \\n\\t {info['fact']}\")"
   ]
  },
  {
   "cell_type": "markdown",
   "id": "874541d3",
   "metadata": {},
   "source": [
    "## Question 7\n",
    "\n",
    "**Rental Car:** Write a program that asks the user what kind of rental car they would like. Print a message about that car, such as “Let me see if I can find you a Subaru.”"
   ]
  },
  {
   "cell_type": "code",
   "execution_count": 40,
   "id": "5283628b",
   "metadata": {},
   "outputs": [
    {
     "name": "stdout",
     "output_type": "stream",
     "text": [
      "Let me see if I can find you a Ferrari\n"
     ]
    }
   ],
   "source": [
    "x = input('What kind of car do you want? ')\n",
    "print(f'Let me see if I can find you a {x}')"
   ]
  },
  {
   "cell_type": "markdown",
   "id": "e03a200a",
   "metadata": {},
   "source": [
    "## Question 8\n",
    "\n",
    "**Restaurant Seating:** Write a program that asks the user how many people are in their dinner group. If the answer is more than eight, print a message saying they’ll have to wait for a table. Otherwise, report that their table is ready."
   ]
  },
  {
   "cell_type": "code",
   "execution_count": 42,
   "id": "96167a0f",
   "metadata": {},
   "outputs": [
    {
     "name": "stdout",
     "output_type": "stream",
     "text": [
      "Please wait for a table\n"
     ]
    }
   ],
   "source": [
    "host = int(input('How many are you? '))\n",
    "\n",
    "if host > 8:\n",
    "    print(\"Please wait for a table\")\n",
    "else: \n",
    "    print('The table is ready')\n"
   ]
  },
  {
   "cell_type": "markdown",
   "id": "a523d8a7",
   "metadata": {},
   "source": [
    "## Question 9\n",
    "\n",
    "**Multiples of Ten:** Ask the user for a number, and then report whether the number is a multiple of 10 or not."
   ]
  },
  {
   "cell_type": "code",
   "execution_count": 55,
   "id": "77c9702e",
   "metadata": {},
   "outputs": [
    {
     "name": "stdout",
     "output_type": "stream",
     "text": [
      "15 is not a multiple of 10\n"
     ]
    }
   ],
   "source": [
    "prompt = ('I will tell you if your number is multiple of 10. ')\n",
    "prompt += \"\\nEnter 'quit' to end the program. \"\n",
    "message = ''\n",
    "while message != 'quit':\n",
    "    n = int(input('Please enter your number'))\n",
    "    if n % 10 == 0:\n",
    "        print(f'{n} is a multiple of 10')\n",
    "    else:\n",
    "        print(f'{n} is not a multiple of 10') \n",
    "    prompt = input('Do you want to continue with another number y/n?')\n",
    "    if prompt == 'y':\n",
    "        pass\n",
    "    elif prompt == 'n':\n",
    "        message = 'quit'\n",
    "    else:\n",
    "        print('Take a decision please')\n"
   ]
  },
  {
   "cell_type": "markdown",
   "id": "de550983",
   "metadata": {},
   "source": [
    "## Question 10\n",
    "\n",
    "**Pizza Toppings:** Write a loop that prompts the user to enter a series of pizza toppings until they enter a 'quit' value. As they enter each topping, print a message saying you’ll add that topping to their pizza."
   ]
  },
  {
   "cell_type": "code",
   "execution_count": 7,
   "id": "11f4d8e4",
   "metadata": {},
   "outputs": [
    {
     "name": "stdout",
     "output_type": "stream",
     "text": [
      "Which topping would you like to add to your pizza?\n",
      "\n",
      "The toppings available are:\n",
      "\t0-Cheese\n",
      "\t1-Pineapple\n",
      "\t2-Nuts\n",
      "\t3-Grapes\n",
      "\t4-Jam\n",
      "\n",
      "It is not in our toppings please type a valid option\n",
      "\n",
      "You selected to Quit.\n"
     ]
    }
   ],
   "source": [
    "toppings = ['Cheese', 'Pineapple','Nuts', 'Grapes', 'Jam']\n",
    "print('Which topping would you like to add to your pizza?')\n",
    "print('\\nThe toppings available are:')\n",
    "\n",
    "for index, topping in enumerate(toppings):\n",
    "    print(f'\\t{index}-{topping}')\n",
    "\n",
    "message = ''\n",
    "\n",
    "while message != 'Quit':\n",
    "    order = input('Please place order here with the name or write \"quit\" to stop the program:')\n",
    "    order = order.title()\n",
    "\n",
    "    if order == \"Quit\":\n",
    "       message = 'Quit'\n",
    "       print(f'\\nYou selected to {message}.')\n",
    "    elif order in toppings:\n",
    "        print(f'\\nWe will {order} to your pizza') \n",
    "    else:\n",
    "        print('\\nIt is not in our toppings please type a valid option.')\n",
    "\n"
   ]
  },
  {
   "cell_type": "markdown",
   "id": "ccfe4831",
   "metadata": {},
   "source": [
    "## Question 11\n",
    "\n",
    "**Message:** Write a function called `display_message()` that prints one sentence telling everyone what you are learning about in this chapter. Call the function, and make sure the message displays correctly."
   ]
  },
  {
   "cell_type": "code",
   "execution_count": 1,
   "id": "7080b52a",
   "metadata": {},
   "outputs": [
    {
     "name": "stdout",
     "output_type": "stream",
     "text": [
      "I am learning Data Science\n"
     ]
    }
   ],
   "source": [
    "def display_message():\n",
    "    \"\"\"Display message learning goals\"\"\"\n",
    "    print(\"I am learning Data Science\")\n",
    "\n",
    "display_message()    \n"
   ]
  },
  {
   "cell_type": "markdown",
   "id": "2b5e23db",
   "metadata": {},
   "source": [
    "## Question 12\n",
    "\n",
    "**Favorite Book:** Write a function called `favorite_book()` that accepts one parameter, title. The function should print a message, such as `One of my favorite books is Alice in Wonderland`. Call the function, making sure to include a book title as an argument in the function call."
   ]
  },
  {
   "cell_type": "code",
   "execution_count": 2,
   "id": "b33bd108",
   "metadata": {},
   "outputs": [
    {
     "name": "stdout",
     "output_type": "stream",
     "text": [
      "My favorite book is 100 years of solitude\n"
     ]
    }
   ],
   "source": [
    "def favorite_book(fav_book):\n",
    "    \"\"\"Prints favorite book based on one parameter\"\"\"\n",
    "    print(f'My favorite book is {fav_book}')\n",
    "\n",
    "favorite_book(input(\"Please write yur favorite book: \"))    "
   ]
  },
  {
   "cell_type": "markdown",
   "id": "4904419f",
   "metadata": {},
   "source": [
    "## Question 13\n",
    "\n",
    "**T-Shirt:** Write a function called `make_shirt()` that accepts a size and the text of a message that should be printed on the shirt. The function should print a sentence summarizing the size of the shirt and the message printed on it.\n",
    "\n",
    "Call the function once using positional arguments to make a shirt. Call the function a second time using keyword arguments."
   ]
  },
  {
   "cell_type": "code",
   "execution_count": 5,
   "id": "53d690ca",
   "metadata": {},
   "outputs": [
    {
     "name": "stdout",
     "output_type": "stream",
     "text": [
      "You order a shirt: \n",
      "\t-Size: s \n",
      "\t-Message: Hola mundo\n"
     ]
    }
   ],
   "source": [
    "def make_shirt(size, text):\n",
    "    \"\"\"Produces a shirt based on size and text\n",
    "\n",
    "    Args:\n",
    "        size (str): size a to xll \n",
    "        text (str): message a user wants\n",
    "    \"\"\"    \n",
    "\n",
    "    print(f\"You order a shirt: \\n\\t-Size: {size} \\n\\t-Message: {text}\")\n",
    "\n",
    "make_shirt(\"s\", \"Hola mundo\")\n"
   ]
  },
  {
   "cell_type": "markdown",
   "id": "c6a6dc4b",
   "metadata": {},
   "source": [
    "## Question 14\n",
    "\n",
    "**Large Shirts:** Modify the `make_shirt()` function so that shirts are large by default with a message that reads _I love Python_. Make a large shirt and a medium shirt with the default message, and a shirt of any size with a different message."
   ]
  },
  {
   "cell_type": "code",
   "execution_count": 9,
   "id": "658f7e3f",
   "metadata": {},
   "outputs": [
    {
     "name": "stdout",
     "output_type": "stream",
     "text": [
      "You order a shirt: \n",
      "\t-Size: L \n",
      "\t-Message: I love python\n",
      "You order a shirt: \n",
      "\t-Size: M \n",
      "\t-Message: I love python\n",
      "You order a shirt: \n",
      "\t-Size: S \n",
      "\t-Message: I love programing\n"
     ]
    }
   ],
   "source": [
    "def make_shirt(size= \"L\", text= \"I love python\"):\n",
    "    \"\"\"Produces a shirt based on size and text\n",
    "\n",
    "    Args:\n",
    "        size (str): size a to xll \n",
    "        text (str): message a user wants\n",
    "    \"\"\"  \n",
    "    print(f\"You order a shirt: \\n\\t-Size: {size} \\n\\t-Message: {text}\")\n",
    "\n",
    "make_shirt()  #Default shirt\n",
    "make_shirt(size= \"M\")\n",
    "make_shirt(size= \"S\", text= \"I love programing\")\n",
    "\n"
   ]
  },
  {
   "cell_type": "markdown",
   "id": "64fd6e85",
   "metadata": {},
   "source": [
    "## Question 15\n",
    "\n",
    "**Cities:** Write a function called `describe_city()` that accepts the name of a city and its country. The function should print a simple sentence, such as `Reykjavik is in Iceland`. Give the parameter for the country a default value. Call your function for three different cities, at least one of which is not in the default country."
   ]
  },
  {
   "cell_type": "code",
   "execution_count": 12,
   "id": "bc493373",
   "metadata": {},
   "outputs": [
    {
     "name": "stdout",
     "output_type": "stream",
     "text": [
      "Bogota is in Colombia.\n",
      "Medellin is in Colombia.\n",
      "Amsterdam is in Netherlands.\n"
     ]
    }
   ],
   "source": [
    "def describe_city(city, country= \"Colombia\"):\n",
    "    \"\"\"Print a city and its country\n",
    "\n",
    "    Args:\n",
    "        city (str): name\n",
    "        country (str): name\n",
    "    \"\"\"    \n",
    "    print(f\"{city} is in {country}.\")\n",
    "\n",
    "describe_city(\"Bogota\")\n",
    "describe_city(\"Medellin\")\n",
    "describe_city(\"Amsterdam\", country= \"Netherlands\")"
   ]
  },
  {
   "cell_type": "markdown",
   "id": "259cdcdc",
   "metadata": {},
   "source": [
    "## Question 16\n",
    "\n",
    "**City Names:** Write a function called `city_country()` that takes in the name of a city and its country. The function should return a string formatted like this:\n",
    "\n",
    "```text\n",
    "Santiago, Chile\n",
    "```\n",
    "\n",
    "Call your function with at least three city-country pairs, and print the values that are returned."
   ]
  },
  {
   "cell_type": "code",
   "execution_count": 14,
   "id": "f1b5b16e",
   "metadata": {},
   "outputs": [
    {
     "name": "stdout",
     "output_type": "stream",
     "text": [
      "Bogota, Colombia\n",
      "Paris, France\n",
      "New York, United States\n"
     ]
    }
   ],
   "source": [
    "def city_country(city, country):\n",
    "    \"\"\"Returns a city pair\n",
    "\n",
    "    Args:\n",
    "        city (str): name\n",
    "        country (str): name\n",
    "    \"\"\" \n",
    "    full_string = f\"{city}, {country}\"\n",
    "    return full_string.title()\n",
    "\n",
    "pair_city_country = city_country(\"Bogota\", \"Colombia\")\n",
    "print(pair_city_country)\n",
    "pair_city_country = city_country(\"Paris\", \"France\")\n",
    "print(pair_city_country)\n",
    "pair_city_country = city_country(\"New York\", \"United States\")\n",
    "print(pair_city_country)"
   ]
  },
  {
   "cell_type": "markdown",
   "id": "491f64a4",
   "metadata": {},
   "source": [
    "## Question 17\n",
    "\n",
    "**Album:** Write a function called `make_album()` that builds a dictionary describing a music album. The function should take in an artist name and an album title, and it should return a dictionary containing these two pieces of information. Use the function to make three dictionaries representing different albums. Print each return value to show that the dictionaries are storing the album information correctly.\n",
    "\n",
    "Use None to add an optional parameter to make_album() that allows you to store the number of songs on an album. If the calling line includes a value for the number of songs, add that value to the album’s dictionary. Make at least one new function call that includes the number of songs on an album."
   ]
  },
  {
   "cell_type": "code",
   "execution_count": 4,
   "id": "550b2be6",
   "metadata": {},
   "outputs": [
    {
     "name": "stdout",
     "output_type": "stream",
     "text": [
      "{'name': 'System of a down', 'title': 'Toxicity'}\n",
      "{'name': 'La Celosa', 'title': 'Escalona', '#_songs': 8}\n"
     ]
    }
   ],
   "source": [
    "def make_album(a_name, title, num_songs= None):\n",
    "    disk = {'name': a_name, 'title': title}\n",
    "    if num_songs:\n",
    "        disk['#_songs'] = num_songs\n",
    "    return disk \n",
    "\n",
    "album = make_album(\"System of a down\", \"Toxicity\")\n",
    "print(album)\n",
    "\n",
    "album = make_album(\"La Celosa\", \"Escalona\", 8)\n",
    "print(album)\n",
    "  \n"
   ]
  },
  {
   "cell_type": "code",
   "execution_count": 10,
   "id": "40632422",
   "metadata": {},
   "outputs": [
    {
     "name": "stdout",
     "output_type": "stream",
     "text": [
      "{'name': 'System of a down', 'title': 'Toxicity'}\n",
      "{'name': 'La Celosa', 'title': 'Escalona', 'num_songs': 8}\n",
      "Number of songs must be a positive integer.\n",
      "None\n"
     ]
    }
   ],
   "source": [
    "#ANother way avoiding the zero\n",
    "\n",
    "def make_album(a_name, title, num_songs= None):\n",
    "    \"\"\"_summary_\n",
    "\n",
    "    Args:\n",
    "        a_name (str: name song\n",
    "        title (str): _description_\n",
    "        num_songs (int, optional): number of song\n",
    "\n",
    "    Returns:\n",
    "        _type_: _description_\n",
    "    \"\"\"    \n",
    "    disk = {'name': a_name, 'title': title}\n",
    "    if num_songs is not None and num_songs <= 0:\n",
    "        print(\"Number of songs must be a positive integer.\")\n",
    "        return None\n",
    "    elif num_songs:\n",
    "        disk['num_songs'] = num_songs\n",
    "    return disk\n",
    "\n",
    "album = make_album(\"System of a down\", \"Toxicity\")\n",
    "print(album)\n",
    "\n",
    "album = make_album(\"La Celosa\", \"Escalona\", 8)\n",
    "print(album)\n",
    "\n",
    "album = make_album(\"La Celosa\", \"Escalona\", -1)\n",
    "print(album)\n"
   ]
  },
  {
   "cell_type": "markdown",
   "id": "42f6a72f",
   "metadata": {},
   "source": [
    "## Question 18\n",
    "\n",
    "**User Albums:** Start with your program from Question 17. Write a `while` loop that allows users to enter an album’s artist and title. Once you have that information, call `make_album()` with the user’s input and print the dictionary that’s created. Be sure to include a quit value in the `while` loop."
   ]
  },
  {
   "cell_type": "code",
   "execution_count": 15,
   "id": "2ba9b4ba",
   "metadata": {},
   "outputs": [
    {
     "ename": "TypeError",
     "evalue": "'<=' not supported between instances of 'str' and 'int'",
     "output_type": "error",
     "traceback": [
      "\u001b[1;31m---------------------------------------------------------------------------\u001b[0m",
      "\u001b[1;31mTypeError\u001b[0m                                 Traceback (most recent call last)",
      "Cell \u001b[1;32mIn[15], line 42\u001b[0m\n\u001b[0;32m     37\u001b[0m \u001b[39melse\u001b[39;00m:\n\u001b[0;32m     38\u001b[0m     num_songs_i \u001b[39m=\u001b[39m \u001b[39mint\u001b[39m(num_songs_i)\n\u001b[1;32m---> 42\u001b[0m album \u001b[39m=\u001b[39m make_album(a_name_i, a_title_i, num_songs_i)\n\u001b[0;32m     43\u001b[0m \u001b[39mprint\u001b[39m(album)\n",
      "Cell \u001b[1;32mIn[15], line 14\u001b[0m, in \u001b[0;36mmake_album\u001b[1;34m(a_name, title, num_songs)\u001b[0m\n\u001b[0;32m      2\u001b[0m \u001b[39m\u001b[39m\u001b[39m\"\"\"\u001b[39;00m\n\u001b[0;32m      3\u001b[0m \u001b[39mCreates a dictionary album\u001b[39;00m\n\u001b[0;32m      4\u001b[0m \n\u001b[1;32m   (...)\u001b[0m\n\u001b[0;32m     11\u001b[0m \u001b[39m    dic: name, title, #\u001b[39;00m\n\u001b[0;32m     12\u001b[0m \u001b[39m\"\"\"\u001b[39;00m  \n\u001b[0;32m     13\u001b[0m disk \u001b[39m=\u001b[39m {\u001b[39m'\u001b[39m\u001b[39mname\u001b[39m\u001b[39m'\u001b[39m: a_name, \u001b[39m'\u001b[39m\u001b[39mtitle\u001b[39m\u001b[39m'\u001b[39m: title}\n\u001b[1;32m---> 14\u001b[0m \u001b[39mif\u001b[39;00m num_songs \u001b[39mis\u001b[39;00m \u001b[39mnot\u001b[39;00m \u001b[39mNone\u001b[39;00m \u001b[39mand\u001b[39;00m num_songs \u001b[39m<\u001b[39;49m\u001b[39m=\u001b[39;49m \u001b[39m0\u001b[39;49m:\n\u001b[0;32m     15\u001b[0m     \u001b[39mprint\u001b[39m(\u001b[39m\"\u001b[39m\u001b[39mNumber of songs must be a positive integer.\u001b[39m\u001b[39m\"\u001b[39m)\n\u001b[0;32m     16\u001b[0m     \u001b[39mreturn\u001b[39;00m \u001b[39mNone\u001b[39;00m\n",
      "\u001b[1;31mTypeError\u001b[0m: '<=' not supported between instances of 'str' and 'int'"
     ]
    }
   ],
   "source": [
    "def make_album(a_name, title, num_songs= None):\n",
    "    \"\"\"\n",
    "    Creates a dictionary album\n",
    "\n",
    "    Args:\n",
    "        a_name (str: name song\n",
    "        title (str): _description_\n",
    "        num_songs (int, optional): number of song\n",
    "\n",
    "    Returns:\n",
    "        dic: name, title, #\n",
    "    \"\"\"  \n",
    "    disk = {'name': a_name, 'title': title}\n",
    "    if num_songs is not None and num_songs <= 0:\n",
    "        print(\"Number of songs must be a positive integer.\")\n",
    "        return None\n",
    "    elif num_songs:\n",
    "        disk['num_songs'] = num_songs\n",
    "    return disk\n",
    "\n",
    "\n",
    "while True:\n",
    "\n",
    "    a_name_i = input(\"Insert album name:\")\n",
    "    if a_name_i == 'q':\n",
    "        break\n",
    "\n",
    "    a_title_i = input(\"Insert artist name:\")\n",
    "    if a_title_i == 'q':\n",
    "        break\n",
    "\n",
    "    num_songs_i = input(\"Insert number of songs:\")\n",
    "    if  num_songs_i == '': \n",
    "        pass\n",
    "    elif a_title_i == 'q':\n",
    "        break\n",
    "    else:\n",
    "        num_songs_i = int(num_songs_i)\n",
    "    \n",
    "    \n",
    "\n",
    "    album = make_album(a_name_i, a_title_i, num_songs_i)\n",
    "    print(album)\n",
    "\n",
    "        \n",
    "    \n"
   ]
  },
  {
   "cell_type": "markdown",
   "id": "97bab8c2",
   "metadata": {},
   "source": [
    "## Question 19\n",
    "\n",
    "**Messages:** Make a list containing a series of short text messages. Pass the list to a function called `show_messages()`, which prints each text message."
   ]
  },
  {
   "cell_type": "code",
   "execution_count": null,
   "id": "f8f3ee4e",
   "metadata": {},
   "outputs": [],
   "source": []
  },
  {
   "cell_type": "markdown",
   "id": "a8bcea3c",
   "metadata": {},
   "source": [
    "## Question 20\n",
    "\n",
    "**Sending Messages:** Start with a copy of your program from Question 19. Write a function called `send_messages()` that prints each text message and moves each message to a new list called `sent_messages` as it’s printed. After calling the function, print both of your lists to make sure the messages were moved correctly."
   ]
  },
  {
   "cell_type": "code",
   "execution_count": null,
   "id": "c5340719",
   "metadata": {},
   "outputs": [],
   "source": []
  },
  {
   "cell_type": "markdown",
   "id": "c98f1dd0",
   "metadata": {},
   "source": [
    "## Question 21\n",
    "\n",
    "**Learning Python:** Open a blank file in your text editor and write a few lines summarizing what you’ve learned about Python so far. Start each line with the phrase _In Python you can. . .._ Save the file as _learning_python.txt_ in the same directory as your exercises from this chapter. Write a program that reads the file and prints what you wrote three times. Print the contents once by reading in the entire file, once by looping over the file object, and once by storing the lines in a list and then working with them outside the _with_ block."
   ]
  },
  {
   "cell_type": "code",
   "execution_count": null,
   "id": "cb5da040",
   "metadata": {},
   "outputs": [],
   "source": []
  },
  {
   "cell_type": "markdown",
   "id": "4a1a04ad",
   "metadata": {},
   "source": [
    "## Question 22\n",
    "\n",
    "**Learning C:** You can use the replace() method to replace any word in a string with a different word. Here’s a quick example showing how to replace 'dog' with 'cat' in a sentence:\n",
    "\n",
    "```text\n",
    "message = \"I really like dogs.\"\n",
    "message.replace('dog', 'cat')\n",
    "'I really like cats.'\n",
    "```\n",
    "\n",
    "Read in each line from the file you just created, _learning_python.txt_, and replace the word _Python_ with the name of another language, such as _C_. Print each modified line to the screen."
   ]
  },
  {
   "cell_type": "code",
   "execution_count": null,
   "id": "b11b8018",
   "metadata": {},
   "outputs": [],
   "source": []
  },
  {
   "cell_type": "markdown",
   "id": "0921244a",
   "metadata": {},
   "source": [
    "## Question 23\n",
    "\n",
    "**Guest:** Write a program that prompts the user for their name. When they respond, write their name to a file called guest.txt."
   ]
  },
  {
   "cell_type": "code",
   "execution_count": null,
   "id": "340d8f4b",
   "metadata": {},
   "outputs": [],
   "source": []
  },
  {
   "cell_type": "markdown",
   "id": "24b72b21",
   "metadata": {},
   "source": [
    "## Question 24\n",
    "\n",
    "**Guest Book:** Write a while loop that prompts users for their name. When they enter their name, print a greeting to the screen and add a line recording their visit in a file called guest_book.txt. Make sure each entry appears on a new line in the file."
   ]
  },
  {
   "cell_type": "code",
   "execution_count": null,
   "id": "2326c653",
   "metadata": {},
   "outputs": [],
   "source": []
  },
  {
   "cell_type": "markdown",
   "id": "f3075d32",
   "metadata": {},
   "source": [
    "## Question 25\n",
    "\n",
    "**Programming Poll:** Write a while loop that asks people why they like programming. Each time someone enters a reason, add their reason to a file that stores all the responses."
   ]
  },
  {
   "cell_type": "code",
   "execution_count": null,
   "id": "042dfb04",
   "metadata": {},
   "outputs": [],
   "source": []
  },
  {
   "cell_type": "markdown",
   "id": "ed07a1ca",
   "metadata": {},
   "source": [
    "## Question 26\n",
    "\n",
    "**Addition:** One common problem when prompting for numerical input occurs when people provide text instead of numbers. When you try to convert the input to an int, you’ll get a ValueError. Write a program that prompts for two numbers. Add them together and print the result. Catch the ValueError if either input value is not a number, and print a friendly error message. Test your program by entering two numbers and then by entering some text instead of a number."
   ]
  },
  {
   "cell_type": "code",
   "execution_count": null,
   "id": "eaf686f8",
   "metadata": {},
   "outputs": [],
   "source": []
  },
  {
   "cell_type": "markdown",
   "id": "09db5341",
   "metadata": {},
   "source": [
    "## Question 27\n",
    "\n",
    "**Addition Calculator:** Wrap your code from Question 26 in a while loop so the user can continue entering numbers even if they make a mistake and enter text instead of a number."
   ]
  },
  {
   "cell_type": "code",
   "execution_count": null,
   "id": "916c769d",
   "metadata": {},
   "outputs": [],
   "source": []
  },
  {
   "cell_type": "markdown",
   "id": "288099a9",
   "metadata": {},
   "source": [
    "## Question 28\n",
    "\n",
    "**Cats and Dogs:** Make two files, _cats.txt_ and _dogs.txt_. Store at least three names of cats in the first file and three names of dogs in the second file. Write a program that tries to read these files and print the contents of the file to the screen. Wrap your code in a `try-except` block to catch the `FileNotFound` error, and print a friendly message if a file is missing. Move one of the files to a different location on your system, and make sure the code in the `except` block executes properly."
   ]
  },
  {
   "cell_type": "code",
   "execution_count": null,
   "id": "387672f6",
   "metadata": {},
   "outputs": [],
   "source": []
  },
  {
   "cell_type": "markdown",
   "id": "e9d28546",
   "metadata": {},
   "source": [
    "## Question 29\n",
    "\n",
    "**Silent Cats and Dogs:** Modify your except block in Question 28 to fail silently if either file is missing."
   ]
  },
  {
   "cell_type": "code",
   "execution_count": null,
   "id": "2b972722",
   "metadata": {},
   "outputs": [],
   "source": []
  },
  {
   "cell_type": "markdown",
   "id": "241ffab1",
   "metadata": {},
   "source": [
    "## Question 30\n",
    "\n",
    "**Common Words:** Visit Project Gutenberg (<https://gutenberg.org/>) and find a few texts you’d like to analyze. Download the text files for these works, or copy the raw text from your browser into a text file on your computer. You can use the `count()` method to find out how many times a word or phrase appears in a string. For example, the following code counts the number of times 'row' appears in a string:"
   ]
  },
  {
   "cell_type": "code",
   "execution_count": null,
   "id": "2a017ac9",
   "metadata": {},
   "outputs": [],
   "source": [
    "line = \"Row, row, row your boat\"\n",
    "line.count('row')"
   ]
  },
  {
   "cell_type": "code",
   "execution_count": null,
   "id": "41707165",
   "metadata": {},
   "outputs": [],
   "source": [
    "line.lower().count('row')"
   ]
  },
  {
   "cell_type": "markdown",
   "id": "5652cc4d",
   "metadata": {},
   "source": [
    "Notice that converting the string to lowercase using lower() catches all appearances of the word you’re looking for, regardless of how it’s formatted.\n",
    "\n",
    "Write a program that reads the files you found at Project Gutenberg and determines how many times the word `the` appears in each text. This will be an approximation because it will also count words such as `then` and `there`. Try counting `the`, with a space in the string, and see how much lower your count is."
   ]
  },
  {
   "cell_type": "code",
   "execution_count": null,
   "id": "55ab2af3",
   "metadata": {},
   "outputs": [],
   "source": []
  }
 ],
 "metadata": {
  "kernelspec": {
   "display_name": "geopy",
   "language": "python",
   "name": "python3"
  },
  "language_info": {
   "codemirror_mode": {
    "name": "ipython",
    "version": 3
   },
   "file_extension": ".py",
   "mimetype": "text/x-python",
   "name": "python",
   "nbconvert_exporter": "python",
   "pygments_lexer": "ipython3",
   "version": "3.9.13"
  },
  "vscode": {
   "interpreter": {
    "hash": "b0329807daf07fa51bb3919850c940c8b6765d69f6a83a6bf75b5fe4d8343ac0"
   }
  }
 },
 "nbformat": 4,
 "nbformat_minor": 5
}
